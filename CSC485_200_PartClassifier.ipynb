{
  "cells": [
    {
      "cell_type": "markdown",
      "metadata": {
        "id": "view-in-github",
        "colab_type": "text"
      },
      "source": [
        "<a href=\"https://colab.research.google.com/github/nedlecky/CSC485B/blob/main/CSC485_200_PartClassifier.ipynb\" target=\"_parent\"><img src=\"https://colab.research.google.com/assets/colab-badge.svg\" alt=\"Open In Colab\"/></a>"
      ]
    },
    {
      "cell_type": "markdown",
      "metadata": {
        "id": "nCe96qPVuVyD"
      },
      "source": [
        "# Classifier"
      ]
    },
    {
      "cell_type": "code",
      "source": [
        "# Setup and Support Functions\n",
        "import numpy as np\n",
        "import pandas as pd\n",
        "import matplotlib.pyplot as plt\n",
        "import os\n",
        "import sys\n",
        "\n",
        "# This makes us reproducible (and we can adjust fixed_seed to get different results)\n",
        "fixed_seed = 1\n",
        "\n",
        "# Return n random floats between lo and hi as 1-column NumPy matrix\n",
        "def rand_nlohi(n=1, lo=0, hi=1):\n",
        "  # This is just a uniform distribution from lo to hi... we can adjust if appropriate in the future\n",
        "  return (np.random.rand(n) * (hi - lo) + lo).reshape(-1,1)\n",
        "\n",
        "# Often a good idea as long as we are keeping values near +/- 1... don't need exponential notation\n",
        "np.set_printoptions(floatmode='fixed', precision=4, suppress=True)\n",
        "# This will get us all 400 rows printed... which fails past 40 x 2 columns\n",
        "np.set_printoptions(threshold=sys.maxsize)\n",
        "\n",
        "# Simple numpy array print with optional push to file\n",
        "def nprint(m, name='', also_write_file=False):\n",
        "  print(f\"{name} {m.shape} {m.dtype}\")\n",
        "  print(m)\n",
        "  if also_write_file and name != '':\n",
        "    fprint(m, name)\n",
        "\n",
        "# Print numpy array to file (needs name)\n",
        "path='classifier/'\n",
        "def fprint(m, name=''):\n",
        "  if name != '':\n",
        "    with open(path +  name, 'w') as f:\n",
        "      print(f\"{name} {m.shape} {m.dtype}\", file=f)\n",
        "      print(m, file=f)\n",
        "  else:\n",
        "    print('fprint needs a name!')\n",
        "\n",
        "# Remove a file and don't complain if it doesn't exist\n",
        "def remove_file(name):\n",
        "  try:\n",
        "    os.remove(name)\n",
        "  except:\n",
        "    return\n",
        "\n",
        "def empty_directory(path):\n",
        "  for file_name in os.listdir(path):\n",
        "    # construct full file path\n",
        "    file = path + file_name\n",
        "    if os.path.isfile(file):\n",
        "        print('Deleting file:', file)\n",
        "        os.remove(file)\n",
        "\n",
        "if not os.path.exists(path):\n",
        "  os.mkdir(path)\n",
        "\n",
        "empty_directory(path)\n"
      ],
      "metadata": {
        "colab": {
          "base_uri": "https://localhost:8080/"
        },
        "id": "r9HFxEwDvfsJ",
        "outputId": "01988b2e-77e3-43ad-a84c-4c9d0cd5cd46"
      },
      "execution_count": 1,
      "outputs": [
        {
          "output_type": "stream",
          "name": "stdout",
          "text": [
            "Deleting file: classifier/X_train\n",
            "Deleting file: classifier/X_test_std\n",
            "Deleting file: classifier/y_train\n",
            "Deleting file: classifier/X\n",
            "Deleting file: classifier/X_train_std\n",
            "Deleting file: classifier/y\n",
            "Deleting file: classifier/Xy\n",
            "Deleting file: classifier/X_test\n",
            "Deleting file: classifier/y_test\n"
          ]
        }
      ]
    },
    {
      "cell_type": "markdown",
      "metadata": {
        "id": "2869c0vsuVyJ"
      },
      "source": [
        "# Choosing a classification algorithm"
      ]
    },
    {
      "cell_type": "code",
      "execution_count": 2,
      "metadata": {
        "id": "mM4Jq0WKuVyK"
      },
      "outputs": [],
      "source": [
        "# Build some test data\n",
        "import random\n",
        "\n",
        "#X = [area, perimeter, num_holes, avg_holesize]\n",
        "\n",
        "def gen_small_part():\n",
        "  area = (random.random() + 1) * 100\n",
        "  perimeter = np.sqrt(area) * (random.random()+1)\n",
        "  num_holes = random.randint(3,5)\n",
        "  avg_holesize = (random.random() + 1) * 10\n",
        "  ID = 0\n",
        "  return np.array([area, perimeter, num_holes, avg_holesize, ID]).reshape(1,-1)\n",
        "\n",
        "def gen_medium_part():\n",
        "  area = (random.random() + 1) * 200\n",
        "  perimeter = np.sqrt(area) * (random.random()+1)\n",
        "  num_holes = random.randint(3,7)\n",
        "  avg_holesize = (random.random() + 1) * 12\n",
        "  ID = 1\n",
        "  return np.array([area, perimeter, num_holes, avg_holesize, ID]).reshape(1,-1)\n",
        "\n",
        "def gen_large_part():\n",
        "  area = (random.random() + 1) * 300\n",
        "  perimeter = np.sqrt(area) * (random.random()+1)\n",
        "  num_holes = random.randint(5,8)\n",
        "  avg_holesize = (random.random() + 1) * 11\n",
        "  ID = 2\n",
        "  return np.array([area, perimeter, num_holes, avg_holesize, ID]).reshape(1,-1)\n",
        "\n",
        "n_small = 50\n",
        "n_medium = 50\n",
        "n_large = 50\n",
        "Xy = gen_small_part()\n",
        "\n",
        "for i in range(n_small-1):\n",
        "  Xy = np.vstack([Xy, gen_small_part()])\n",
        "for i in range(n_medium):\n",
        "  Xy = np.vstack([Xy, gen_medium_part()])\n",
        "for i in range(n_large):\n",
        "  Xy = np.vstack([Xy, gen_large_part()])\n",
        "\n",
        "fprint(Xy, 'Xy')\n",
        "\n",
        "X = Xy[:,0:4]\n",
        "y = Xy[:,4].astype(int)  \n",
        "fprint(X, 'X')\n",
        "fprint(y, 'y')\n"
      ]
    },
    {
      "cell_type": "markdown",
      "metadata": {
        "id": "gd-MTQywuVyL"
      },
      "source": [
        "Splitting data into 70% training and 30% test data:"
      ]
    },
    {
      "cell_type": "code",
      "execution_count": 3,
      "metadata": {
        "id": "WuBygpd4uVyL"
      },
      "outputs": [],
      "source": [
        "from sklearn.model_selection import train_test_split\n",
        "\n",
        "X_train, X_test, y_train, y_test = train_test_split(\n",
        "    X, y, test_size=0.3, random_state=1, stratify=y)\n",
        "fprint(X_train, 'X_train')\n",
        "fprint(X_test, 'X_test')\n",
        "fprint(y_train, 'y_train')\n",
        "fprint(y_test, 'y_test')\n"
      ]
    },
    {
      "cell_type": "code",
      "execution_count": 4,
      "metadata": {
        "colab": {
          "base_uri": "https://localhost:8080/"
        },
        "id": "xm1cNrZhuVyL",
        "outputId": "2080deea-398f-450d-ae6c-e236c25fcbf3"
      },
      "outputs": [
        {
          "output_type": "stream",
          "name": "stdout",
          "text": [
            "Labels count in y: [50 50 50]\n",
            "Labels count in y_train: [35 35 35]\n",
            "Labels count in y_test: [15 15 15]\n"
          ]
        }
      ],
      "source": [
        "print('Labels count in y:', np.bincount(y))\n",
        "print('Labels count in y_train:', np.bincount(y_train))\n",
        "print('Labels count in y_test:', np.bincount(y_test))"
      ]
    },
    {
      "cell_type": "markdown",
      "metadata": {
        "id": "gK2s8ONjuVyL"
      },
      "source": [
        "Standardizing the features:"
      ]
    },
    {
      "cell_type": "code",
      "execution_count": 5,
      "metadata": {
        "id": "7_t0cRNDuVyM"
      },
      "outputs": [],
      "source": [
        "from sklearn.preprocessing import StandardScaler\n",
        "\n",
        "sc = StandardScaler()\n",
        "sc.fit(X_train)\n",
        "X_train_std = sc.transform(X_train)\n",
        "X_test_std = sc.transform(X_test)\n",
        "fprint(X_train_std, 'X_train_std')\n",
        "fprint(X_test_std, 'X_test_std')"
      ]
    },
    {
      "cell_type": "markdown",
      "metadata": {
        "id": "9Xlpuch4uVyM"
      },
      "source": [
        "<br>\n",
        "<br>"
      ]
    },
    {
      "cell_type": "markdown",
      "metadata": {
        "id": "cgKxk5aEuVyM"
      },
      "source": [
        "## Training a perceptron via scikit-learn"
      ]
    },
    {
      "cell_type": "code",
      "execution_count": 6,
      "metadata": {
        "colab": {
          "base_uri": "https://localhost:8080/"
        },
        "id": "wCOGIaMruVyM",
        "outputId": "e85a11cb-1886-4957-a6f8-2877b4b6aebb"
      },
      "outputs": [
        {
          "output_type": "execute_result",
          "data": {
            "text/plain": [
              "Perceptron(eta0=0.1, random_state=1)"
            ]
          },
          "metadata": {},
          "execution_count": 6
        }
      ],
      "source": [
        "from sklearn.linear_model import Perceptron\n",
        "\n",
        "ppn = Perceptron(eta0=0.1, random_state=1)\n",
        "ppn.fit(X_train_std, y_train)"
      ]
    },
    {
      "cell_type": "markdown",
      "metadata": {
        "id": "2_oyEU3vuVyN"
      },
      "source": [
        "**Note**\n",
        "\n",
        "- You can replace `Perceptron(n_iter, ...)` by `Perceptron(max_iter, ...)` in scikit-learn >= 0.19. The `n_iter` parameter is used here deliberately, because some people still use scikit-learn 0.18."
      ]
    },
    {
      "cell_type": "code",
      "execution_count": 7,
      "metadata": {
        "colab": {
          "base_uri": "https://localhost:8080/"
        },
        "id": "ZQjyAJBkuVyN",
        "outputId": "03961df6-c906-4cd1-ae60-38c8aedcde97"
      },
      "outputs": [
        {
          "output_type": "stream",
          "name": "stdout",
          "text": [
            "Misclassified TEST examples: 10\n"
          ]
        }
      ],
      "source": [
        "y_pred = ppn.predict(X_test_std)\n",
        "print('Misclassified TEST examples: %d' % (y_test != y_pred).sum())"
      ]
    },
    {
      "cell_type": "code",
      "execution_count": 8,
      "metadata": {
        "colab": {
          "base_uri": "https://localhost:8080/"
        },
        "id": "pIuEuNnauVyN",
        "outputId": "077d7fbd-0db5-43ae-9ac5-e261e58bdd00"
      },
      "outputs": [
        {
          "output_type": "stream",
          "name": "stdout",
          "text": [
            "Misclassified TRAIN examples: 15\n"
          ]
        }
      ],
      "source": [
        "y_pred_train = ppn.predict(X_train_std)\n",
        "print('Misclassified TRAIN examples: %d' % (y_train != y_pred_train).sum())"
      ]
    },
    {
      "cell_type": "code",
      "execution_count": 9,
      "metadata": {
        "colab": {
          "base_uri": "https://localhost:8080/"
        },
        "id": "ZDKhUzc5uVyN",
        "outputId": "91f06fe8-7bd1-496a-db66-c3f583429efe"
      },
      "outputs": [
        {
          "output_type": "stream",
          "name": "stdout",
          "text": [
            "Accuracy: 0.778\n"
          ]
        }
      ],
      "source": [
        "from sklearn.metrics import accuracy_score\n",
        "\n",
        "print('Accuracy: %.3f' % accuracy_score(y_test, y_pred))"
      ]
    },
    {
      "cell_type": "code",
      "execution_count": 10,
      "metadata": {
        "colab": {
          "base_uri": "https://localhost:8080/"
        },
        "id": "5CeNjYxOuVyN",
        "outputId": "10c7934e-8f3e-47a0-dd20-05cb0148a95f"
      },
      "outputs": [
        {
          "output_type": "stream",
          "name": "stdout",
          "text": [
            "Accuracy: 0.778\n"
          ]
        }
      ],
      "source": [
        "print('Accuracy: %.3f' % ppn.score(X_test_std, y_test))"
      ]
    },
    {
      "cell_type": "markdown",
      "metadata": {
        "id": "lctryoTcuVyO"
      },
      "source": [
        "Training a perceptron model using the standardized training data:"
      ]
    },
    {
      "cell_type": "markdown",
      "metadata": {
        "id": "jWDrbY6quVyP"
      },
      "source": [
        "# Modeling class probabilities via logistic regression"
      ]
    },
    {
      "cell_type": "markdown",
      "metadata": {
        "id": "2APEN4KeuVyP"
      },
      "source": [
        "### Logistic regression intuition and conditional probabilities"
      ]
    },
    {
      "cell_type": "code",
      "execution_count": 11,
      "metadata": {
        "id": "MgdIVaiiuVyQ"
      },
      "outputs": [],
      "source": [
        "class LogisticRegressionGD(object):\n",
        "    \"\"\"Logistic Regression Classifier using gradient descent.\n",
        "\n",
        "    Parameters\n",
        "    ------------\n",
        "    eta : float\n",
        "      Learning rate (between 0.0 and 1.0)\n",
        "    n_iter : int\n",
        "      Passes over the training dataset.\n",
        "    random_state : int\n",
        "      Random number generator seed for random weight\n",
        "      initialization.\n",
        "\n",
        "\n",
        "    Attributes\n",
        "    -----------\n",
        "    w_ : 1d-array\n",
        "      Weights after fitting.\n",
        "    cost_ : list\n",
        "      Logistic cost function value in each epoch.\n",
        "\n",
        "    \"\"\"\n",
        "    def __init__(self, eta=0.05, n_iter=100, random_state=1):\n",
        "        self.eta = eta\n",
        "        self.n_iter = n_iter\n",
        "        self.random_state = random_state\n",
        "\n",
        "    def fit(self, X, y):\n",
        "        \"\"\" Fit training data.\n",
        "\n",
        "        Parameters\n",
        "        ----------\n",
        "        X : {array-like}, shape = [n_examples, n_features]\n",
        "          Training vectors, where n_examples is the number of examples and\n",
        "          n_features is the number of features.\n",
        "        y : array-like, shape = [n_examples]\n",
        "          Target values.\n",
        "\n",
        "        Returns\n",
        "        -------\n",
        "        self : object\n",
        "\n",
        "        \"\"\"\n",
        "        rgen = np.random.RandomState(self.random_state)\n",
        "        self.w_ = rgen.normal(loc=0.0, scale=0.01, size=1 + X.shape[1])\n",
        "        self.cost_ = []\n",
        "\n",
        "        for i in range(self.n_iter):\n",
        "            net_input = self.net_input(X)\n",
        "            output = self.activation(net_input)\n",
        "            errors = (y - output)\n",
        "            self.w_[1:] += self.eta * X.T.dot(errors)\n",
        "            self.w_[0] += self.eta * errors.sum()\n",
        "            \n",
        "            # note that we compute the logistic `cost` now\n",
        "            # instead of the sum of squared errors cost\n",
        "            cost = -y.dot(np.log(output)) - ((1 - y).dot(np.log(1 - output)))\n",
        "            self.cost_.append(cost)\n",
        "        return self\n",
        "    \n",
        "    def net_input(self, X):\n",
        "        \"\"\"Calculate net input\"\"\"\n",
        "        return np.dot(X, self.w_[1:]) + self.w_[0]\n",
        "\n",
        "    def activation(self, z):\n",
        "        \"\"\"Compute logistic sigmoid activation\"\"\"\n",
        "        return 1. / (1. + np.exp(-np.clip(z, -250, 250)))\n",
        "\n",
        "    def predict(self, X):\n",
        "        \"\"\"Return class label after unit step\"\"\"\n",
        "        return np.where(self.net_input(X) >= 0.0, 1, 0)\n",
        "        # equivalent to:\n",
        "        # return np.where(self.activation(self.net_input(X)) >= 0.5, 1, 0)"
      ]
    },
    {
      "cell_type": "code",
      "execution_count": 12,
      "metadata": {
        "colab": {
          "base_uri": "https://localhost:8080/"
        },
        "id": "7K1uX7iYuVyR",
        "outputId": "090ce395-3fa9-44ae-a228-1777fd09f9e0"
      },
      "outputs": [
        {
          "output_type": "execute_result",
          "data": {
            "text/plain": [
              "<__main__.LogisticRegressionGD at 0x7f5f976acb20>"
            ]
          },
          "metadata": {},
          "execution_count": 12
        }
      ],
      "source": [
        "X_train_01_subset = X_train_std[(y_train == 0) | (y_train == 1)]\n",
        "y_train_01_subset = y_train[(y_train == 0) | (y_train == 1)]\n",
        "\n",
        "lrgd = LogisticRegressionGD(eta=0.05, n_iter=1000, random_state=1)\n",
        "lrgd.fit(X_train_01_subset,\n",
        "         y_train_01_subset)\n",
        "\n"
      ]
    },
    {
      "cell_type": "markdown",
      "metadata": {
        "id": "0bILdpFKuVyR"
      },
      "source": [
        "### Training a logistic regression model with scikit-learn"
      ]
    },
    {
      "cell_type": "code",
      "execution_count": 13,
      "metadata": {
        "colab": {
          "base_uri": "https://localhost:8080/"
        },
        "id": "w51I6D2_uVyR",
        "outputId": "c82bfc63-17dc-4a48-eac8-8ad92c56e51f"
      },
      "outputs": [
        {
          "output_type": "execute_result",
          "data": {
            "text/plain": [
              "LogisticRegression(C=100.0, multi_class='ovr', random_state=1)"
            ]
          },
          "metadata": {},
          "execution_count": 13
        }
      ],
      "source": [
        "from sklearn.linear_model import LogisticRegression\n",
        "\n",
        "lr = LogisticRegression(C=100.0, random_state=1, solver='lbfgs', multi_class='ovr')\n",
        "lr.fit(X_train_std, y_train)\n",
        "\n"
      ]
    },
    {
      "cell_type": "code",
      "execution_count": 14,
      "metadata": {
        "colab": {
          "base_uri": "https://localhost:8080/"
        },
        "id": "hXMA4sBZuVyR",
        "outputId": "e830b365-4cc4-4912-d50f-781c4e43d108"
      },
      "outputs": [
        {
          "output_type": "execute_result",
          "data": {
            "text/plain": [
              "array([[0.0000, 0.1336, 0.8664],\n",
              "       [0.5864, 0.4136, 0.0000],\n",
              "       [0.5977, 0.4023, 0.0000]])"
            ]
          },
          "metadata": {},
          "execution_count": 14
        }
      ],
      "source": [
        "lr.predict_proba(X_test_std[:3, :])"
      ]
    },
    {
      "cell_type": "code",
      "execution_count": 15,
      "metadata": {
        "colab": {
          "base_uri": "https://localhost:8080/"
        },
        "id": "gWYhOZ4ruVyS",
        "outputId": "514028a2-5b86-4b76-ff63-3157cbef3bd6"
      },
      "outputs": [
        {
          "output_type": "execute_result",
          "data": {
            "text/plain": [
              "array([1.0000, 1.0000, 1.0000])"
            ]
          },
          "metadata": {},
          "execution_count": 15
        }
      ],
      "source": [
        "lr.predict_proba(X_test_std[:3, :]).sum(axis=1)"
      ]
    },
    {
      "cell_type": "code",
      "execution_count": 16,
      "metadata": {
        "colab": {
          "base_uri": "https://localhost:8080/"
        },
        "id": "22uFvTRHuVyS",
        "outputId": "3301b3b6-3439-4ad3-b2ff-27110d195d0d"
      },
      "outputs": [
        {
          "output_type": "execute_result",
          "data": {
            "text/plain": [
              "array([2, 0, 0])"
            ]
          },
          "metadata": {},
          "execution_count": 16
        }
      ],
      "source": [
        "lr.predict_proba(X_test_std[:3, :]).argmax(axis=1)"
      ]
    },
    {
      "cell_type": "code",
      "execution_count": 17,
      "metadata": {
        "colab": {
          "base_uri": "https://localhost:8080/"
        },
        "id": "CEMh3QTIuVyS",
        "outputId": "6f561a3b-7e6c-4638-c12c-45d068714b10"
      },
      "outputs": [
        {
          "output_type": "execute_result",
          "data": {
            "text/plain": [
              "array([2, 0, 0])"
            ]
          },
          "metadata": {},
          "execution_count": 17
        }
      ],
      "source": [
        "lr.predict(X_test_std[:3, :])"
      ]
    },
    {
      "cell_type": "code",
      "execution_count": 18,
      "metadata": {
        "colab": {
          "base_uri": "https://localhost:8080/"
        },
        "id": "LPZzP-OQuVyS",
        "outputId": "8a08118f-44b9-457d-dd2e-aeaaf6ba0b44"
      },
      "outputs": [
        {
          "output_type": "execute_result",
          "data": {
            "text/plain": [
              "array([2])"
            ]
          },
          "metadata": {},
          "execution_count": 18
        }
      ],
      "source": [
        "lr.predict(X_test_std[0, :].reshape(1, -1))"
      ]
    },
    {
      "cell_type": "markdown",
      "metadata": {
        "id": "uxNCYTt-uVyS"
      },
      "source": [
        "<br>\n",
        "<br>"
      ]
    },
    {
      "cell_type": "markdown",
      "metadata": {
        "id": "5QzET0m7uVyT"
      },
      "source": [
        "### Tackling overfitting via regularization"
      ]
    },
    {
      "cell_type": "code",
      "execution_count": 19,
      "metadata": {
        "id": "ptGLjlz0uVyT"
      },
      "outputs": [],
      "source": [
        "weights, params = [], []\n",
        "for c in np.arange(-5, 5):\n",
        "    lr = LogisticRegression(C=10.**c, random_state=1,\n",
        "                            solver='lbfgs',\n",
        "                            multi_class='ovr')\n",
        "    lr.fit(X_train_std, y_train)\n",
        "    weights.append(lr.coef_[1])\n",
        "    params.append(10.**c)\n",
        "\n",
        "weights = np.array(weights)\n"
      ]
    },
    {
      "cell_type": "markdown",
      "metadata": {
        "id": "ChjvAAu_uVyT"
      },
      "source": [
        "<br>\n",
        "<br>"
      ]
    },
    {
      "cell_type": "code",
      "execution_count": 20,
      "metadata": {
        "colab": {
          "base_uri": "https://localhost:8080/"
        },
        "id": "sxEeDx0luVyU",
        "outputId": "72bfa84c-c3fe-4964-c4ab-bd2d05ac567c"
      },
      "outputs": [
        {
          "output_type": "execute_result",
          "data": {
            "text/plain": [
              "SVC(kernel='linear', random_state=1)"
            ]
          },
          "metadata": {},
          "execution_count": 20
        }
      ],
      "source": [
        "from sklearn.svm import SVC\n",
        "\n",
        "svm = SVC(kernel='linear', C=1.0, random_state=1)\n",
        "svm.fit(X_train_std, y_train)\n",
        "\n"
      ]
    },
    {
      "cell_type": "markdown",
      "metadata": {
        "id": "kBbeGVQ-uVyU"
      },
      "source": [
        "## Alternative implementations in scikit-learn"
      ]
    },
    {
      "cell_type": "code",
      "execution_count": 21,
      "metadata": {
        "id": "-36yW8IjuVyV"
      },
      "outputs": [],
      "source": [
        "from sklearn.linear_model import SGDClassifier\n",
        "\n",
        "ppn = SGDClassifier(loss='perceptron')\n",
        "lr = SGDClassifier(loss='log')\n",
        "svm = SGDClassifier(loss='hinge')"
      ]
    },
    {
      "cell_type": "markdown",
      "metadata": {
        "id": "-6G_9jMNuVyV"
      },
      "source": [
        "<br>\n",
        "<br>"
      ]
    },
    {
      "cell_type": "code",
      "execution_count": 22,
      "metadata": {
        "colab": {
          "base_uri": "https://localhost:8080/"
        },
        "id": "1Jfe4J5wuVyW",
        "outputId": "2fdd075c-7e8b-4c34-8a16-cef114a982fa"
      },
      "outputs": [
        {
          "output_type": "execute_result",
          "data": {
            "text/plain": [
              "SVC(gamma=0.2, random_state=1)"
            ]
          },
          "metadata": {},
          "execution_count": 22
        }
      ],
      "source": [
        "from sklearn.svm import SVC\n",
        "\n",
        "svm = SVC(kernel='rbf', random_state=1, gamma=0.2, C=1.0)\n",
        "svm.fit(X_train_std, y_train)\n"
      ]
    },
    {
      "cell_type": "code",
      "execution_count": 23,
      "metadata": {
        "colab": {
          "base_uri": "https://localhost:8080/"
        },
        "id": "m1VaYMMxuVyW",
        "outputId": "400fc61c-e924-4919-ce27-2daa04c6aa01"
      },
      "outputs": [
        {
          "output_type": "execute_result",
          "data": {
            "text/plain": [
              "SVC(gamma=100.0, random_state=1)"
            ]
          },
          "metadata": {},
          "execution_count": 23
        }
      ],
      "source": [
        "svm = SVC(kernel='rbf', random_state=1, gamma=100.0, C=1.0)\n",
        "svm.fit(X_train_std, y_train)\n"
      ]
    },
    {
      "cell_type": "markdown",
      "metadata": {
        "id": "7IdrhiK8uVyW"
      },
      "source": [
        "# Decision tree learning"
      ]
    },
    {
      "cell_type": "markdown",
      "metadata": {
        "id": "OKl7DTuKuVyX"
      },
      "source": [
        "## Maximizing information gain - getting the most bang for the buck"
      ]
    },
    {
      "cell_type": "markdown",
      "metadata": {
        "id": "F3Y2DmMbuVyX"
      },
      "source": [
        "<br>\n",
        "<br>"
      ]
    },
    {
      "cell_type": "markdown",
      "metadata": {
        "id": "RTTUvFSvuVyY"
      },
      "source": [
        "## Building a decision tree"
      ]
    },
    {
      "cell_type": "code",
      "execution_count": 24,
      "metadata": {
        "id": "rar_t9lIuVyY"
      },
      "outputs": [],
      "source": [
        "from sklearn.tree import DecisionTreeClassifier\n",
        "\n",
        "tree_model = DecisionTreeClassifier(criterion='gini', \n",
        "                                    max_depth=4, \n",
        "                                    random_state=1)\n",
        "tree_model.fit(X_train, y_train)\n",
        "\n",
        "X_combined = np.vstack((X_train, X_test))\n",
        "y_combined = np.hstack((y_train, y_test))\n"
      ]
    },
    {
      "cell_type": "code",
      "execution_count": 25,
      "metadata": {
        "colab": {
          "base_uri": "https://localhost:8080/",
          "height": 248
        },
        "id": "iv_2Ob-yuVyY",
        "outputId": "d3acf224-d1b1-45b7-8624-b2f0bbca1e42"
      },
      "outputs": [
        {
          "output_type": "display_data",
          "data": {
            "text/plain": [
              "<Figure size 432x288 with 1 Axes>"
            ],
            "image/png": "[encoded data removed]"
          },
          "metadata": {
            "needs_background": "light"
          }
        }
      ],
      "source": [
        "from sklearn import tree\n",
        "\n",
        "tree.plot_tree(tree_model)\n",
        "#plt.savefig('images/03_21_1.pdf')\n",
        "plt.show()"
      ]
    },
    {
      "cell_type": "markdown",
      "metadata": {
        "id": "mva1nRiRuVyY"
      },
      "source": [
        "<br>\n",
        "<br>"
      ]
    },
    {
      "cell_type": "code",
      "execution_count": 27,
      "metadata": {
        "colab": {
          "base_uri": "https://localhost:8080/"
        },
        "id": "kehL9QkVuVyY",
        "outputId": "cc4c16b3-3f54-4a5a-8b98-ff7391d62d04"
      },
      "outputs": [
        {
          "output_type": "execute_result",
          "data": {
            "text/plain": [
              "True"
            ]
          },
          "metadata": {},
          "execution_count": 27
        }
      ],
      "source": [
        "from pydotplus import graph_from_dot_data\n",
        "from sklearn.tree import export_graphviz\n",
        "\n",
        "dot_data = export_graphviz(tree_model,\n",
        "                           filled=True, \n",
        "                           rounded=True,\n",
        "                           class_names=['small', \n",
        "                                        'medium',\n",
        "                                        'large'],\n",
        "                           feature_names=['area', \n",
        "                                          'perimeter',\n",
        "                                          'num_holes',\n",
        "                                          'avg_holesize'],\n",
        "                           out_file=None) \n",
        "graph = graph_from_dot_data(dot_data) \n",
        "graph.write_png('tree.png') "
      ]
    },
    {
      "cell_type": "markdown",
      "metadata": {
        "id": "aXZCMPHJuVyZ"
      },
      "source": [
        "## Combining weak to strong learners via random forests"
      ]
    },
    {
      "cell_type": "code",
      "execution_count": 28,
      "metadata": {
        "colab": {
          "base_uri": "https://localhost:8080/"
        },
        "id": "cbh3pvsEuVyZ",
        "outputId": "861da32e-e7ba-4340-82e3-e2c46fb925c4"
      },
      "outputs": [
        {
          "output_type": "execute_result",
          "data": {
            "text/plain": [
              "RandomForestClassifier(n_estimators=25, n_jobs=2, random_state=1)"
            ]
          },
          "metadata": {},
          "execution_count": 28
        }
      ],
      "source": [
        "from sklearn.ensemble import RandomForestClassifier\n",
        "\n",
        "forest = RandomForestClassifier(criterion='gini',\n",
        "                                n_estimators=25, \n",
        "                                random_state=1,\n",
        "                                n_jobs=2)\n",
        "forest.fit(X_train, y_train)\n",
        "\n"
      ]
    },
    {
      "cell_type": "markdown",
      "metadata": {
        "id": "Gd4ObvmIuVyZ"
      },
      "source": [
        "# K-nearest neighbors - a lazy learning algorithm"
      ]
    },
    {
      "cell_type": "code",
      "execution_count": 29,
      "metadata": {
        "colab": {
          "base_uri": "https://localhost:8080/"
        },
        "id": "q4C5aXRpuVya",
        "outputId": "8a946fe8-8eb8-40a1-89d1-b181c9b8e8fa"
      },
      "outputs": [
        {
          "output_type": "execute_result",
          "data": {
            "text/plain": [
              "KNeighborsClassifier()"
            ]
          },
          "metadata": {},
          "execution_count": 29
        }
      ],
      "source": [
        "from sklearn.neighbors import KNeighborsClassifier\n",
        "\n",
        "knn = KNeighborsClassifier(n_neighbors=5, \n",
        "                           p=2, \n",
        "                           metric='minkowski')\n",
        "knn.fit(X_train_std, y_train)\n",
        "\n"
      ]
    },
    {
      "cell_type": "code",
      "source": [],
      "metadata": {
        "id": "Cy0nWWGX_nMF"
      },
      "execution_count": null,
      "outputs": []
    }
  ],
  "metadata": {
    "anaconda-cloud": {},
    "kernelspec": {
      "display_name": "Python 3 (ipykernel)",
      "language": "python",
      "name": "python3"
    },
    "language_info": {
      "codemirror_mode": {
        "name": "ipython",
        "version": 3
      },
      "file_extension": ".py",
      "mimetype": "text/x-python",
      "name": "python",
      "nbconvert_exporter": "python",
      "pygments_lexer": "ipython3",
      "version": "3.9.13"
    },
    "toc": {
      "nav_menu": {},
      "number_sections": true,
      "sideBar": true,
      "skip_h1_title": false,
      "title_cell": "Table of Contents",
      "title_sidebar": "Contents",
      "toc_cell": false,
      "toc_position": {},
      "toc_section_display": true,
      "toc_window_display": false
    },
    "colab": {
      "provenance": [],
      "include_colab_link": true
    }
  },
  "nbformat": 4,
  "nbformat_minor": 0
}