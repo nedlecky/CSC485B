{
  "nbformat": 4,
  "nbformat_minor": 0,
  "metadata": {
    "colab": {
      "provenance": [],
      "authorship_tag": "ABX9TyOJ9eGnLgfONFh5MJEXWvj7",
      "include_colab_link": true
    },
    "kernelspec": {
      "name": "python3",
      "display_name": "Python 3"
    },
    "language_info": {
      "name": "python"
    }
  },
  "cells": [
    {
      "cell_type": "markdown",
      "metadata": {
        "id": "view-in-github",
        "colab_type": "text"
      },
      "source": [
        "<a href=\"https://colab.research.google.com/github/nedlecky/CSC485B/blob/main/CSC485_110_ThermocoupleConverter.ipynb\" target=\"_parent\"><img src=\"https://colab.research.google.com/assets/colab-badge.svg\" alt=\"Open In Colab\"/></a>"
      ]
    },
    {
      "cell_type": "markdown",
      "source": [
        "# CSC 485B Spring 2023: CSC485_110_ThermocoupleConverter using Linear Regression!\n",
        "## (Thermocouples are linear, right??)\n",
        "* SUNY Plattsburgh, Spring 2023\n",
        "* Dr. Ned Lecky\n",
        "* nleck001@plattsburgh.edu\n",
        "* ned@lecky.com"
      ],
      "metadata": {
        "id": "QBwjvn9X7lgy"
      }
    },
    {
      "cell_type": "code",
      "execution_count": 1,
      "metadata": {
        "id": "nedp4wU8pITb"
      },
      "outputs": [],
      "source": [
        "import numpy as np\n",
        "\n",
        "# Pt-10% Rh Thermocouple data from Applied Numerical Methods, Carnahan, Luther, and Wilkes ISBN 471-13507-0\n",
        "\n",
        "# EMF(mV) , Temperature(F)\n",
        "x = np.array([0,300,500,1000,1500,1700,2000,2500,3000,3300,3500,4000,4500,5000,5300,5500,5900,6000], dtype='f')\n",
        "y = np.array([32.0,122.4,176.0,296.4,405.7,447.6,509.0,608.4,704.7,761.4,799.0,891.9,983.0,1072.6,1125.7,1160.8,1230.3,1247.5])\n"
      ]
    },
    {
      "cell_type": "code",
      "source": [
        "# Let's take a look at the sample data\n",
        "import matplotlib.pyplot as plt\n",
        "\n",
        "plt.scatter(x,y, color='black')\n",
        "plt.plot(x,y)\n",
        "\n",
        "plt.title('Raw Data')\n",
        "plt.xlabel('EMF_mV')\n",
        "plt.ylabel('Temp_F')\n",
        "plt.grid()\n",
        "plt.show()\n"
      ],
      "metadata": {
        "id": "TJL4mgNPw0b7",
        "colab": {
          "base_uri": "https://localhost:8080/",
          "height": 296
        },
        "outputId": "4e9f2ace-fb9d-48d8-d841-f79a95ecabeb"
      },
      "execution_count": 2,
      "outputs": [
        {
          "output_type": "display_data",
          "data": {
            "text/plain": [
              "<Figure size 432x288 with 1 Axes>"
            ],
            "image/png": "[encoded data removed]"
          },
          "metadata": {
            "needs_background": "light"
          }
        }
      ]
    },
    {
      "cell_type": "code",
      "source": [
        "# I guess it looks sort of linear. Let's try...\n",
        "\n",
        "# For n inputs and m outputs with N examples... (Note here n=m=1 and N=2)\n",
        "# We need X to be an Nxn matrix and Y to be an Nxm matrix\n",
        "n=1 # 1 input\n",
        "m=1 # 1 output\n",
        "N = x.shape[0]\n",
        "X = x.reshape(N,n)\n",
        "Y = y.reshape(N,m)\n",
        "print(f\"N={N} n={n} m={m}\")\n"
      ],
      "metadata": {
        "id": "ZH6LDk1M90kH",
        "colab": {
          "base_uri": "https://localhost:8080/"
        },
        "outputId": "3f5e6073-64a4-482c-a4da-859b662171a2"
      },
      "execution_count": 3,
      "outputs": [
        {
          "output_type": "stream",
          "name": "stdout",
          "text": [
            "N=18 n=1 m=1\n"
          ]
        }
      ]
    },
    {
      "cell_type": "code",
      "source": [
        "# Traditional linear regression fit...\n",
        "from sklearn import linear_model\n",
        "from sklearn.metrics import mean_squared_error, mean_absolute_error, mean_absolute_percentage_error\n",
        "import pandas as pd\n",
        "\n",
        "def try_linear(X_in):\n",
        "  regr = linear_model.LinearRegression()\n",
        "  regr.fit(X_in, Y)\n",
        "\n",
        "  np.set_printoptions(precision=3) # This seems to be necessary\n",
        "  print(f\"Coefficients: {regr.coef_[0]}\")\n",
        "  print(f\"Offsets: {regr.intercept_}\")\n",
        "  print(f\"In other words, Temp, F = {regr.coef_[0]} * X + {regr.intercept_}\")\n",
        "\n",
        "  Y_pred = regr.predict(X_in)\n",
        "  print(f\"Mean squared error: {mean_squared_error(Y, Y_pred):.2f}\")\n",
        "  print(f\"Mean absolute error: {mean_absolute_error(Y, Y_pred):.2f}\")\n",
        "  print(f\"Mean absolute percentage error: {mean_absolute_percentage_error(Y, Y_pred):.2f}\")\n",
        "\n",
        "  # Put error in pandas so we can use .describe()\n",
        "  e = pd.DataFrame(Y_pred-Y, columns=['deltaT_F'])\n",
        "  print(e.describe())\n",
        "  # Probably not very good performance!\n",
        "\n",
        "  # Plot original and predicted\n",
        "  plt.scatter(X, Y, color=\"black\")\n",
        "  plt.plot(X, Y_pred, color=\"blue\", linewidth=3)\n",
        "  plt.title('Raw Data')\n",
        "  plt.xlabel('Voltage')\n",
        "  plt.ylabel('Temp. F')\n",
        "  plt.grid()\n",
        "  plt.show()\n",
        "\n",
        "try_linear(X)\n"
      ],
      "metadata": {
        "id": "YDCaPOeifAYp",
        "colab": {
          "base_uri": "https://localhost:8080/",
          "height": 555
        },
        "outputId": "12021d05-8780-4dc4-9153-0fa68ea0af80"
      },
      "execution_count": 4,
      "outputs": [
        {
          "output_type": "stream",
          "name": "stdout",
          "text": [
            "Coefficients: [0.197]\n",
            "Offsets: [90.905]\n",
            "In other words, Temp, F = [0.197] * X + [90.905]\n",
            "Mean squared error: 526.05\n",
            "Mean absolute error: 19.65\n",
            "Mean absolute percentage error: 0.14\n",
            "        deltaT_F\n",
            "count  18.000000\n",
            "mean   -0.000016\n",
            "std    23.600665\n",
            "min   -24.787329\n",
            "25%   -19.883249\n",
            "50%    -6.816577\n",
            "75%    13.907935\n",
            "max    58.905151\n"
          ]
        },
        {
          "output_type": "display_data",
          "data": {
            "text/plain": [
              "<Figure size 432x288 with 1 Axes>"
            ],
            "image/png": "[encoded data removed]"
          },
          "metadata": {
            "needs_background": "light"
          }
        }
      ]
    },
    {
      "cell_type": "markdown",
      "source": [
        "# So, LinearRegression isn't really too appropriate here"
      ],
      "metadata": {
        "id": "2ELurlUyC3MQ"
      }
    },
    {
      "cell_type": "code",
      "source": [
        "# One way to do \"nonlinear regression\" is to add additional nonlinear versions of X to it...\n",
        "from sklearn.preprocessing import PolynomialFeatures\n",
        "poly = PolynomialFeatures(2)\n",
        "X_add_poly=poly.fit_transform(X)\n",
        "print(X)\n",
        "X_add_poly"
      ],
      "metadata": {
        "colab": {
          "base_uri": "https://localhost:8080/"
        },
        "id": "pXQ3jGkmC7TG",
        "outputId": "127d9867-0288-4845-9686-b1eb40d533a7"
      },
      "execution_count": 5,
      "outputs": [
        {
          "output_type": "stream",
          "name": "stdout",
          "text": [
            "[[   0.]\n",
            " [ 300.]\n",
            " [ 500.]\n",
            " [1000.]\n",
            " [1500.]\n",
            " [1700.]\n",
            " [2000.]\n",
            " [2500.]\n",
            " [3000.]\n",
            " [3300.]\n",
            " [3500.]\n",
            " [4000.]\n",
            " [4500.]\n",
            " [5000.]\n",
            " [5300.]\n",
            " [5500.]\n",
            " [5900.]\n",
            " [6000.]]\n"
          ]
        },
        {
          "output_type": "execute_result",
          "data": {
            "text/plain": [
              "array([[1.000e+00, 0.000e+00, 0.000e+00],\n",
              "       [1.000e+00, 3.000e+02, 9.000e+04],\n",
              "       [1.000e+00, 5.000e+02, 2.500e+05],\n",
              "       [1.000e+00, 1.000e+03, 1.000e+06],\n",
              "       [1.000e+00, 1.500e+03, 2.250e+06],\n",
              "       [1.000e+00, 1.700e+03, 2.890e+06],\n",
              "       [1.000e+00, 2.000e+03, 4.000e+06],\n",
              "       [1.000e+00, 2.500e+03, 6.250e+06],\n",
              "       [1.000e+00, 3.000e+03, 9.000e+06],\n",
              "       [1.000e+00, 3.300e+03, 1.089e+07],\n",
              "       [1.000e+00, 3.500e+03, 1.225e+07],\n",
              "       [1.000e+00, 4.000e+03, 1.600e+07],\n",
              "       [1.000e+00, 4.500e+03, 2.025e+07],\n",
              "       [1.000e+00, 5.000e+03, 2.500e+07],\n",
              "       [1.000e+00, 5.300e+03, 2.809e+07],\n",
              "       [1.000e+00, 5.500e+03, 3.025e+07],\n",
              "       [1.000e+00, 5.900e+03, 3.481e+07],\n",
              "       [1.000e+00, 6.000e+03, 3.600e+07]], dtype=float32)"
            ]
          },
          "metadata": {},
          "execution_count": 5
        }
      ]
    },
    {
      "cell_type": "code",
      "source": [
        "try_linear(X_add_poly)"
      ],
      "metadata": {
        "colab": {
          "base_uri": "https://localhost:8080/",
          "height": 555
        },
        "id": "M_xLEbw-D3P9",
        "outputId": "005e899f-4f3d-4eba-c752-370fd65f8820"
      },
      "execution_count": 6,
      "outputs": [
        {
          "output_type": "stream",
          "name": "stdout",
          "text": [
            "Coefficients: [ 0.000e+00  2.392e-01 -6.855e-06]\n",
            "Offsets: [52.068]\n",
            "In other words, Temp, F = [ 0.000e+00  2.392e-01 -6.855e-06] * X + [52.068]\n",
            "Mean squared error: 59.89\n",
            "Mean absolute error: 6.26\n",
            "Mean absolute percentage error: 0.05\n",
            "        deltaT_F\n",
            "count  18.000000\n",
            "mean   -0.000022\n",
            "std     7.962984\n",
            "min   -11.956824\n",
            "25%    -5.995819\n",
            "50%     0.251471\n",
            "75%     5.174207\n",
            "max    20.067688\n"
          ]
        },
        {
          "output_type": "display_data",
          "data": {
            "text/plain": [
              "<Figure size 432x288 with 1 Axes>"
            ],
            "image/png": "[encoded data removed]"
          },
          "metadata": {
            "needs_background": "light"
          }
        }
      ]
    },
    {
      "cell_type": "code",
      "source": [
        "# That's better!\n",
        "# Maybe try 3-order poly??\n",
        "poly = PolynomialFeatures(3)\n",
        "X_add_poly=poly.fit_transform(X)\n",
        "try_linear(X_add_poly)\n",
        "# And now it's bizarre\n"
      ],
      "metadata": {
        "colab": {
          "base_uri": "https://localhost:8080/",
          "height": 555
        },
        "id": "iGc809sdEy_j",
        "outputId": "c62348bb-a607-48ec-a0af-5020beba2741"
      },
      "execution_count": 8,
      "outputs": [
        {
          "output_type": "stream",
          "name": "stdout",
          "text": [
            "Coefficients: [ 0.000e+00 -4.245e-12  8.480e-12  2.176e-08 -2.926e-12]\n",
            "Offsets: [264.412]\n",
            "In other words, Temp, F = [ 0.000e+00 -4.245e-12  8.480e-12  2.176e-08 -2.926e-12] * X + [264.412]\n",
            "Mean squared error: 9267.16\n",
            "Mean absolute error: 82.63\n",
            "Mean absolute percentage error: 0.58\n",
            "         deltaT_F\n",
            "count   18.000000\n",
            "mean    -0.000192\n",
            "std     99.056990\n",
            "min   -118.342169\n",
            "25%    -80.913565\n",
            "50%    -27.007816\n",
            "75%     67.847803\n",
            "max    232.411682\n"
          ]
        },
        {
          "output_type": "display_data",
          "data": {
            "text/plain": [
              "<Figure size 432x288 with 1 Axes>"
            ],
            "image/png": "[encoded data removed]"
          },
          "metadata": {
            "needs_background": "light"
          }
        }
      ]
    },
    {
      "cell_type": "code",
      "source": [],
      "metadata": {
        "id": "kQoeAAf7Grr-"
      },
      "execution_count": null,
      "outputs": []
    }
  ]
}