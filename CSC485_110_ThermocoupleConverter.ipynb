{
  "nbformat": 4,
  "nbformat_minor": 0,
  "metadata": {
    "colab": {
      "provenance": [],
      "authorship_tag": "ABX9TyMAMoYboFiLOh55ILaIgIWo",
      "include_colab_link": true
    },
    "kernelspec": {
      "name": "python3",
      "display_name": "Python 3"
    },
    "language_info": {
      "name": "python"
    }
  },
  "cells": [
    {
      "cell_type": "markdown",
      "metadata": {
        "id": "view-in-github",
        "colab_type": "text"
      },
      "source": [
        "<a href=\"https://colab.research.google.com/github/nedlecky/CSC485B/blob/main/CSC485_110_ThermocoupleConverter.ipynb\" target=\"_parent\"><img src=\"https://colab.research.google.com/assets/colab-badge.svg\" alt=\"Open In Colab\"/></a>"
      ]
    },
    {
      "cell_type": "markdown",
      "source": [
        "# CSC 485B Spring 2023\n",
        "## Linear Regression for a thermocouple conversion!\n",
        "## (Which is linear, right??)"
      ],
      "metadata": {
        "id": "QBwjvn9X7lgy"
      }
    },
    {
      "cell_type": "code",
      "execution_count": 1,
      "metadata": {
        "id": "nedp4wU8pITb"
      },
      "outputs": [],
      "source": [
        "import numpy as np\n",
        "\n",
        "# Voltage(mV) , Temperature(F)\n",
        "x = np.array([0,300,500,1000,1500,1700,2000,2500,3000,3300,3500,4000,4500,5000,5300,5500,5900,6000], dtype='f')\n",
        "y = np.array([32.0,122.4,176.0,296.4,405.7,447.6,509.0,608.4,704.7,761.4,799.0,891.9,983.0,1072.6,1125.7,1160.8,1230.3,1247.5])\n"
      ]
    },
    {
      "cell_type": "code",
      "source": [
        "# Let's take a look at the sample data\n",
        "import matplotlib.pyplot as plt\n",
        "\n",
        "plt.scatter(x,y, color='black')\n",
        "plt.plot(x,y)\n",
        "\n",
        "plt.title('Raw Data')\n",
        "plt.xlabel('EMF_mV')\n",
        "plt.ylabel('Temp_F')\n",
        "plt.grid()\n",
        "plt.show()\n"
      ],
      "metadata": {
        "id": "TJL4mgNPw0b7",
        "colab": {
          "base_uri": "https://localhost:8080/",
          "height": 296
        },
        "outputId": "763608c2-d42e-404b-e936-abbe334314ef"
      },
      "execution_count": 14,
      "outputs": [
        {
          "output_type": "display_data",
          "data": {
            "text/plain": [
              "<Figure size 432x288 with 1 Axes>"
            ],
            "image/png": "[encoded data removed]"
          },
          "metadata": {
            "needs_background": "light"
          }
        }
      ]
    },
    {
      "cell_type": "code",
      "source": [
        "# I guess it looks sort of linear. Let's try...\n",
        "\n",
        "# For n inputs and m outputs with N examples... (Note here n=m=1 and N=2)\n",
        "# We need X to be an Nxn matrix and Y to be an Nxm matrix\n",
        "n=1 # 1 input\n",
        "m=1 # 1 output\n",
        "N = x.shape[0]\n",
        "X = x.reshape(N,n)\n",
        "Y = y.reshape(N,m)\n",
        "print(f\"N={N} n={n} m={m}\")\n"
      ],
      "metadata": {
        "id": "ZH6LDk1M90kH",
        "colab": {
          "base_uri": "https://localhost:8080/"
        },
        "outputId": "39e47beb-839e-444c-d43d-d989329a90ee"
      },
      "execution_count": 47,
      "outputs": [
        {
          "output_type": "stream",
          "name": "stdout",
          "text": [
            "N=18 n=1 m=1\n"
          ]
        }
      ]
    },
    {
      "cell_type": "code",
      "source": [
        "# Traditional linear regression fit...\n",
        "from sklearn import linear_model\n",
        "from sklearn.metrics import mean_squared_error, mean_absolute_error, mean_absolute_percentage_error\n",
        "import pandas as pd\n",
        "\n",
        "def try_linear(X_in):\n",
        "  regr = linear_model.LinearRegression()\n",
        "  regr.fit(X_in, Y)\n",
        "\n",
        "  np.set_printoptions(precision=3) # This seems to be necessary\n",
        "  print(f\"Coefficients: {regr.coef_[0]}\")\n",
        "  print(f\"Offsets: {regr.intercept_}\")\n",
        "  print(f\"In other words, Temp, F = {regr.coef_[0]} * X + {regr.intercept_}\")\n",
        "\n",
        "  Y_pred = regr.predict(X_in)\n",
        "  print(f\"Mean squared error: {mean_squared_error(Y, Y_pred):.2f}\")\n",
        "  print(f\"Mean absolute error: {mean_absolute_error(Y, Y_pred):.2f}\")\n",
        "  print(f\"Mean absolute percentage error: {mean_absolute_percentage_error(Y, Y_pred):.2f}\")\n",
        "\n",
        "  # Put error in pandas so we can use .describe()\n",
        "  e = pd.DataFrame(Y_pred-Y, columns=['deltaT_F'])\n",
        "  print(e.describe())\n",
        "  # Probably not very good performance!\n",
        "\n",
        "  # Plot original and predicted\n",
        "  plt.scatter(X, Y, color=\"black\")\n",
        "  plt.plot(X, Y_pred, color=\"blue\", linewidth=3)\n",
        "  plt.title('Raw Data')\n",
        "  plt.xlabel('Voltage')\n",
        "  plt.ylabel('Temp. F')\n",
        "  plt.grid()\n",
        "  plt.show()\n",
        "\n",
        "try_linear(X)\n"
      ],
      "metadata": {
        "id": "YDCaPOeifAYp",
        "colab": {
          "base_uri": "https://localhost:8080/",
          "height": 555
        },
        "outputId": "c922526a-c6f0-480a-eb68-c18020b427f3"
      },
      "execution_count": 60,
      "outputs": [
        {
          "output_type": "stream",
          "name": "stdout",
          "text": [
            "Coefficients: [0.197]\n",
            "Offsets: [90.905]\n",
            "In other words, Temp, F = [0.197] * X + [90.905]\n",
            "Mean squared error: 526.05\n",
            "Mean absolute error: 19.65\n",
            "Mean absolute percentage error: 0.14\n",
            "        deltaT_F\n",
            "count  18.000000\n",
            "mean   -0.000016\n",
            "std    23.600665\n",
            "min   -24.787329\n",
            "25%   -19.883249\n",
            "50%    -6.816577\n",
            "75%    13.907935\n",
            "max    58.905151\n"
          ]
        },
        {
          "output_type": "display_data",
          "data": {
            "text/plain": [
              "<Figure size 432x288 with 1 Axes>"
            ],
            "image/png": "[encoded data removed]"
          },
          "metadata": {
            "needs_background": "light"
          }
        }
      ]
    },
    {
      "cell_type": "markdown",
      "source": [
        "# So, LinearRegression isn't really too appropriate here"
      ],
      "metadata": {
        "id": "2ELurlUyC3MQ"
      }
    },
    {
      "cell_type": "code",
      "source": [
        "# One way to do \"nonlinear regression\" is to add additional nonlinear versions of X to it...\n",
        "from sklearn.preprocessing import PolynomialFeatures\n",
        "poly = PolynomialFeatures(2)\n",
        "X_add_poly=poly.fit_transform(X)\n",
        "print(X)\n",
        "X_add_poly"
      ],
      "metadata": {
        "colab": {
          "base_uri": "https://localhost:8080/"
        },
        "id": "pXQ3jGkmC7TG",
        "outputId": "40333992-4f40-43da-df0c-1f10a274093e"
      },
      "execution_count": 61,
      "outputs": [
        {
          "output_type": "stream",
          "name": "stdout",
          "text": [
            "[[   0.]\n",
            " [ 300.]\n",
            " [ 500.]\n",
            " [1000.]\n",
            " [1500.]\n",
            " [1700.]\n",
            " [2000.]\n",
            " [2500.]\n",
            " [3000.]\n",
            " [3300.]\n",
            " [3500.]\n",
            " [4000.]\n",
            " [4500.]\n",
            " [5000.]\n",
            " [5300.]\n",
            " [5500.]\n",
            " [5900.]\n",
            " [6000.]]\n"
          ]
        },
        {
          "output_type": "execute_result",
          "data": {
            "text/plain": [
              "array([[1.000e+00, 0.000e+00, 0.000e+00],\n",
              "       [1.000e+00, 3.000e+02, 9.000e+04],\n",
              "       [1.000e+00, 5.000e+02, 2.500e+05],\n",
              "       [1.000e+00, 1.000e+03, 1.000e+06],\n",
              "       [1.000e+00, 1.500e+03, 2.250e+06],\n",
              "       [1.000e+00, 1.700e+03, 2.890e+06],\n",
              "       [1.000e+00, 2.000e+03, 4.000e+06],\n",
              "       [1.000e+00, 2.500e+03, 6.250e+06],\n",
              "       [1.000e+00, 3.000e+03, 9.000e+06],\n",
              "       [1.000e+00, 3.300e+03, 1.089e+07],\n",
              "       [1.000e+00, 3.500e+03, 1.225e+07],\n",
              "       [1.000e+00, 4.000e+03, 1.600e+07],\n",
              "       [1.000e+00, 4.500e+03, 2.025e+07],\n",
              "       [1.000e+00, 5.000e+03, 2.500e+07],\n",
              "       [1.000e+00, 5.300e+03, 2.809e+07],\n",
              "       [1.000e+00, 5.500e+03, 3.025e+07],\n",
              "       [1.000e+00, 5.900e+03, 3.481e+07],\n",
              "       [1.000e+00, 6.000e+03, 3.600e+07]], dtype=float32)"
            ]
          },
          "metadata": {},
          "execution_count": 61
        }
      ]
    },
    {
      "cell_type": "code",
      "source": [
        "try_linear(X_add_poly)"
      ],
      "metadata": {
        "colab": {
          "base_uri": "https://localhost:8080/",
          "height": 555
        },
        "id": "M_xLEbw-D3P9",
        "outputId": "6565a51c-2403-4b91-953e-b233ae7fa1ac"
      },
      "execution_count": 62,
      "outputs": [
        {
          "output_type": "stream",
          "name": "stdout",
          "text": [
            "Coefficients: [ 0.000e+00  2.392e-01 -6.855e-06]\n",
            "Offsets: [52.068]\n",
            "In other words, Temp, F = [ 0.000e+00  2.392e-01 -6.855e-06] * X + [52.068]\n",
            "Mean squared error: 59.89\n",
            "Mean absolute error: 6.26\n",
            "Mean absolute percentage error: 0.05\n",
            "        deltaT_F\n",
            "count  18.000000\n",
            "mean   -0.000022\n",
            "std     7.962984\n",
            "min   -11.956824\n",
            "25%    -5.995819\n",
            "50%     0.251471\n",
            "75%     5.174207\n",
            "max    20.067688\n"
          ]
        },
        {
          "output_type": "display_data",
          "data": {
            "text/plain": [
              "<Figure size 432x288 with 1 Axes>"
            ],
            "image/png": "[encoded data removed]"
          },
          "metadata": {
            "needs_background": "light"
          }
        }
      ]
    },
    {
      "cell_type": "code",
      "source": [
        "# That's better!\n",
        "# Maybe try 3-order poly??\n",
        "poly = PolynomialFeatures(3)\n",
        "X_add_poly=poly.fit_transform(X)\n",
        "try_linear(X_add_poly)\n",
        "# And now it's bizarre\n"
      ],
      "metadata": {
        "colab": {
          "base_uri": "https://localhost:8080/",
          "height": 555
        },
        "id": "iGc809sdEy_j",
        "outputId": "e3e1dffc-6306-4141-e762-3913a03c289e"
      },
      "execution_count": 63,
      "outputs": [
        {
          "output_type": "stream",
          "name": "stdout",
          "text": [
            "Coefficients: [ 0.000e+00  1.298e-07  8.363e-05 -9.210e-09]\n",
            "Offsets: [178.212]\n",
            "In other words, Temp, F = [ 0.000e+00  1.298e-07  8.363e-05 -9.210e-09] * X + [178.212]\n",
            "Mean squared error: 3132.02\n",
            "Mean absolute error: 46.10\n",
            "Mean absolute percentage error: 0.34\n",
            "         deltaT_F\n",
            "count   18.000000\n",
            "mean    -0.000077\n",
            "std     57.586979\n",
            "min    -72.947717\n",
            "25%    -46.940405\n",
            "50%      2.673077\n",
            "75%     33.829352\n",
            "max    146.212463\n"
          ]
        },
        {
          "output_type": "display_data",
          "data": {
            "text/plain": [
              "<Figure size 432x288 with 1 Axes>"
            ],
            "image/png": "[encoded data removed]"
          },
          "metadata": {
            "needs_background": "light"
          }
        }
      ]
    },
    {
      "cell_type": "code",
      "source": [],
      "metadata": {
        "id": "kQoeAAf7Grr-"
      },
      "execution_count": null,
      "outputs": []
    }
  ]
}