{
  "nbformat": 4,
  "nbformat_minor": 0,
  "metadata": {
    "colab": {
      "provenance": [],
      "authorship_tag": "ABX9TyNmGb8vhcCkFTljILI59n16",
      "include_colab_link": true
    },
    "kernelspec": {
      "name": "python3",
      "display_name": "Python 3"
    },
    "language_info": {
      "name": "python"
    }
  },
  "cells": [
    {
      "cell_type": "markdown",
      "metadata": {
        "id": "view-in-github",
        "colab_type": "text"
      },
      "source": [
        "<a href=\"https://colab.research.google.com/github/nedlecky/CSC485B/blob/main/ChatGPT_Celsius_Fahrenheit_Keras.ipynb\" target=\"_parent\"><img src=\"https://colab.research.google.com/assets/colab-badge.svg\" alt=\"Open In Colab\"/></a>"
      ]
    },
    {
      "cell_type": "code",
      "execution_count": 4,
      "metadata": {
        "id": "CdIQ4nF7PbBR"
      },
      "outputs": [],
      "source": [
        "# ChatGPT\n",
        "# show me how to use a neural network to convert from celsius to fahrenheit\n",
        "\n",
        "import numpy as np\n",
        "from keras.models import Sequential\n",
        "from keras.layers import Dense\n",
        "\n",
        "# Define the network architecture\n",
        "model = Sequential()\n",
        "model.add(Dense(10, input_dim=1, activation='relu'))\n",
        "model.add(Dense(1, activation='linear'))\n",
        "\n",
        "# Compile the model\n",
        "model.compile(loss='mean_squared_error', optimizer='adam')\n",
        "\n",
        "# Generate some training data\n",
        "celsius = np.random.uniform(-273.15, 100, size=(1000, 1))\n",
        "fahrenheit = celsius * 1.8 + 32\n",
        "\n",
        "\n"
      ]
    },
    {
      "cell_type": "code",
      "source": [
        "# Train the model\n",
        "model.fit(celsius, fahrenheit, epochs=50, batch_size=32)\n"
      ],
      "metadata": {
        "colab": {
          "base_uri": "https://localhost:8080/"
        },
        "id": "g2BFMLxcPesb",
        "outputId": "0eefdf0a-1824-4bf6-9b1a-4b262686c96f"
      },
      "execution_count": 5,
      "outputs": [
        {
          "output_type": "stream",
          "name": "stdout",
          "text": [
            "Epoch 1/50\n",
            "32/32 [==============================] - 1s 11ms/step - loss: 48620.7891\n",
            "Epoch 2/50\n",
            "32/32 [==============================] - 0s 1ms/step - loss: 45739.3320\n",
            "Epoch 3/50\n",
            "32/32 [==============================] - 0s 1ms/step - loss: 42571.4688\n",
            "Epoch 4/50\n",
            "32/32 [==============================] - 0s 1ms/step - loss: 37735.1445\n",
            "Epoch 5/50\n",
            "32/32 [==============================] - 0s 1ms/step - loss: 31977.8945\n",
            "Epoch 6/50\n",
            "32/32 [==============================] - 0s 1ms/step - loss: 26089.8652\n",
            "Epoch 7/50\n",
            "32/32 [==============================] - 0s 989us/step - loss: 20588.9648\n",
            "Epoch 8/50\n",
            "32/32 [==============================] - 0s 1ms/step - loss: 15572.8496\n",
            "Epoch 9/50\n",
            "32/32 [==============================] - 0s 1ms/step - loss: 11254.2529\n",
            "Epoch 10/50\n",
            "32/32 [==============================] - 0s 1ms/step - loss: 7780.0317\n",
            "Epoch 11/50\n",
            "32/32 [==============================] - 0s 1ms/step - loss: 5116.2900\n",
            "Epoch 12/50\n",
            "32/32 [==============================] - 0s 967us/step - loss: 3193.6577\n",
            "Epoch 13/50\n",
            "32/32 [==============================] - 0s 984us/step - loss: 1935.2161\n",
            "Epoch 14/50\n",
            "32/32 [==============================] - 0s 1ms/step - loss: 1170.6187\n",
            "Epoch 15/50\n",
            "32/32 [==============================] - 0s 1ms/step - loss: 721.5471\n",
            "Epoch 16/50\n",
            "32/32 [==============================] - 0s 929us/step - loss: 479.9924\n",
            "Epoch 17/50\n",
            "32/32 [==============================] - 0s 1ms/step - loss: 358.5081\n",
            "Epoch 18/50\n",
            "32/32 [==============================] - 0s 1ms/step - loss: 301.9638\n",
            "Epoch 19/50\n",
            "32/32 [==============================] - 0s 1ms/step - loss: 274.6479\n",
            "Epoch 20/50\n",
            "32/32 [==============================] - 0s 1ms/step - loss: 262.5373\n",
            "Epoch 21/50\n",
            "32/32 [==============================] - 0s 1ms/step - loss: 257.1483\n",
            "Epoch 22/50\n",
            "32/32 [==============================] - 0s 1ms/step - loss: 254.4770\n",
            "Epoch 23/50\n",
            "32/32 [==============================] - 0s 1ms/step - loss: 253.0418\n",
            "Epoch 24/50\n",
            "32/32 [==============================] - 0s 1ms/step - loss: 252.2371\n",
            "Epoch 25/50\n",
            "32/32 [==============================] - 0s 992us/step - loss: 251.6905\n",
            "Epoch 26/50\n",
            "32/32 [==============================] - 0s 1ms/step - loss: 251.1821\n",
            "Epoch 27/50\n",
            "32/32 [==============================] - 0s 1ms/step - loss: 250.7662\n",
            "Epoch 28/50\n",
            "32/32 [==============================] - 0s 1ms/step - loss: 250.4052\n",
            "Epoch 29/50\n",
            "32/32 [==============================] - 0s 1ms/step - loss: 249.9564\n",
            "Epoch 30/50\n",
            "32/32 [==============================] - 0s 1ms/step - loss: 249.4788\n",
            "Epoch 31/50\n",
            "32/32 [==============================] - 0s 1ms/step - loss: 249.1020\n",
            "Epoch 32/50\n",
            "32/32 [==============================] - 0s 1ms/step - loss: 248.6212\n",
            "Epoch 33/50\n",
            "32/32 [==============================] - 0s 994us/step - loss: 248.2795\n",
            "Epoch 34/50\n",
            "32/32 [==============================] - 0s 1ms/step - loss: 247.7684\n",
            "Epoch 35/50\n",
            "32/32 [==============================] - 0s 999us/step - loss: 247.2552\n",
            "Epoch 36/50\n",
            "32/32 [==============================] - 0s 1ms/step - loss: 246.8100\n",
            "Epoch 37/50\n",
            "32/32 [==============================] - 0s 1ms/step - loss: 246.3009\n",
            "Epoch 38/50\n",
            "32/32 [==============================] - 0s 1ms/step - loss: 245.7932\n",
            "Epoch 39/50\n",
            "32/32 [==============================] - 0s 1ms/step - loss: 245.2967\n",
            "Epoch 40/50\n",
            "32/32 [==============================] - 0s 1ms/step - loss: 244.7703\n",
            "Epoch 41/50\n",
            "32/32 [==============================] - 0s 1ms/step - loss: 244.2716\n",
            "Epoch 42/50\n",
            "32/32 [==============================] - 0s 1ms/step - loss: 243.7074\n",
            "Epoch 43/50\n",
            "32/32 [==============================] - 0s 1ms/step - loss: 243.1222\n",
            "Epoch 44/50\n",
            "32/32 [==============================] - 0s 1ms/step - loss: 242.6405\n",
            "Epoch 45/50\n",
            "32/32 [==============================] - 0s 1ms/step - loss: 242.0279\n",
            "Epoch 46/50\n",
            "32/32 [==============================] - 0s 1ms/step - loss: 241.4415\n",
            "Epoch 47/50\n",
            "32/32 [==============================] - 0s 1ms/step - loss: 240.8924\n",
            "Epoch 48/50\n",
            "32/32 [==============================] - 0s 1ms/step - loss: 240.4344\n",
            "Epoch 49/50\n",
            "32/32 [==============================] - 0s 996us/step - loss: 239.6896\n",
            "Epoch 50/50\n",
            "32/32 [==============================] - 0s 976us/step - loss: 239.0450\n"
          ]
        },
        {
          "output_type": "execute_result",
          "data": {
            "text/plain": [
              "<keras.callbacks.History at 0x7f9276adeaf0>"
            ]
          },
          "metadata": {},
          "execution_count": 5
        }
      ]
    },
    {
      "cell_type": "code",
      "source": [
        "# Test the model\n",
        "test_celsius = np.array([[0], [20], [37], [100]])\n",
        "test_fahrenheit = model.predict(test_celsius)\n",
        "print(test_fahrenheit)"
      ],
      "metadata": {
        "colab": {
          "base_uri": "https://localhost:8080/"
        },
        "id": "i-V_yVslPeyY",
        "outputId": "87f0098c-5f37-46ec-a8fc-73dcbe8883e8"
      },
      "execution_count": 6,
      "outputs": [
        {
          "output_type": "stream",
          "name": "stdout",
          "text": [
            "1/1 [==============================] - 0s 62ms/step\n",
            "[[  1.9141401]\n",
            " [ 47.589424 ]\n",
            " [ 85.92301  ]\n",
            " [227.98277  ]]\n"
          ]
        }
      ]
    },
    {
      "cell_type": "code",
      "source": [],
      "metadata": {
        "id": "oBsOUOpdQBWb"
      },
      "execution_count": null,
      "outputs": []
    }
  ]
}