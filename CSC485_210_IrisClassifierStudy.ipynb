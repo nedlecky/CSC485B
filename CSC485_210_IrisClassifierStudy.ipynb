{
  "cells": [
    {
      "cell_type": "markdown",
      "metadata": {
        "id": "view-in-github",
        "colab_type": "text"
      },
      "source": [
        "<a href=\"https://colab.research.google.com/github/nedlecky/CSC485B/blob/main/CSC485_210_IrisClassifierStudy.ipynb\" target=\"_parent\"><img src=\"https://colab.research.google.com/assets/colab-badge.svg\" alt=\"Open In Colab\"/></a>"
      ]
    },
    {
      "cell_type": "markdown",
      "metadata": {
        "id": "nCe96qPVuVyD"
      },
      "source": [
        "# CSC 485B Spring 2023: CSC485_210_IrisClassifierStudy\n",
        "## Try classifying the Iris dataset\n",
        "* SUNY Plattsburgh, Spring 2023\n",
        "* Dr. Ned Lecky\n",
        "* nleck001@plattsburgh.edu\n",
        "* ned@lecky.com\n"
      ]
    },
    {
      "cell_type": "code",
      "source": [
        "# Create our output directories\n",
        "from pathlib import Path\n",
        "\n",
        "OUTPUT_PATH = Path() / \"iris_classifier\"\n",
        "IMAGES_PATH = Path() / OUTPUT_PATH / \"images\""
      ],
      "metadata": {
        "id": "tBf4NDlg799G"
      },
      "execution_count": 1,
      "outputs": []
    },
    {
      "cell_type": "code",
      "source": [
        "# Setup and Support Functions\n",
        "import numpy as np\n",
        "import pandas as pd\n",
        "import matplotlib.pyplot as plt\n",
        "import os\n",
        "import sys\n",
        "import random\n",
        "\n",
        "# This makes us reproducible (and we can adjust fixed_seed to get different results)\n",
        "fixed_seed = 1\n",
        "\n",
        "# Return n random floats between lo and hi as 1-column NumPy matrix\n",
        "def rand_nlohi(n=1, lo=0, hi=1):\n",
        "  # This is just a uniform distribution from lo to hi... we can adjust if appropriate in the future\n",
        "  return (np.random.rand(n) * (hi - lo) + lo).reshape(-1,1)\n",
        "\n",
        "# Often a good idea as long as we are keeping values near +/- 1... don't need exponential notation\n",
        "np.set_printoptions(floatmode='fixed', precision=4, suppress=True)\n",
        "# This will get us all 400 rows printed... which fails past 40 x 2 columns\n",
        "np.set_printoptions(threshold=sys.maxsize)\n",
        "\n",
        "# Simple numpy array print with optional push to file\n",
        "def nprint(m, name='', also_write_file=False):\n",
        "  print(f\"{name} {m.shape} {m.dtype}\")\n",
        "  print(m)\n",
        "  if also_write_file and name != '':\n",
        "    fprint(m, name)\n",
        "\n",
        "# Print numpy array to file (needs name)\n",
        "def fprint(m, name='', path=OUTPUT_PATH):\n",
        "  if name != '':\n",
        "    with open(path /  name, 'w') as f:\n",
        "      print(f\"{name} {m.shape} {m.dtype}\", file=f)\n",
        "      print(m, file=f)\n",
        "  else:\n",
        "    print('fprint needs a name!')\n",
        "\n",
        "# Remove a file and don't complain if it doesn't exist\n",
        "def remove_file(name):\n",
        "  try:\n",
        "    os.remove(name)\n",
        "  except:\n",
        "    return\n",
        "\n",
        "# Delete a directory, recursively removing files and subdirectories\n",
        "def delete_directory(path):\n",
        "  if not OUTPUT_PATH.exists():\n",
        "    return\n",
        "\n",
        "  print(f\"delete_directory({path})\")\n",
        "  for file_name in os.listdir(path):\n",
        "    # construct full file path\n",
        "    file = path / file_name\n",
        "    if os.path.isdir(file):\n",
        "        print('  found subdirectory', file)\n",
        "        delete_directory(file)\n",
        "    elif os.path.isfile(file):\n",
        "        print('  deleting file', file)\n",
        "        os.remove(file)\n",
        "  os.rmdir(path)\n",
        "\n",
        "# Save a matplotlib figure to a png file\n",
        "def save_fig(fig_id, tight_layout=True, fig_extension=\"png\", resolution=300):\n",
        "    path = IMAGES_PATH / f\"{fig_id}.{fig_extension}\"\n",
        "    if tight_layout:\n",
        "        plt.tight_layout()\n",
        "    plt.savefig(path, format=fig_extension, dpi=resolution)\n"
      ],
      "metadata": {
        "id": "r9HFxEwDvfsJ"
      },
      "execution_count": 2,
      "outputs": []
    },
    {
      "cell_type": "code",
      "source": [
        "# Setup (and clear) output directories\n",
        "delete_directory(OUTPUT_PATH)\n",
        "\n",
        "OUTPUT_PATH.mkdir(parents=True, exist_ok=True)\n",
        "IMAGES_PATH.mkdir(parents=True, exist_ok=True)"
      ],
      "metadata": {
        "colab": {
          "base_uri": "https://localhost:8080/"
        },
        "id": "Jmd1evWW8yrZ",
        "outputId": "1f223f99-369b-4dd1-d2aa-e4b06f5ee47f"
      },
      "execution_count": 3,
      "outputs": [
        {
          "output_type": "stream",
          "name": "stdout",
          "text": [
            "delete_directory(iris_classifier)\n",
            "  deleting file iris_classifier/X_train\n",
            "  deleting file iris_classifier/y_train\n",
            "  deleting file iris_classifier/X_train_std\n",
            "  deleting file iris_classifier/X\n",
            "  deleting file iris_classifier/X_test\n",
            "  deleting file iris_classifier/Xy\n",
            "  deleting file iris_classifier/y\n",
            "  found subdirectory iris_classifier/images\n",
            "delete_directory(iris_classifier/images)\n",
            "  deleting file iris_classifier/images/tree.png\n",
            "  deleting file iris_classifier/y_test\n",
            "  deleting file iris_classifier/X_test_std\n",
            "  deleting file iris_classifier/tree.png\n"
          ]
        }
      ]
    },
    {
      "cell_type": "markdown",
      "source": [
        "Load the dataset.\n"
      ],
      "metadata": {
        "id": "xYGVvILfXYjJ"
      }
    },
    {
      "cell_type": "code",
      "execution_count": 4,
      "metadata": {
        "id": "mM4Jq0WKuVyK",
        "colab": {
          "base_uri": "https://localhost:8080/"
        },
        "outputId": "93c6776f-77fc-490b-9ca7-0caab2c02082"
      },
      "outputs": [
        {
          "output_type": "stream",
          "name": "stdout",
          "text": [
            "feature_names = ['sepal length (cm)', 'sepal width (cm)', 'petal length (cm)', 'petal width (cm)']\n",
            "target_names = ['setosa' 'versicolor' 'virginica']\n"
          ]
        }
      ],
      "source": [
        "import matplotlib.pyplot as plt\n",
        "from sklearn.datasets import load_iris\n",
        "\n",
        "data = load_iris()\n",
        "X = data.data\n",
        "y = data.target\n",
        "Xy = np.hstack([X,y.reshape(-1,1)])\n",
        "fprint(X,\"X\")\n",
        "fprint(y,\"y\")\n",
        "fprint(Xy,\"Xy\")\n",
        "print(f\"feature_names = {data.feature_names}\")\n",
        "print(f\"target_names = {data.target_names}\")\n"
      ]
    },
    {
      "cell_type": "markdown",
      "metadata": {
        "id": "gd-MTQywuVyL"
      },
      "source": [
        "## Split the data... and see the value of stratifying\n"
      ]
    },
    {
      "cell_type": "code",
      "execution_count": 5,
      "metadata": {
        "id": "WuBygpd4uVyL",
        "colab": {
          "base_uri": "https://localhost:8080/"
        },
        "outputId": "5a2925f2-d2f5-4e36-b866-a422e7727363"
      },
      "outputs": [
        {
          "output_type": "stream",
          "name": "stdout",
          "text": [
            "No stratrification is BAD\n",
            "Labels count in y: [50 50 50]\n",
            "Labels count in y_train: [36 32 37]\n",
            "Labels count in y_test: [14 18 13]\n",
            "Stratified: This is GOOD\n",
            "Labels count in y: [50 50 50]\n",
            "Labels count in y_train: [35 35 35]\n",
            "Labels count in y_test: [15 15 15]\n"
          ]
        }
      ],
      "source": [
        "from sklearn.model_selection import train_test_split\n",
        "def eval_datasets():\n",
        "  print('Labels count in y:', np.bincount(y))\n",
        "  print('Labels count in y_train:', np.bincount(y_train))\n",
        "  print('Labels count in y_test:', np.bincount(y_test))\n",
        "\n",
        "X_train, X_test, y_train, y_test = train_test_split(\n",
        "    X, y, test_size=0.3, random_state=1)\n",
        "print('No stratrification is BAD')\n",
        "eval_datasets();\n",
        "\n",
        "X_train, X_test, y_train, y_test = train_test_split(\n",
        "    X, y, test_size=0.3, random_state=1, stratify=y)\n",
        "\n",
        "print('Stratified: This is GOOD')\n",
        "eval_datasets();\n",
        "\n",
        "fprint(X_train, 'X_train')\n",
        "fprint(X_test, 'X_test')\n",
        "fprint(y_train, 'y_train')\n",
        "fprint(y_test, 'y_test')\n"
      ]
    },
    {
      "cell_type": "markdown",
      "metadata": {
        "id": "gK2s8ONjuVyL"
      },
      "source": [
        "## Standardize the features"
      ]
    },
    {
      "cell_type": "code",
      "execution_count": 6,
      "metadata": {
        "id": "7_t0cRNDuVyM"
      },
      "outputs": [],
      "source": [
        "from sklearn.preprocessing import StandardScaler\n",
        "\n",
        "sc = StandardScaler()\n",
        "sc.fit(X_train)\n",
        "X_train_std = sc.transform(X_train)\n",
        "X_test_std = sc.transform(X_test)\n",
        "fprint(X_train_std, 'X_train_std')\n",
        "fprint(X_test_std, 'X_test_std')"
      ]
    },
    {
      "cell_type": "markdown",
      "metadata": {
        "id": "lctryoTcuVyO"
      },
      "source": [
        "# Build an Evaluation Function"
      ]
    },
    {
      "cell_type": "code",
      "source": [
        "# Evaluation Function\n",
        "from sklearn.metrics import accuracy_score\n",
        "\n",
        "def evaluate(classifier):\n",
        "  y_pred = classifier.predict(X_test_std)\n",
        "  n_wrong = (y_test != y_pred).sum()\n",
        "  n_total = y_pred.shape[0]\n",
        "  print(f'Misclassified TEST examples: {n_wrong} of {n_total} ({100.0*(n_total-n_wrong)/n_total:.1f}% correct)')\n",
        "\n",
        "  print(f'accuracy_score: {accuracy_score(y_test, y_pred):.3f}')\n",
        "  print(f'classifier.score: {classifier.score(X_test_std, y_test):.3f}')\n",
        "\n",
        "  y_pred_train = classifier.predict(X_train_std)\n",
        "  n_wrong = (y_train != y_pred_train).sum()\n",
        "  n_total = y_pred_train.shape[0]\n",
        "  print(f'Misclassified TRAIN examples: {n_wrong} of {n_total} ({100.0*(n_total-n_wrong)/n_total:.1f}% correct)')\n",
        "\n",
        "  print(f'accuracy_score: {accuracy_score(y_train, y_pred_train):.3f}')\n",
        "  print(f'classifier.score: {classifier.score(X_train_std, y_train):.3f}')\n",
        "\n",
        "def evaluate_raw(classifier):\n",
        "  y_pred = classifier.predict(X_test)\n",
        "  n_wrong = (y_test != y_pred).sum()\n",
        "  n_total = y_pred.shape[0]\n",
        "  print(f'Misclassified TEST examples: {n_wrong} of {n_total} ({100.0*(n_total-n_wrong)/n_total:.1f}% correct)')\n",
        "\n",
        "  print(f'accuracy_score: {accuracy_score(y_test, y_pred):.3f}')\n",
        "  print(f'classifier.score: {classifier.score(X_test_std, y_test):.3f}')\n",
        "\n",
        "  y_pred_train = classifier.predict(X_train)\n",
        "  n_wrong = (y_train != y_pred_train).sum()\n",
        "  n_total = y_pred_train.shape[0]\n",
        "  print(f'Misclassified TRAIN examples: {n_wrong} of {n_total} ({100.0*(n_total-n_wrong)/n_total:.1f}% correct)')\n",
        "\n",
        "  print(f'accuracy_score: {accuracy_score(y_train, y_pred_train):.3f}')\n",
        "  print(f'classifier.score: {classifier.score(X_train_std, y_train):.3f}')\n"
      ],
      "metadata": {
        "id": "qVhSIvShYsZF"
      },
      "execution_count": 7,
      "outputs": []
    },
    {
      "cell_type": "markdown",
      "metadata": {
        "id": "cgKxk5aEuVyM"
      },
      "source": [
        "# Training Classifiers"
      ]
    },
    {
      "cell_type": "markdown",
      "source": [
        "## Perceptron"
      ],
      "metadata": {
        "id": "Mv9zH2llbvnZ"
      }
    },
    {
      "cell_type": "code",
      "execution_count": 8,
      "metadata": {
        "colab": {
          "base_uri": "https://localhost:8080/"
        },
        "id": "wCOGIaMruVyM",
        "outputId": "637c2bf2-c745-42a1-94dd-c530e995963b"
      },
      "outputs": [
        {
          "output_type": "stream",
          "name": "stdout",
          "text": [
            "Misclassified TEST examples: 2 of 45 (95.6% correct)\n",
            "accuracy_score: 0.956\n",
            "classifier.score: 0.956\n",
            "Misclassified TRAIN examples: 7 of 105 (93.3% correct)\n",
            "accuracy_score: 0.933\n",
            "classifier.score: 0.933\n"
          ]
        }
      ],
      "source": [
        "from sklearn.linear_model import Perceptron\n",
        "\n",
        "ppn = Perceptron(max_iter=10000, eta0=0.1, random_state=1)\n",
        "ppn.fit(X_train_std, y_train)\n",
        "evaluate(ppn)"
      ]
    },
    {
      "cell_type": "markdown",
      "metadata": {
        "id": "0bILdpFKuVyR"
      },
      "source": [
        "## Logistic regression"
      ]
    },
    {
      "cell_type": "code",
      "execution_count": 9,
      "metadata": {
        "colab": {
          "base_uri": "https://localhost:8080/"
        },
        "id": "w51I6D2_uVyR",
        "outputId": "754974bc-815d-49a9-807b-6b28ce1c23ca"
      },
      "outputs": [
        {
          "output_type": "stream",
          "name": "stdout",
          "text": [
            "Misclassified TEST examples: 1 of 45 (97.8% correct)\n",
            "accuracy_score: 0.978\n",
            "classifier.score: 0.978\n",
            "Misclassified TRAIN examples: 6 of 105 (94.3% correct)\n",
            "accuracy_score: 0.943\n",
            "classifier.score: 0.943\n"
          ]
        }
      ],
      "source": [
        "from sklearn.linear_model import LogisticRegression\n",
        "\n",
        "lr = LogisticRegression(C=100.0, random_state=1, solver='lbfgs', multi_class='ovr')\n",
        "lr.fit(X_train_std, y_train)\n",
        "evaluate(lr)\n"
      ]
    },
    {
      "cell_type": "code",
      "execution_count": 10,
      "metadata": {
        "colab": {
          "base_uri": "https://localhost:8080/"
        },
        "id": "sxEeDx0luVyU",
        "outputId": "69c899b4-bc93-45d9-fee3-d93e4eb43c86"
      },
      "outputs": [
        {
          "output_type": "stream",
          "name": "stdout",
          "text": [
            "Misclassified TEST examples: 1 of 45 (97.8% correct)\n",
            "accuracy_score: 0.978\n",
            "classifier.score: 0.978\n",
            "Misclassified TRAIN examples: 3 of 105 (97.1% correct)\n",
            "accuracy_score: 0.971\n",
            "classifier.score: 0.971\n"
          ]
        }
      ],
      "source": [
        "from sklearn.svm import SVC\n",
        "\n",
        "svm = SVC(kernel='linear', C=1.0, random_state=1)\n",
        "svm.fit(X_train_std, y_train)\n",
        "evaluate(svm)\n"
      ]
    },
    {
      "cell_type": "markdown",
      "metadata": {
        "id": "kBbeGVQ-uVyU"
      },
      "source": [
        "## Alternative implementations"
      ]
    },
    {
      "cell_type": "code",
      "execution_count": 11,
      "metadata": {
        "id": "-36yW8IjuVyV",
        "colab": {
          "base_uri": "https://localhost:8080/"
        },
        "outputId": "415d0807-7407-4345-8a51-a5364b75ddc4"
      },
      "outputs": [
        {
          "output_type": "stream",
          "name": "stdout",
          "text": [
            "Misclassified TEST examples: 3 of 45 (93.3% correct)\n",
            "accuracy_score: 0.933\n",
            "classifier.score: 0.933\n",
            "Misclassified TRAIN examples: 6 of 105 (94.3% correct)\n",
            "accuracy_score: 0.943\n",
            "classifier.score: 0.943\n",
            "Misclassified TEST examples: 1 of 45 (97.8% correct)\n",
            "accuracy_score: 0.978\n",
            "classifier.score: 0.978\n",
            "Misclassified TRAIN examples: 5 of 105 (95.2% correct)\n",
            "accuracy_score: 0.952\n",
            "classifier.score: 0.952\n",
            "Misclassified TEST examples: 2 of 45 (95.6% correct)\n",
            "accuracy_score: 0.956\n",
            "classifier.score: 0.956\n",
            "Misclassified TRAIN examples: 4 of 105 (96.2% correct)\n",
            "accuracy_score: 0.962\n",
            "classifier.score: 0.962\n"
          ]
        },
        {
          "output_type": "stream",
          "name": "stderr",
          "text": [
            "/usr/local/lib/python3.8/dist-packages/sklearn/linear_model/_stochastic_gradient.py:163: FutureWarning: The loss 'log' was deprecated in v1.1 and will be removed in version 1.3. Use `loss='log_loss'` which is equivalent.\n",
            "  warnings.warn(\n"
          ]
        }
      ],
      "source": [
        "from sklearn.linear_model import SGDClassifier\n",
        "\n",
        "ppn = SGDClassifier(loss='perceptron')\n",
        "ppn.fit(X_train_std, y_train)\n",
        "evaluate(ppn)\n",
        "\n",
        "lr = SGDClassifier(loss='log')\n",
        "lr.fit(X_train_std, y_train)\n",
        "evaluate(lr)\n",
        "\n",
        "svm = SGDClassifier(loss='hinge')\n",
        "svm.fit(X_train_std, y_train)\n",
        "evaluate(svm)\n"
      ]
    },
    {
      "cell_type": "markdown",
      "metadata": {
        "id": "-6G_9jMNuVyV"
      },
      "source": [
        "<br>\n",
        "<br>"
      ]
    },
    {
      "cell_type": "code",
      "execution_count": 12,
      "metadata": {
        "colab": {
          "base_uri": "https://localhost:8080/"
        },
        "id": "1Jfe4J5wuVyW",
        "outputId": "4016b35a-f596-4d55-e6ce-44d5ae2b9206"
      },
      "outputs": [
        {
          "output_type": "stream",
          "name": "stdout",
          "text": [
            "Misclassified TEST examples: 2 of 45 (95.6% correct)\n",
            "accuracy_score: 0.956\n",
            "classifier.score: 0.956\n",
            "Misclassified TRAIN examples: 5 of 105 (95.2% correct)\n",
            "accuracy_score: 0.952\n",
            "classifier.score: 0.952\n"
          ]
        }
      ],
      "source": [
        "from sklearn.svm import SVC\n",
        "\n",
        "svm = SVC(kernel='rbf', random_state=1, gamma=0.2, C=1.0)\n",
        "svm.fit(X_train_std, y_train)\n",
        "evaluate(svm)\n"
      ]
    },
    {
      "cell_type": "code",
      "execution_count": 13,
      "metadata": {
        "colab": {
          "base_uri": "https://localhost:8080/"
        },
        "id": "m1VaYMMxuVyW",
        "outputId": "453e18d6-d9ed-4afc-cbef-5c8161ebd586"
      },
      "outputs": [
        {
          "output_type": "stream",
          "name": "stdout",
          "text": [
            "Misclassified TEST examples: 21 of 45 (53.3% correct)\n",
            "accuracy_score: 0.533\n",
            "classifier.score: 0.533\n",
            "Misclassified TRAIN examples: 0 of 105 (100.0% correct)\n",
            "accuracy_score: 1.000\n",
            "classifier.score: 1.000\n"
          ]
        }
      ],
      "source": [
        "svm = SVC(kernel='rbf', random_state=1, gamma=100.0, C=1.0)\n",
        "svm.fit(X_train_std, y_train)\n",
        "evaluate(svm)\n"
      ]
    },
    {
      "cell_type": "markdown",
      "metadata": {
        "id": "RTTUvFSvuVyY"
      },
      "source": [
        "## Building a decision tree"
      ]
    },
    {
      "cell_type": "code",
      "execution_count": 14,
      "metadata": {
        "id": "rar_t9lIuVyY",
        "colab": {
          "base_uri": "https://localhost:8080/"
        },
        "outputId": "40cfd540-19bb-474e-9edc-6c87aaa0dc02"
      },
      "outputs": [
        {
          "output_type": "stream",
          "name": "stdout",
          "text": [
            "Misclassified TEST examples: 1 of 45 (97.8% correct)\n",
            "accuracy_score: 0.978\n",
            "classifier.score: 0.333\n",
            "Misclassified TRAIN examples: 0 of 105 (100.0% correct)\n",
            "accuracy_score: 1.000\n",
            "classifier.score: 0.343\n"
          ]
        }
      ],
      "source": [
        "from sklearn.tree import DecisionTreeClassifier\n",
        "\n",
        "tree_model = DecisionTreeClassifier(criterion='gini', \n",
        "                                    max_depth=6, \n",
        "                                    random_state=1)\n",
        "tree_model.fit(X_train, y_train)\n",
        "evaluate_raw(tree_model)\n",
        "\n"
      ]
    },
    {
      "cell_type": "code",
      "execution_count": 15,
      "metadata": {
        "colab": {
          "base_uri": "https://localhost:8080/",
          "height": 248
        },
        "id": "iv_2Ob-yuVyY",
        "outputId": "bde50846-3609-48b4-d6b2-17c7b5e084f0"
      },
      "outputs": [
        {
          "output_type": "display_data",
          "data": {
            "text/plain": [
              "<Figure size 432x288 with 1 Axes>"
            ],
            "image/png": "[encoded data removed]"
          },
          "metadata": {
            "needs_background": "light"
          }
        }
      ],
      "source": [
        "from sklearn import tree\n",
        "\n",
        "tree.plot_tree(tree_model)\n",
        "plt.show()"
      ]
    },
    {
      "cell_type": "markdown",
      "metadata": {
        "id": "mva1nRiRuVyY"
      },
      "source": [
        "<br>\n",
        "<br>"
      ]
    },
    {
      "cell_type": "code",
      "execution_count": 16,
      "metadata": {
        "colab": {
          "base_uri": "https://localhost:8080/"
        },
        "id": "kehL9QkVuVyY",
        "outputId": "307abca1-cb55-4541-c571-91079daeebbb"
      },
      "outputs": [
        {
          "output_type": "execute_result",
          "data": {
            "text/plain": [
              "True"
            ]
          },
          "metadata": {},
          "execution_count": 16
        }
      ],
      "source": [
        "from pydotplus import graph_from_dot_data\n",
        "from sklearn.tree import export_graphviz\n",
        "\n",
        "dot_data = export_graphviz(tree_model,\n",
        "                           filled=True, \n",
        "                           rounded=True,\n",
        "                           class_names=['small', \n",
        "                                        'medium',\n",
        "                                        'large'],\n",
        "                           feature_names=['area', \n",
        "                                          'perimeter',\n",
        "                                          'num_holes',\n",
        "                                          'avg_holesize'],\n",
        "                           out_file=None) \n",
        "graph = graph_from_dot_data(dot_data) \n",
        "graph.write_png(str(IMAGES_PATH / \"tree.png\"))"
      ]
    },
    {
      "cell_type": "markdown",
      "metadata": {
        "id": "aXZCMPHJuVyZ"
      },
      "source": [
        "## Combine decision trees in a random forest"
      ]
    },
    {
      "cell_type": "code",
      "execution_count": 17,
      "metadata": {
        "colab": {
          "base_uri": "https://localhost:8080/"
        },
        "id": "cbh3pvsEuVyZ",
        "outputId": "7640d2bd-6869-4cc3-e25c-456d656341d9"
      },
      "outputs": [
        {
          "output_type": "stream",
          "name": "stderr",
          "text": [
            "[Parallel(n_jobs=1)]: Using backend SequentialBackend with 1 concurrent workers.\n"
          ]
        },
        {
          "output_type": "stream",
          "name": "stdout",
          "text": [
            "Misclassified TEST examples: 1 of 45 (97.8% correct)\n",
            "accuracy_score: 0.978\n",
            "classifier.score: 0.333\n",
            "Misclassified TRAIN examples: 0 of 105 (100.0% correct)\n",
            "accuracy_score: 1.000\n",
            "classifier.score: 0.343\n"
          ]
        },
        {
          "output_type": "stream",
          "name": "stderr",
          "text": [
            "[Parallel(n_jobs=1)]: Done 100 out of 100 | elapsed:    0.3s finished\n",
            "[Parallel(n_jobs=1)]: Using backend SequentialBackend with 1 concurrent workers.\n",
            "[Parallel(n_jobs=1)]: Done 100 out of 100 | elapsed:    0.0s finished\n",
            "[Parallel(n_jobs=1)]: Using backend SequentialBackend with 1 concurrent workers.\n",
            "[Parallel(n_jobs=1)]: Done 100 out of 100 | elapsed:    0.0s finished\n",
            "[Parallel(n_jobs=1)]: Using backend SequentialBackend with 1 concurrent workers.\n",
            "[Parallel(n_jobs=1)]: Done 100 out of 100 | elapsed:    0.0s finished\n",
            "[Parallel(n_jobs=1)]: Using backend SequentialBackend with 1 concurrent workers.\n",
            "[Parallel(n_jobs=1)]: Done 100 out of 100 | elapsed:    0.0s finished\n"
          ]
        }
      ],
      "source": [
        "from sklearn.ensemble import RandomForestClassifier\n",
        "\n",
        "forest = RandomForestClassifier(criterion='gini',max_depth=6,verbose=1,random_state=1)\n",
        "forest.fit(X_train, y_train)\n",
        "evaluate_raw(forest)\n"
      ]
    },
    {
      "cell_type": "markdown",
      "metadata": {
        "id": "Gd4ObvmIuVyZ"
      },
      "source": [
        "## K-nearest neighbors - a lazy learning algorithm"
      ]
    },
    {
      "cell_type": "code",
      "execution_count": 18,
      "metadata": {
        "colab": {
          "base_uri": "https://localhost:8080/"
        },
        "id": "q4C5aXRpuVya",
        "outputId": "e7485823-66e7-4c0f-c440-b77950c0fca6"
      },
      "outputs": [
        {
          "output_type": "stream",
          "name": "stdout",
          "text": [
            "Misclassified TEST examples: 3 of 45 (93.3% correct)\n",
            "accuracy_score: 0.933\n",
            "classifier.score: 0.933\n",
            "Misclassified TRAIN examples: 4 of 105 (96.2% correct)\n",
            "accuracy_score: 0.962\n",
            "classifier.score: 0.962\n",
            "Misclassified TEST examples: 1 of 45 (97.8% correct)\n",
            "accuracy_score: 0.978\n",
            "classifier.score: 0.333\n",
            "Misclassified TRAIN examples: 2 of 105 (98.1% correct)\n",
            "accuracy_score: 0.981\n",
            "classifier.score: 0.333\n"
          ]
        }
      ],
      "source": [
        "from sklearn.neighbors import KNeighborsClassifier\n",
        "\n",
        "knn = KNeighborsClassifier(n_neighbors=5, \n",
        "                           p=2, \n",
        "                           metric='minkowski')\n",
        "knn.fit(X_train_std, y_train)\n",
        "evaluate(knn)\n",
        "knn.fit(X_train, y_train)\n",
        "evaluate_raw(knn)\n",
        "\n"
      ]
    }
  ],
  "metadata": {
    "anaconda-cloud": {},
    "kernelspec": {
      "display_name": "Python 3 (ipykernel)",
      "language": "python",
      "name": "python3"
    },
    "language_info": {
      "codemirror_mode": {
        "name": "ipython",
        "version": 3
      },
      "file_extension": ".py",
      "mimetype": "text/x-python",
      "name": "python",
      "nbconvert_exporter": "python",
      "pygments_lexer": "ipython3",
      "version": "3.9.13"
    },
    "toc": {
      "nav_menu": {},
      "number_sections": true,
      "sideBar": true,
      "skip_h1_title": false,
      "title_cell": "Table of Contents",
      "title_sidebar": "Contents",
      "toc_cell": false,
      "toc_position": {},
      "toc_section_display": true,
      "toc_window_display": false
    },
    "colab": {
      "provenance": [],
      "include_colab_link": true
    }
  },
  "nbformat": 4,
  "nbformat_minor": 0
}