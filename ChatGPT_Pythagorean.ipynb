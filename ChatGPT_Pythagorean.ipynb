{
  "nbformat": 4,
  "nbformat_minor": 0,
  "metadata": {
    "colab": {
      "provenance": [],
      "authorship_tag": "ABX9TyP/0zhRn3zSmmbnTB8B965V",
      "include_colab_link": true
    },
    "kernelspec": {
      "name": "python3",
      "display_name": "Python 3"
    },
    "language_info": {
      "name": "python"
    }
  },
  "cells": [
    {
      "cell_type": "markdown",
      "metadata": {
        "id": "view-in-github",
        "colab_type": "text"
      },
      "source": [
        "<a href=\"https://colab.research.google.com/github/nedlecky/CSC485B/blob/main/ChatGPT_Pythagorean.ipynb\" target=\"_parent\"><img src=\"https://colab.research.google.com/assets/colab-badge.svg\" alt=\"Open In Colab\"/></a>"
      ]
    },
    {
      "cell_type": "code",
      "execution_count": 1,
      "metadata": {
        "colab": {
          "base_uri": "https://localhost:8080/"
        },
        "id": "71BXninkTJUi",
        "outputId": "a28dc410-2bb3-4324-833f-cb341bf3b520"
      },
      "outputs": [
        {
          "output_type": "stream",
          "name": "stderr",
          "text": [
            "/usr/local/lib/python3.9/dist-packages/torch/functional.py:504: UserWarning: torch.meshgrid: in an upcoming release, it will be required to pass the indexing argument. (Triggered internally at ../aten/src/ATen/native/TensorShape.cpp:3483.)\n",
            "  return _VF.meshgrid(tensors, **kwargs)  # type: ignore[attr-defined]\n"
          ]
        }
      ],
      "source": [
        "# ChatGPT:\n",
        "# Write me a python program to compute the Pythagorean theorem using a neural network in PyTorch\n",
        "\n",
        "import torch\n",
        "import torch.nn as nn\n",
        "import torch.optim as optim\n",
        "\n",
        "# Define the network architecture\n",
        "class Net(nn.Module):\n",
        "    def __init__(self):\n",
        "        super(Net, self).__init__()\n",
        "        self.fc1 = nn.Linear(2, 10)\n",
        "        self.fc2 = nn.Linear(10, 1)\n",
        "\n",
        "    def forward(self, x):\n",
        "        x = torch.relu(self.fc1(x))\n",
        "        x = self.fc2(x)\n",
        "        return x\n",
        "\n",
        "net = Net()\n",
        "\n",
        "# Define the loss function and optimizer\n",
        "criterion = nn.MSELoss()\n",
        "optimizer = optim.Adam(net.parameters())\n",
        "\n",
        "# Generate some training data\n",
        "a = torch.arange(0, 5, 0.1)\n",
        "b = torch.arange(0, 5, 0.1)\n",
        "a, b = torch.meshgrid(a, b)\n",
        "c = torch.sqrt(torch.pow(a, 2) + torch.pow(b, 2))\n",
        "\n",
        "# Reshape the data for training\n",
        "a = a.reshape(-1, 1)\n",
        "b = b.reshape(-1, 1)\n",
        "c = c.reshape(-1, 1)\n",
        "data = torch.cat((a, b), dim=1)\n",
        "\n"
      ]
    },
    {
      "cell_type": "code",
      "source": [
        "\n",
        "# Train the network\n",
        "for epoch in range(10000):\n",
        "    optimizer.zero_grad()\n",
        "    outputs = net(data)\n",
        "    loss = criterion(outputs, c)\n",
        "    loss.backward()\n",
        "    if epoch%1000==0:\n",
        "      print(f'epoch={epoch}  loss={loss}')\n",
        "    optimizer.step()\n"
      ],
      "metadata": {
        "colab": {
          "base_uri": "https://localhost:8080/"
        },
        "id": "ewmKgtyZTMaW",
        "outputId": "0897101f-583f-4f4e-c469-76c1f8b2853a"
      },
      "execution_count": 10,
      "outputs": [
        {
          "output_type": "stream",
          "name": "stdout",
          "text": [
            "epoch=0  loss=0.023837324231863022\n",
            "epoch=1000  loss=0.010024546645581722\n",
            "epoch=2000  loss=0.007120930589735508\n",
            "epoch=3000  loss=0.005381882656365633\n",
            "epoch=4000  loss=0.0038815673906356096\n",
            "epoch=5000  loss=0.002735711168497801\n",
            "epoch=6000  loss=0.0020273267291486263\n",
            "epoch=7000  loss=0.001723630353808403\n",
            "epoch=8000  loss=0.0016686728922650218\n",
            "epoch=9000  loss=0.0016616714419797063\n"
          ]
        }
      ]
    },
    {
      "cell_type": "code",
      "source": [
        "# Test the network\n",
        "test_data = torch.Tensor([[3, 4], [1, 1], [4, 3], [0.5, 0.5]])\n",
        "test_outputs = net(test_data)\n",
        "print(test_outputs)"
      ],
      "metadata": {
        "colab": {
          "base_uri": "https://localhost:8080/"
        },
        "id": "7mqHhL7rTMhH",
        "outputId": "ae57c53c-e2a5-43df-821e-22196aa5a62d"
      },
      "execution_count": 11,
      "outputs": [
        {
          "output_type": "stream",
          "name": "stdout",
          "text": [
            "tensor([[4.9915],\n",
            "        [1.4396],\n",
            "        [4.9886],\n",
            "        [0.7308]], grad_fn=<AddmmBackward0>)\n"
          ]
        }
      ]
    },
    {
      "cell_type": "code",
      "source": [],
      "metadata": {
        "id": "0Ic0pYlNTz-o"
      },
      "execution_count": null,
      "outputs": []
    }
  ]
}