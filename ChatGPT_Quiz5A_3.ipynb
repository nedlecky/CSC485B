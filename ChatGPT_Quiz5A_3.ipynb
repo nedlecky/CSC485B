{
  "nbformat": 4,
  "nbformat_minor": 0,
  "metadata": {
    "colab": {
      "provenance": [],
      "authorship_tag": "ABX9TyOtctPvAkdDCWLY/oezIbEy",
      "include_colab_link": true
    },
    "kernelspec": {
      "name": "python3",
      "display_name": "Python 3"
    },
    "language_info": {
      "name": "python"
    }
  },
  "cells": [
    {
      "cell_type": "markdown",
      "metadata": {
        "id": "view-in-github",
        "colab_type": "text"
      },
      "source": [
        "<a href=\"https://colab.research.google.com/github/nedlecky/CSC485B/blob/main/ChatGPT_Quiz5A_3.ipynb\" target=\"_parent\"><img src=\"https://colab.research.google.com/assets/colab-badge.svg\" alt=\"Open In Colab\"/></a>"
      ]
    },
    {
      "cell_type": "code",
      "execution_count": 2,
      "metadata": {
        "colab": {
          "base_uri": "https://localhost:8080/"
        },
        "id": "6KA4c7xOQQKI",
        "outputId": "5b9f4a66-5ce4-4264-dede-21fedfe6e94c"
      },
      "outputs": [
        {
          "output_type": "stream",
          "name": "stdout",
          "text": [
            "a[0] = 0.0\n",
            "a[1] = 0.3333333333333333\n",
            "f1(1) = 0.3333333333333333\n",
            "a[1] = 0.0\n",
            "a[2] = 0.3333333333333333\n",
            "f2(1) = 0.3333333333333333\n",
            "g(1) = 0.75\n",
            "None\n",
            "a[0] = 0.0\n",
            "a[1] = 0.25\n",
            "a[2] = 0.8\n",
            "f1(2) = 1.05\n",
            "a[1] = 0.0\n",
            "a[2] = 0.25\n",
            "a[3] = 0.8\n",
            "f2(2) = 1.05\n",
            "g(2) = 1.1666666666666667\n",
            "None\n",
            "a[0] = 0.0\n",
            "a[1] = 0.2\n",
            "a[2] = 0.6666666666666666\n",
            "a[3] = 1.2857142857142858\n",
            "f1(3) = 2.1523809523809527\n",
            "a[1] = 0.0\n",
            "a[2] = 0.2\n",
            "a[3] = 0.6666666666666666\n",
            "a[4] = 1.2857142857142858\n",
            "f2(3) = 2.1523809523809527\n",
            "g(3) = 1.625\n",
            "None\n",
            "a[0] = 0.0\n",
            "a[1] = 0.16666666666666666\n",
            "a[2] = 0.5714285714285714\n",
            "a[3] = 1.125\n",
            "a[4] = 1.7777777777777777\n",
            "f1(4) = 3.640873015873016\n",
            "a[1] = 0.0\n",
            "a[2] = 0.16666666666666666\n",
            "a[3] = 0.5714285714285714\n",
            "a[4] = 1.125\n",
            "a[5] = 1.7777777777777777\n",
            "f2(4) = 3.640873015873016\n",
            "g(4) = 2.1\n",
            "None\n"
          ]
        }
      ],
      "source": [
        "def f1(n):\n",
        "  sum = 0\n",
        "  for k in range(0, n+1):\n",
        "    a_k = k**2 / (k+n+1)\n",
        "    print(f'a[{k}] = {a_k}')\n",
        "    sum += a_k\n",
        "  return sum\n",
        "\n",
        "def f2(n):\n",
        "  sum = 0\n",
        "  for i in range(1, n+2):\n",
        "    a_i = (i-1)**2 / (i+n)\n",
        "    print(f'a[{i}] = {a_i}')\n",
        "    sum += a_i\n",
        "  return sum\n",
        "\n",
        "def g(n):\n",
        "  return (1/2) * (n**2 + n + 1) / (n+1)\n",
        "\n",
        "def c(n):\n",
        "  print(f'f1({n}) = {f1(n)}')\n",
        "  print(f'f2({n}) = {f2(n)}')\n",
        "  print(f'g({n}) = {g(n)}')\n",
        "\n",
        "for n in range(1,5):\n",
        "  print(c(n)) "
      ]
    },
    {
      "cell_type": "code",
      "source": [],
      "metadata": {
        "id": "kWVpH_yXQiVB"
      },
      "execution_count": null,
      "outputs": []
    }
  ]
}