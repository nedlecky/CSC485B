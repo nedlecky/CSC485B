{
  "nbformat": 4,
  "nbformat_minor": 0,
  "metadata": {
    "colab": {
      "provenance": [],
      "include_colab_link": true
    },
    "kernelspec": {
      "name": "python3",
      "display_name": "Python 3"
    },
    "language_info": {
      "name": "python"
    }
  },
  "cells": [
    {
      "cell_type": "markdown",
      "metadata": {
        "id": "view-in-github",
        "colab_type": "text"
      },
      "source": [
        "<a href=\"https://colab.research.google.com/github/nedlecky/CSC485B/blob/main/CSC485_140_PythagorasPipeline.ipynb\" target=\"_parent\"><img src=\"https://colab.research.google.com/assets/colab-badge.svg\" alt=\"Open In Colab\"/></a>"
      ]
    },
    {
      "cell_type": "markdown",
      "source": [
        "# CSC 485B Spring 2023: CSC485_140_PythagorasPipeline using MLP\n",
        "## Using the Pythagoras problem to illustrate pipelines\n",
        "### Input the length of the two sides, ML computes hypotenuse, perimeter, and area\n",
        "* SUNY Plattsburgh, Spring 2023\n",
        "* Dr. Ned Lecky\n",
        "* nleck001@plattsburgh.edu\n",
        "* ned@lecky.com"
      ],
      "metadata": {
        "id": "QBwjvn9X7lgy"
      }
    },
    {
      "cell_type": "code",
      "source": [
        "# Specify output directories\n",
        "from pathlib import Path\n",
        "\n",
        "OUTPUT_PATH = Path() / \"pipeline\"\n",
        "IMAGES_PATH = Path() / OUTPUT_PATH / \"images\""
      ],
      "metadata": {
        "id": "FlSDOXFHCmYc"
      },
      "execution_count": 10,
      "outputs": []
    },
    {
      "cell_type": "code",
      "source": [
        "# Setup and Support Functions\n",
        "import numpy as np\n",
        "import pandas as pd\n",
        "import matplotlib.pyplot as plt\n",
        "import os\n",
        "import sys\n",
        "import random\n",
        "\n",
        "# This makes us reproducible (and we can adjust fixed_seed to get different results)\n",
        "fixed_seed = 1\n",
        "\n",
        "# Return n random floats between lo and hi as 1-column NumPy matrix\n",
        "def rand_nlohi(n=1, lo=0, hi=1):\n",
        "  # This is just a uniform distribution from lo to hi... we can adjust if appropriate in the future\n",
        "  return (np.random.rand(n) * (hi - lo) + lo).reshape(-1,1)\n",
        "\n",
        "# Often a good idea as long as we are keeping values near +/- 1... don't need exponential notation\n",
        "np.set_printoptions(floatmode='fixed', precision=4, suppress=True)\n",
        "# This will get us all 400 rows printed... which fails past 40 x 2 columns\n",
        "np.set_printoptions(threshold=sys.maxsize)\n",
        "\n",
        "# Simple numpy array print with optional push to file\n",
        "def nprint(m, name='', also_write_file=False):\n",
        "  print(f\"{name} {m.shape} {m.dtype}\")\n",
        "  print(m)\n",
        "  if also_write_file and name != '':\n",
        "    fprint(m, name)\n",
        "\n",
        "# Print numpy array to file (needs name)\n",
        "def fprint(m, name='', path=OUTPUT_PATH):\n",
        "  if name != '':\n",
        "    with open(path /  name, 'w') as f:\n",
        "      print(f\"{name} {m.shape} {m.dtype}\", file=f)\n",
        "      print(m, file=f)\n",
        "  else:\n",
        "    print('fprint needs a name!')\n",
        "\n",
        "# Remove a file and don't complain if it doesn't exist\n",
        "def remove_file(name):\n",
        "  try:\n",
        "    os.remove(name)\n",
        "  except:\n",
        "    return\n",
        "\n",
        "# Delete a directory, recursively removing files and subdirectories\n",
        "def delete_directory(path):\n",
        "  if not OUTPUT_PATH.exists():\n",
        "    return\n",
        "\n",
        "  print(f\"delete_directory({path})\")\n",
        "  for file_name in os.listdir(path):\n",
        "    # construct full file path\n",
        "    file = path / file_name\n",
        "    if os.path.isdir(file):\n",
        "        print('  found subdirectory', file)\n",
        "        delete_directory(file)\n",
        "    elif os.path.isfile(file):\n",
        "        print('  deleting file', file)\n",
        "        os.remove(file)\n",
        "  os.rmdir(path)\n",
        "\n",
        "# Save a matplotlib figure to a png file\n",
        "def save_fig(fig_id, tight_layout=True, fig_extension=\"png\", resolution=300):\n",
        "    path = IMAGES_PATH / f\"{fig_id}.{fig_extension}\"\n",
        "    if tight_layout:\n",
        "        plt.tight_layout()\n",
        "    plt.savefig(path, format=fig_extension, dpi=resolution)\n",
        "\n",
        "# Makes default plots a bit cleaner\n",
        "plt.rc('font', size=14)\n",
        "plt.rc('axes', labelsize=14, titlesize=14)\n",
        "plt.rc('legend', fontsize=14)\n",
        "plt.rc('xtick', labelsize=10)\n",
        "plt.rc('ytick', labelsize=10)\n",
        "\n",
        "# Compare a Y with a Y_pred\n",
        "def compare_results(Y, Y_pred):\n",
        "  print(f\"Mean squared error: {mean_squared_error(Y, Y_pred):.2f}\")\n",
        "  print(f\"Mean absolute error: {mean_absolute_error(Y, Y_pred):.2f}\")\n",
        "  print(f\"Mean absolute percentage error: {mean_absolute_percentage_error(Y, Y_pred):.2f}\")\n",
        "\n",
        "  # Add the Pandas describe()\n",
        "  df = pd.DataFrame(data = Y_pred - Y)\n",
        "  print(df.describe())\n"
      ],
      "metadata": {
        "id": "0B_bKL2AjY7z"
      },
      "execution_count": 11,
      "outputs": []
    },
    {
      "cell_type": "code",
      "source": [
        "# Setup (and clear) output directories\n",
        "delete_directory(OUTPUT_PATH)\n",
        "\n",
        "OUTPUT_PATH.mkdir(parents=True, exist_ok=True)\n",
        "IMAGES_PATH.mkdir(parents=True, exist_ok=True)"
      ],
      "metadata": {
        "colab": {
          "base_uri": "https://localhost:8080/"
        },
        "id": "fteMAJjMCwlv",
        "outputId": "1e285906-fc8b-49b7-d3b9-c3a23f1969be"
      },
      "execution_count": 12,
      "outputs": [
        {
          "output_type": "stream",
          "name": "stdout",
          "text": [
            "delete_directory(pipeline)\n",
            "  deleting file pipeline/Y_train\n",
            "  deleting file pipeline/X\n",
            "  deleting file pipeline/Y_test_pred1\n",
            "  deleting file pipeline/Y_exact\n",
            "  deleting file pipeline/Y_exact:Y\n",
            "  deleting file pipeline/X:Y\n",
            "  deleting file pipeline/X_train\n",
            "  deleting file pipeline/X_raw\n",
            "  deleting file pipeline/Y:Y_pred2\n",
            "  deleting file pipeline/Y:Y_pred1\n",
            "  deleting file pipeline/Y_test\n",
            "  deleting file pipeline/Y_train_pred1\n",
            "  deleting file pipeline/X_test\n",
            "  deleting file pipeline/Y_pred1\n",
            "  deleting file pipeline/Y\n",
            "  found subdirectory pipeline/images\n",
            "delete_directory(pipeline/images)\n",
            "  deleting file pipeline/X:X_scaled\n"
          ]
        }
      ]
    },
    {
      "cell_type": "markdown",
      "source": [
        "# Make Test Data\n",
        "\n"
      ],
      "metadata": {
        "id": "YL7kMtd55FpS"
      }
    },
    {
      "cell_type": "markdown",
      "source": [
        "## X is triangles with side1 side2 spread from 2 to 2000 cm"
      ],
      "metadata": {
        "id": "IROru1MoDTLw"
      }
    },
    {
      "cell_type": "code",
      "execution_count": 13,
      "metadata": {
        "id": "nedp4wU8pITb"
      },
      "outputs": [],
      "source": [
        "# This is the full test input data for right triangles\n",
        "# Reminder: Final input is the length of the two sides, output is length of hypotenuse, perimeter, and area\n",
        "# x = [side1, side2]\n",
        "# y = [hypotenuse, perimeter, area]\n",
        "\n",
        "np.random.seed(fixed_seed)\n",
        "\n",
        "# Setup what you want to generate\n",
        "N = 400\n",
        "shortest_side = 2\n",
        "longest_side = 2000\n",
        "raw_scale = np.array([0.01, 0.01])\n",
        "\n",
        "# Generate X\n",
        "side1 = rand_nlohi(N, shortest_side, longest_side)\n",
        "side2 = rand_nlohi(N, shortest_side, longest_side)\n",
        "\n",
        "X_raw = np.hstack([side1, side2])\n",
        "fprint(X_raw,'X_raw')\n",
        "X = X_raw * raw_scale\n",
        "\n",
        "fprint(X,'X')\n"
      ]
    },
    {
      "cell_type": "markdown",
      "source": [
        "## Y can be computed from X Exactly"
      ],
      "metadata": {
        "id": "-hwvKXRZRQ1b"
      }
    },
    {
      "cell_type": "code",
      "source": [
        "# Now let's compute the expected Y\n",
        "# Reminder: We tell you the length of the two sides, you compute length of hypotenuse, perimeter, and area\n",
        "# x = [side1, side2]\n",
        "# y = [hypotenuse, perimeter, area]\n",
        "\n",
        "hypotenuse = np.sqrt(np.square(X[:,0:1]) + np.square(X[:,1:2]))\n",
        "perimeter = X[:,0:1] + X[:,1:2] + hypotenuse\n",
        "area = (X[:,0:1] * X[:,1:2]) / 2.\n",
        "Y_exact = np.hstack([hypotenuse, perimeter, area])\n",
        "\n",
        "# Optional noise in Y\n",
        "# Not tested yet!\n",
        "noise_pct = 1.00\n",
        "# Just bump all up or down by up to noise%\n",
        "Y = Y_exact * (1 + noise_pct/100. * (np.random.rand(Y_exact.shape[0], Y_exact.shape[1]) - 0.5))\n",
        "\n",
        "fprint(Y_exact,'Y_exact')\n",
        "fprint(Y,'Y')\n",
        "fprint(np.hstack([X, Y]), 'X:Y')\n",
        "fprint(np.hstack([Y_exact, Y]), 'Y_exact:Y')\n"
      ],
      "metadata": {
        "id": "w0drnB6qkR9v"
      },
      "execution_count": 14,
      "outputs": []
    },
    {
      "cell_type": "markdown",
      "source": [
        "# Split, Scale, Train, Test"
      ],
      "metadata": {
        "id": "AP9m5U--Q8_1"
      }
    },
    {
      "cell_type": "markdown",
      "source": [
        "## Without Pipeline"
      ],
      "metadata": {
        "id": "ma8jndL2Pw-s"
      }
    },
    {
      "cell_type": "code",
      "source": [
        "from sklearn.model_selection import train_test_split\n",
        "from sklearn.preprocessing import StandardScaler\n",
        "from sklearn.neural_network import MLPRegressor\n",
        "from sklearn.metrics import mean_squared_error, mean_absolute_error, mean_absolute_percentage_error\n",
        "\n",
        "# Split\n",
        "(X_train, X_test, Y_train, Y_test) = train_test_split(X, Y, test_size=0.3, random_state=1)\n",
        "fprint(X_train, 'X_train')\n",
        "fprint(X_test, 'X_test')\n",
        "fprint(Y_train, 'Y_train')\n",
        "fprint(Y_test, 'Y_test')\n",
        "\n",
        "# Scale\n",
        "scaler = StandardScaler()\n",
        "scaler.fit(X_train)\n",
        "X_scaled = scaler.transform(X)\n",
        "X_train_scaled = scaler.transform(X_train)\n",
        "X_test_scaled = scaler.transform(X_test)\n",
        "fprint(np.hstack([X, X_scaled]),'X:X_scaled')\n",
        "\n",
        "# Train\n",
        "mlp = MLPRegressor(solver='lbfgs', alpha=1e-5,\n",
        "          hidden_layer_sizes=(20,20),\n",
        "          activation='relu',\n",
        "          max_iter=10000,\n",
        "          random_state=1,\n",
        "          verbose=True)\n",
        "mlp.fit(X_train_scaled, Y_train)\n",
        "\n",
        "# Test\n",
        "Y_test_pred1 = mlp.predict(scaler.transform(X_test)).reshape(Y_test.shape[0],-1)\n",
        "Y_train_pred1 = mlp.predict(scaler.transform(X_train)).reshape(Y_train.shape[0],-1)\n",
        "Y_pred1 = mlp.predict(scaler.transform(X)).reshape(Y.shape[0],-1)\n",
        "fprint(Y_test_pred1,'Y_test_pred1')\n",
        "fprint(Y_train_pred1,'Y_train_pred1')\n",
        "fprint(Y_pred1,'Y_pred1')\n",
        "\n",
        "fprint(np.hstack([Y, Y_pred1]),'Y:Y_pred1')\n",
        "\n",
        "compare_results(Y_test, Y_test_pred1)\n",
        "compare_results(Y_train, Y_train_pred1)\n",
        "compare_results(Y, Y_pred1)"
      ],
      "metadata": {
        "id": "-gfjC9sRQ9qs",
        "colab": {
          "base_uri": "https://localhost:8080/"
        },
        "outputId": "cd28247b-c16b-4dbd-93a0-8d665f61dec0"
      },
      "execution_count": 15,
      "outputs": [
        {
          "output_type": "stream",
          "name": "stdout",
          "text": [
            "Mean squared error: 0.09\n",
            "Mean absolute error: 0.18\n",
            "Mean absolute percentage error: 0.03\n",
            "                0           1           2\n",
            "count  120.000000  120.000000  120.000000\n",
            "mean    -0.007474   -0.020197    0.066900\n",
            "std      0.080238    0.142435    0.484606\n",
            "min     -0.207274   -0.325259   -1.777535\n",
            "25%     -0.059431   -0.129327   -0.208931\n",
            "50%     -0.004004   -0.012966    0.055178\n",
            "75%      0.037836    0.061092    0.275516\n",
            "max      0.263615    0.463744    1.374515\n",
            "Mean squared error: 0.03\n",
            "Mean absolute error: 0.12\n",
            "Mean absolute percentage error: 0.01\n",
            "                0           1           2\n",
            "count  280.000000  280.000000  280.000000\n",
            "mean     0.000428    0.000114   -0.000156\n",
            "std      0.072959    0.122635    0.288112\n",
            "min     -0.222459   -0.356184   -1.407279\n",
            "25%     -0.046469   -0.080361   -0.142965\n",
            "50%      0.005318    0.002815   -0.012252\n",
            "75%      0.045806    0.082886    0.130268\n",
            "max      0.304477    0.443137    1.183217\n",
            "Mean squared error: 0.05\n",
            "Mean absolute error: 0.14\n",
            "Mean absolute percentage error: 0.02\n",
            "                0           1           2\n",
            "count  400.000000  400.000000  400.000000\n",
            "mean    -0.001942   -0.005979    0.019961\n",
            "std      0.075203    0.129050    0.359209\n",
            "min     -0.222459   -0.356184   -1.777535\n",
            "25%     -0.051209   -0.094296   -0.156213\n",
            "50%      0.002562   -0.001434   -0.005445\n",
            "75%      0.043328    0.070064    0.190187\n",
            "max      0.304477    0.463744    1.374515\n"
          ]
        }
      ]
    },
    {
      "cell_type": "code",
      "source": [
        "# If we want to submit new data we must remember to explicitly scale\n",
        "Y345 = mlp.predict(scaler.transform(np.array([3, 4]).reshape(1,-1)))\n",
        "nprint(Y345,'Y345')"
      ],
      "metadata": {
        "id": "v-vmoxt65dMk",
        "outputId": "f684b4eb-2baf-4c7b-cd47-db564dcaac2d",
        "colab": {
          "base_uri": "https://localhost:8080/"
        }
      },
      "execution_count": 16,
      "outputs": [
        {
          "output_type": "stream",
          "name": "stdout",
          "text": [
            "Y345 (1, 3) float64\n",
            "[[ 4.9693 11.9456  6.3442]]\n"
          ]
        }
      ]
    },
    {
      "cell_type": "markdown",
      "source": [
        "## With Pipeline"
      ],
      "metadata": {
        "id": "hyt4Q6xIP0pT"
      }
    },
    {
      "cell_type": "code",
      "source": [
        "from sklearn.pipeline import Pipeline\n",
        "pipe = Pipeline([\n",
        "    ('scaler', StandardScaler()),\n",
        "    ('MLP', MLPRegressor(solver='lbfgs', alpha=1e-5,\n",
        "          hidden_layer_sizes=(20,20),\n",
        "          activation='relu',\n",
        "          max_iter=10000,\n",
        "          random_state=1,\n",
        "          verbose=True))\n",
        "    ])\n",
        "pipe.fit(X_train, Y_train)\n",
        "print(f\"pipe.score = {100*pipe.score(X_test, Y_test):.4f}%\")\n",
        "Y_pred2 = pipe.predict(X)\n",
        "Y_test_pred2 = pipe.predict(X_test)\n",
        "Y_train_pred2 = pipe.predict(X_train)\n",
        "\n",
        "fprint(np.hstack([Y, Y_pred2]),'Y:Y_pred2')\n",
        "\n",
        "compare_results(Y_test, Y_test_pred2)\n",
        "compare_results(Y_train, Y_train_pred2)\n",
        "compare_results(Y, Y_pred2)\n"
      ],
      "metadata": {
        "colab": {
          "base_uri": "https://localhost:8080/"
        },
        "id": "_BbUPp8oFR9J",
        "outputId": "a8b70aee-007b-4b55-9500-d2e1001f6f7d"
      },
      "execution_count": 21,
      "outputs": [
        {
          "output_type": "stream",
          "name": "stdout",
          "text": [
            "pipe.score = 99.9812%\n",
            "Mean squared error: 0.09\n",
            "Mean absolute error: 0.18\n",
            "Mean absolute percentage error: 0.03\n",
            "                0           1           2\n",
            "count  120.000000  120.000000  120.000000\n",
            "mean    -0.007474   -0.020197    0.066900\n",
            "std      0.080238    0.142435    0.484606\n",
            "min     -0.207274   -0.325259   -1.777535\n",
            "25%     -0.059431   -0.129327   -0.208931\n",
            "50%     -0.004004   -0.012966    0.055178\n",
            "75%      0.037836    0.061092    0.275516\n",
            "max      0.263615    0.463744    1.374515\n",
            "Mean squared error: 0.03\n",
            "Mean absolute error: 0.12\n",
            "Mean absolute percentage error: 0.01\n",
            "                0           1           2\n",
            "count  280.000000  280.000000  280.000000\n",
            "mean     0.000428    0.000114   -0.000156\n",
            "std      0.072959    0.122635    0.288112\n",
            "min     -0.222459   -0.356184   -1.407279\n",
            "25%     -0.046469   -0.080361   -0.142965\n",
            "50%      0.005318    0.002815   -0.012252\n",
            "75%      0.045806    0.082886    0.130268\n",
            "max      0.304477    0.443137    1.183217\n",
            "Mean squared error: 0.05\n",
            "Mean absolute error: 0.14\n",
            "Mean absolute percentage error: 0.02\n",
            "                0           1           2\n",
            "count  400.000000  400.000000  400.000000\n",
            "mean    -0.001942   -0.005979    0.019961\n",
            "std      0.075203    0.129050    0.359209\n",
            "min     -0.222459   -0.356184   -1.777535\n",
            "25%     -0.051209   -0.094296   -0.156213\n",
            "50%      0.002562   -0.001434   -0.005445\n",
            "75%      0.043328    0.070064    0.190187\n",
            "max      0.304477    0.463744    1.374515\n"
          ]
        }
      ]
    },
    {
      "cell_type": "code",
      "source": [
        "# Show how easy it is to use the pipeline and scaling\n",
        "Y345 = pipe.predict(np.array([3, 4]).reshape(1,-1))\n",
        "nprint(Y345,'Y345')"
      ],
      "metadata": {
        "id": "ZKJkbNTC5HBU",
        "outputId": "dfb52865-d852-48df-fca4-8afa24347ed9",
        "colab": {
          "base_uri": "https://localhost:8080/"
        }
      },
      "execution_count": 22,
      "outputs": [
        {
          "output_type": "stream",
          "name": "stdout",
          "text": [
            "Y345 (1, 3) float64\n",
            "[[ 4.9693 11.9456  6.3442]]\n"
          ]
        }
      ]
    },
    {
      "cell_type": "code",
      "source": [],
      "metadata": {
        "id": "iY1X032p5JJX"
      },
      "execution_count": 18,
      "outputs": []
    }
  ]
}