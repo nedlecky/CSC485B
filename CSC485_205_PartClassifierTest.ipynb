{
  "cells": [
    {
      "cell_type": "markdown",
      "metadata": {
        "id": "view-in-github",
        "colab_type": "text"
      },
      "source": [
        "<a href=\"https://colab.research.google.com/github/nedlecky/CSC485B/blob/main/CSC485_205_PartClassifierTest.ipynb\" target=\"_parent\"><img src=\"https://colab.research.google.com/assets/colab-badge.svg\" alt=\"Open In Colab\"/></a>"
      ]
    },
    {
      "cell_type": "markdown",
      "metadata": {
        "id": "nCe96qPVuVyD"
      },
      "source": [
        "# CSC 485B Spring 2023: CSC485_205_PartClassifierStudy\n",
        "## Try classifying REALLY simple parts that \"should\" be easy\n",
        "* SUNY Plattsburgh, Spring 2023\n",
        "* Dr. Ned Lecky\n",
        "* nleck001@plattsburgh.edu\n",
        "* ned@lecky.com\n"
      ]
    },
    {
      "cell_type": "code",
      "source": [
        "# Setup and Support Functions\n",
        "import numpy as np\n",
        "import pandas as pd\n",
        "import matplotlib.pyplot as plt\n",
        "import os\n",
        "import sys\n",
        "import random\n",
        "\n",
        "\n",
        "# This makes us reproducible (and we can adjust fixed_seed to get different results)\n",
        "fixed_seed = 1\n",
        "\n",
        "# Return n random floats between lo and hi as 1-column NumPy matrix\n",
        "def rand_nlohi(n=1, lo=0, hi=1):\n",
        "  # This is just a uniform distribution from lo to hi... we can adjust if appropriate in the future\n",
        "  return (np.random.rand(n) * (hi - lo) + lo).reshape(-1,1)\n",
        "\n",
        "# Often a good idea as long as we are keeping values near +/- 1... don't need exponential notation\n",
        "np.set_printoptions(floatmode='fixed', precision=4, suppress=True)\n",
        "# This will get us all 400 rows printed... which fails past 40 x 2 columns\n",
        "np.set_printoptions(threshold=sys.maxsize)\n",
        "\n",
        "# Simple numpy array print with optional push to file\n",
        "def nprint(m, name='', also_write_file=False):\n",
        "  print(f\"{name} {m.shape} {m.dtype}\")\n",
        "  print(m)\n",
        "  if also_write_file and name != '':\n",
        "    fprint(m, name)\n",
        "\n",
        "# Print numpy array to file (needs name)\n",
        "path='classifier/'\n",
        "def fprint(m, name=''):\n",
        "  if name != '':\n",
        "    with open(path +  name, 'w') as f:\n",
        "      print(f\"{name} {m.shape} {m.dtype}\", file=f)\n",
        "      print(m, file=f)\n",
        "  else:\n",
        "    print('fprint needs a name!')\n",
        "\n",
        "# Remove a file and don't complain if it doesn't exist\n",
        "def remove_file(name):\n",
        "  try:\n",
        "    os.remove(name)\n",
        "  except:\n",
        "    return\n",
        "\n",
        "def empty_directory(path):\n",
        "  for file_name in os.listdir(path):\n",
        "    # construct full file path\n",
        "    file = path + file_name\n",
        "    if os.path.isfile(file):\n",
        "        print('Deleting file:', file)\n",
        "        os.remove(file)\n",
        "\n",
        "if not os.path.exists(path):\n",
        "  os.mkdir(path)\n",
        "\n",
        "empty_directory(path)\n"
      ],
      "metadata": {
        "id": "r9HFxEwDvfsJ",
        "colab": {
          "base_uri": "https://localhost:8080/"
        },
        "outputId": "383e3b39-0567-4817-bb55-76ef3e1c35fd"
      },
      "execution_count": null,
      "outputs": [
        {
          "output_type": "stream",
          "name": "stdout",
          "text": [
            "Deleting file: classifier/y\n",
            "Deleting file: classifier/X_test_std\n",
            "Deleting file: classifier/y_train\n",
            "Deleting file: classifier/X_train_std\n",
            "Deleting file: classifier/X\n",
            "Deleting file: classifier/y_test\n",
            "Deleting file: classifier/X_train\n",
            "Deleting file: classifier/X_test\n",
            "Deleting file: classifier/Xy\n"
          ]
        }
      ]
    },
    {
      "cell_type": "markdown",
      "metadata": {
        "id": "2869c0vsuVyJ"
      },
      "source": [
        "# Create Sample Data\n"
      ]
    },
    {
      "cell_type": "markdown",
      "source": [
        "# Data Property Study\n",
        "### 1) Say they all have the same random distribution for everything except num_holes!\n",
        "  * How well does this work?\n",
        "  * (Some but not all 100%!)\n",
        "\n",
        "### 2) How about num_holes is 6, 7, or 8?\n",
        "  * How well does this work??\n",
        "  * (Some but not all 100%!)\n",
        "\n",
        "### 3) How about num_holes is multiple is 0, even, or odd?\n",
        "  * Epic FAIL\n",
        "  * AI isn't very I.\n",
        "  * ML seems to not L very well.\n",
        "  * How would we fix this?\n",
        "    * I'd add a parameter that tests for even, odd, or 0!\n",
        "\n",
        "### 4) How about num_holes is 2-digits, 3-digits, or 4-digits??\n",
        "  * How well does this work??\n",
        "  * Not well except for DecisionTree... expected\n",
        "  * K-Nearest Neighbors also works fine(don't scale!)\n"
      ],
      "metadata": {
        "id": "Eh-YXj96q3mC"
      }
    },
    {
      "cell_type": "markdown",
      "source": [
        "## Synthesize some reasonable data"
      ],
      "metadata": {
        "id": "xYGVvILfXYjJ"
      }
    },
    {
      "cell_type": "code",
      "execution_count": null,
      "metadata": {
        "id": "mM4Jq0WKuVyK"
      },
      "outputs": [],
      "source": [
        "# Maybe we have three kinds of parts, small, medium, large, but their sizes overlap\n",
        "# Data to understand\n",
        "\n",
        "def gen_small_part():\n",
        "  area = (random.random() + 1) * 10\n",
        "  perimeter = np.sqrt(area) * (random.random()+1)\n",
        "  \n",
        "  num_holes = 0 # 1)\n",
        "  #num_holes = 6 # 2)\n",
        "  #num_holes = 0 # 3)\n",
        "  #num_holes = random.randint(10, 99) # 4)\n",
        "  \n",
        "  avg_holesize = (random.random() + 1) * 10\n",
        "  ID = 0\n",
        "  return np.array([area, perimeter, num_holes, avg_holesize, ID]).reshape(1,-1)\n",
        "\n",
        "def gen_medium_part():\n",
        "  area = (random.random() + 1) * 10\n",
        "  perimeter = np.sqrt(area) * (random.random()+1)\n",
        "\n",
        "  num_holes = 1 # 1)\n",
        "  #num_holes = 7 # 2)\n",
        "  #num_holes = random.randint(1,100) * 2 # 3)\n",
        "  #num_holes = random.randint(100, 999) # 4)\n",
        "\n",
        "  avg_holesize = (random.random() + 1) * 10\n",
        "  ID = 1\n",
        "  return np.array([area, perimeter, num_holes, avg_holesize, ID]).reshape(1,-1)\n",
        "\n",
        "def gen_large_part():\n",
        "  area = (random.random() + 1) * 10\n",
        "  perimeter = np.sqrt(area) * (random.random()+1.5)\n",
        "\n",
        "  num_holes = 2 # 1)\n",
        "  #num_holes = 8 # 2)\n",
        "  #num_holes = random.randint(1,100) * 2 + 1 # 3)\n",
        "  #num_holes = random.randint(1000, 9999) # 4)\n",
        "\n",
        "  avg_holesize = (random.random() + 1) * 10\n",
        "  ID = 2\n",
        "  return np.array([area, perimeter, num_holes, avg_holesize, ID]).reshape(1,-1)\n",
        "\n",
        "# Synthesize a certain number of each!\n",
        "n_small = 50\n",
        "n_medium = 50\n",
        "n_large = 50\n",
        "\n",
        "# First small part\n",
        "Xy = gen_small_part()\n",
        "# Now add the rest of the smalls, then the mediums and larges\n",
        "for i in range(n_small-1):\n",
        "  Xy = np.vstack([Xy, gen_small_part()])\n",
        "for i in range(n_medium):\n",
        "  Xy = np.vstack([Xy, gen_medium_part()])\n",
        "for i in range(n_large):\n",
        "  Xy = np.vstack([Xy, gen_large_part()])\n",
        "\n",
        "fprint(Xy, 'Xy')\n",
        "\n",
        "# Pull out X and y separately\n",
        "X = Xy[:,0:4]\n",
        "y = Xy[:,4].astype(int)  \n",
        "fprint(X, 'X')\n",
        "fprint(y, 'y')\n"
      ]
    },
    {
      "cell_type": "markdown",
      "metadata": {
        "id": "gd-MTQywuVyL"
      },
      "source": [
        "## Split the data... and see the value of stratifying\n"
      ]
    },
    {
      "cell_type": "code",
      "execution_count": null,
      "metadata": {
        "id": "WuBygpd4uVyL",
        "colab": {
          "base_uri": "https://localhost:8080/"
        },
        "outputId": "914464c2-c85e-4d98-dbbf-92adb1238f8a"
      },
      "outputs": [
        {
          "output_type": "stream",
          "name": "stdout",
          "text": [
            "No stratrification is BAD\n",
            "Labels count in y: [50 50 50]\n",
            "Labels count in y_train: [36 32 37]\n",
            "Labels count in y_test: [14 18 13]\n",
            "Stratified: This is GOOD\n",
            "Labels count in y: [50 50 50]\n",
            "Labels count in y_train: [35 35 35]\n",
            "Labels count in y_test: [15 15 15]\n"
          ]
        }
      ],
      "source": [
        "from sklearn.model_selection import train_test_split\n",
        "def eval_datasets():\n",
        "  print('Labels count in y:', np.bincount(y))\n",
        "  print('Labels count in y_train:', np.bincount(y_train))\n",
        "  print('Labels count in y_test:', np.bincount(y_test))\n",
        "\n",
        "X_train, X_test, y_train, y_test = train_test_split(\n",
        "    X, y, test_size=0.3, random_state=1)\n",
        "print('No stratrification is BAD')\n",
        "eval_datasets();\n",
        "\n",
        "X_train, X_test, y_train, y_test = train_test_split(\n",
        "    X, y, test_size=0.3, random_state=1, stratify=y)\n",
        "\n",
        "print('Stratified: This is GOOD')\n",
        "eval_datasets();\n",
        "\n",
        "fprint(X_train, 'X_train')\n",
        "fprint(X_test, 'X_test')\n",
        "fprint(y_train, 'y_train')\n",
        "fprint(y_test, 'y_test')\n"
      ]
    },
    {
      "cell_type": "markdown",
      "metadata": {
        "id": "gK2s8ONjuVyL"
      },
      "source": [
        "## Standardize the features"
      ]
    },
    {
      "cell_type": "code",
      "execution_count": null,
      "metadata": {
        "id": "7_t0cRNDuVyM"
      },
      "outputs": [],
      "source": [
        "from sklearn.preprocessing import StandardScaler\n",
        "\n",
        "sc = StandardScaler()\n",
        "sc.fit(X_train)\n",
        "X_train_std = sc.transform(X_train)\n",
        "X_test_std = sc.transform(X_test)\n",
        "fprint(X_train_std, 'X_train_std')\n",
        "fprint(X_test_std, 'X_test_std')"
      ]
    },
    {
      "cell_type": "markdown",
      "metadata": {
        "id": "lctryoTcuVyO"
      },
      "source": [
        "# Build an Evaluation Function"
      ]
    },
    {
      "cell_type": "code",
      "source": [
        "# Evaluation Function\n",
        "from sklearn.metrics import accuracy_score\n",
        "\n",
        "def evaluate(classifier):\n",
        "  y_pred = classifier.predict(X_test_std)\n",
        "  n_wrong = (y_test != y_pred).sum()\n",
        "  n_total = y_pred.shape[0]\n",
        "  print(f'Misclassified TEST examples: {n_wrong} of {n_total} ({100.0*(n_total-n_wrong)/n_total:.1f}% correct)')\n",
        "\n",
        "  print(f'accuracy_score: {accuracy_score(y_test, y_pred):.3f}')\n",
        "  print(f'classifier.score: {classifier.score(X_test_std, y_test):.3f}')\n",
        "\n",
        "  y_pred_train = classifier.predict(X_train_std)\n",
        "  n_wrong = (y_train != y_pred_train).sum()\n",
        "  n_total = y_pred_train.shape[0]\n",
        "  print(f'Misclassified TRAIN examples: {n_wrong} of {n_total} ({100.0*(n_total-n_wrong)/n_total:.1f}% correct)')\n",
        "\n",
        "  print(f'accuracy_score: {accuracy_score(y_train, y_pred_train):.3f}')\n",
        "  print(f'classifier.score: {classifier.score(X_train_std, y_train):.3f}')\n",
        "\n",
        "def evaluate_raw(classifier):\n",
        "  y_pred = classifier.predict(X_test)\n",
        "  n_wrong = (y_test != y_pred).sum()\n",
        "  n_total = y_pred.shape[0]\n",
        "  print(f'Misclassified TEST examples: {n_wrong} of {n_total} ({100.0*(n_total-n_wrong)/n_total:.1f}% correct)')\n",
        "\n",
        "  print(f'accuracy_score: {accuracy_score(y_test, y_pred):.3f}')\n",
        "  print(f'classifier.score: {classifier.score(X_test_std, y_test):.3f}')\n",
        "\n",
        "  y_pred_train = classifier.predict(X_train)\n",
        "  n_wrong = (y_train != y_pred_train).sum()\n",
        "  n_total = y_pred_train.shape[0]\n",
        "  print(f'Misclassified TRAIN examples: {n_wrong} of {n_total} ({100.0*(n_total-n_wrong)/n_total:.1f}% correct)')\n",
        "\n",
        "  print(f'accuracy_score: {accuracy_score(y_train, y_pred_train):.3f}')\n",
        "  print(f'classifier.score: {classifier.score(X_train_std, y_train):.3f}')\n"
      ],
      "metadata": {
        "id": "qVhSIvShYsZF"
      },
      "execution_count": null,
      "outputs": []
    },
    {
      "cell_type": "markdown",
      "metadata": {
        "id": "cgKxk5aEuVyM"
      },
      "source": [
        "# Training Classifiers"
      ]
    },
    {
      "cell_type": "markdown",
      "source": [
        "## Perceptron"
      ],
      "metadata": {
        "id": "Mv9zH2llbvnZ"
      }
    },
    {
      "cell_type": "code",
      "execution_count": null,
      "metadata": {
        "colab": {
          "base_uri": "https://localhost:8080/"
        },
        "id": "wCOGIaMruVyM",
        "outputId": "b7e8e1ee-4e09-4a45-dba3-b93e1e9a8637"
      },
      "outputs": [
        {
          "output_type": "stream",
          "name": "stdout",
          "text": [
            "Misclassified TEST examples: 5 of 45 (88.9% correct)\n",
            "accuracy_score: 0.889\n",
            "classifier.score: 0.889\n",
            "Misclassified TRAIN examples: 14 of 105 (86.7% correct)\n",
            "accuracy_score: 0.867\n",
            "classifier.score: 0.867\n"
          ]
        }
      ],
      "source": [
        "from sklearn.linear_model import Perceptron\n",
        "\n",
        "ppn = Perceptron(max_iter=10000, eta0=0.1, random_state=1)\n",
        "ppn.fit(X_train_std, y_train)\n",
        "evaluate(ppn)"
      ]
    },
    {
      "cell_type": "markdown",
      "metadata": {
        "id": "0bILdpFKuVyR"
      },
      "source": [
        "## Logistic regression"
      ]
    },
    {
      "cell_type": "code",
      "execution_count": null,
      "metadata": {
        "colab": {
          "base_uri": "https://localhost:8080/"
        },
        "id": "w51I6D2_uVyR",
        "outputId": "c1fbb0ac-8487-4c43-8770-cf615cfd2153"
      },
      "outputs": [
        {
          "output_type": "stream",
          "name": "stdout",
          "text": [
            "Misclassified TEST examples: 0 of 45 (100.0% correct)\n",
            "accuracy_score: 1.000\n",
            "classifier.score: 1.000\n",
            "Misclassified TRAIN examples: 0 of 105 (100.0% correct)\n",
            "accuracy_score: 1.000\n",
            "classifier.score: 1.000\n"
          ]
        }
      ],
      "source": [
        "from sklearn.linear_model import LogisticRegression\n",
        "\n",
        "lr = LogisticRegression(C=100.0, random_state=1, solver='lbfgs', multi_class='ovr')\n",
        "lr.fit(X_train_std, y_train)\n",
        "evaluate(lr)\n"
      ]
    },
    {
      "cell_type": "code",
      "execution_count": null,
      "metadata": {
        "colab": {
          "base_uri": "https://localhost:8080/"
        },
        "id": "sxEeDx0luVyU",
        "outputId": "b98c765c-524b-477a-aa9a-a82eda503e6b"
      },
      "outputs": [
        {
          "output_type": "stream",
          "name": "stdout",
          "text": [
            "Misclassified TEST examples: 0 of 45 (100.0% correct)\n",
            "accuracy_score: 1.000\n",
            "classifier.score: 1.000\n",
            "Misclassified TRAIN examples: 0 of 105 (100.0% correct)\n",
            "accuracy_score: 1.000\n",
            "classifier.score: 1.000\n"
          ]
        }
      ],
      "source": [
        "from sklearn.svm import SVC\n",
        "\n",
        "svm = SVC(kernel='linear', C=1.0, random_state=1)\n",
        "svm.fit(X_train_std, y_train)\n",
        "evaluate(svm)\n"
      ]
    },
    {
      "cell_type": "markdown",
      "metadata": {
        "id": "kBbeGVQ-uVyU"
      },
      "source": [
        "## Alternative implementations"
      ]
    },
    {
      "cell_type": "code",
      "execution_count": null,
      "metadata": {
        "id": "-36yW8IjuVyV",
        "colab": {
          "base_uri": "https://localhost:8080/"
        },
        "outputId": "ecbc844c-a1d4-4a99-d569-7c68285827f9"
      },
      "outputs": [
        {
          "output_type": "stream",
          "name": "stdout",
          "text": [
            "Misclassified TEST examples: 0 of 45 (100.0% correct)\n",
            "accuracy_score: 1.000\n",
            "classifier.score: 1.000\n",
            "Misclassified TRAIN examples: 1 of 105 (99.0% correct)\n",
            "accuracy_score: 0.990\n",
            "classifier.score: 0.990\n",
            "Misclassified TEST examples: 7 of 45 (84.4% correct)\n",
            "accuracy_score: 0.844\n",
            "classifier.score: 0.844\n",
            "Misclassified TRAIN examples: 8 of 105 (92.4% correct)\n",
            "accuracy_score: 0.924\n",
            "classifier.score: 0.924\n",
            "Misclassified TEST examples: 4 of 45 (91.1% correct)\n",
            "accuracy_score: 0.911\n",
            "classifier.score: 0.911\n",
            "Misclassified TRAIN examples: 13 of 105 (87.6% correct)\n",
            "accuracy_score: 0.876\n",
            "classifier.score: 0.876\n"
          ]
        },
        {
          "output_type": "stream",
          "name": "stderr",
          "text": [
            "/usr/local/lib/python3.8/dist-packages/sklearn/linear_model/_stochastic_gradient.py:163: FutureWarning: The loss 'log' was deprecated in v1.1 and will be removed in version 1.3. Use `loss='log_loss'` which is equivalent.\n",
            "  warnings.warn(\n"
          ]
        }
      ],
      "source": [
        "from sklearn.linear_model import SGDClassifier\n",
        "\n",
        "ppn = SGDClassifier(loss='perceptron')\n",
        "ppn.fit(X_train_std, y_train)\n",
        "evaluate(ppn)\n",
        "\n",
        "lr = SGDClassifier(loss='log')\n",
        "lr.fit(X_train_std, y_train)\n",
        "evaluate(lr)\n",
        "\n",
        "svm = SGDClassifier(loss='hinge')\n",
        "svm.fit(X_train_std, y_train)\n",
        "evaluate(svm)\n"
      ]
    },
    {
      "cell_type": "markdown",
      "metadata": {
        "id": "-6G_9jMNuVyV"
      },
      "source": [
        "<br>\n",
        "<br>"
      ]
    },
    {
      "cell_type": "code",
      "execution_count": null,
      "metadata": {
        "colab": {
          "base_uri": "https://localhost:8080/"
        },
        "id": "1Jfe4J5wuVyW",
        "outputId": "7cc00700-647b-4063-b710-cc7b40ddebb4"
      },
      "outputs": [
        {
          "output_type": "stream",
          "name": "stdout",
          "text": [
            "Misclassified TEST examples: 0 of 45 (100.0% correct)\n",
            "accuracy_score: 1.000\n",
            "classifier.score: 1.000\n",
            "Misclassified TRAIN examples: 0 of 105 (100.0% correct)\n",
            "accuracy_score: 1.000\n",
            "classifier.score: 1.000\n"
          ]
        }
      ],
      "source": [
        "from sklearn.svm import SVC\n",
        "\n",
        "svm = SVC(kernel='rbf', random_state=1, gamma=0.2, C=1.0)\n",
        "svm.fit(X_train_std, y_train)\n",
        "evaluate(svm)\n"
      ]
    },
    {
      "cell_type": "code",
      "execution_count": null,
      "metadata": {
        "colab": {
          "base_uri": "https://localhost:8080/"
        },
        "id": "m1VaYMMxuVyW",
        "outputId": "9c1e97e4-ca1f-4132-c163-d862f2b816a9"
      },
      "outputs": [
        {
          "output_type": "stream",
          "name": "stdout",
          "text": [
            "Misclassified TEST examples: 27 of 45 (40.0% correct)\n",
            "accuracy_score: 0.400\n",
            "classifier.score: 0.400\n",
            "Misclassified TRAIN examples: 0 of 105 (100.0% correct)\n",
            "accuracy_score: 1.000\n",
            "classifier.score: 1.000\n"
          ]
        }
      ],
      "source": [
        "svm = SVC(kernel='rbf', random_state=1, gamma=100.0, C=1.0)\n",
        "svm.fit(X_train_std, y_train)\n",
        "evaluate(svm)\n"
      ]
    },
    {
      "cell_type": "markdown",
      "metadata": {
        "id": "RTTUvFSvuVyY"
      },
      "source": [
        "## Building a decision tree"
      ]
    },
    {
      "cell_type": "code",
      "execution_count": null,
      "metadata": {
        "id": "rar_t9lIuVyY",
        "colab": {
          "base_uri": "https://localhost:8080/"
        },
        "outputId": "f61c890d-e36d-41b0-f1fa-142758eb05c5"
      },
      "outputs": [
        {
          "output_type": "stream",
          "name": "stdout",
          "text": [
            "Misclassified TEST examples: 0 of 45 (100.0% correct)\n",
            "accuracy_score: 1.000\n",
            "classifier.score: 0.333\n",
            "Misclassified TRAIN examples: 0 of 105 (100.0% correct)\n",
            "accuracy_score: 1.000\n",
            "classifier.score: 0.333\n"
          ]
        }
      ],
      "source": [
        "from sklearn.tree import DecisionTreeClassifier\n",
        "\n",
        "tree_model = DecisionTreeClassifier(criterion='gini', \n",
        "                                    max_depth=6, \n",
        "                                    random_state=1)\n",
        "tree_model.fit(X_train, y_train)\n",
        "evaluate_raw(tree_model)\n",
        "\n"
      ]
    },
    {
      "cell_type": "code",
      "execution_count": null,
      "metadata": {
        "colab": {
          "base_uri": "https://localhost:8080/",
          "height": 248
        },
        "id": "iv_2Ob-yuVyY",
        "outputId": "fc43582a-5c40-4c03-9379-d59718c9415b"
      },
      "outputs": [
        {
          "output_type": "display_data",
          "data": {
            "text/plain": [
              "<Figure size 432x288 with 1 Axes>"
            ],
            "image/png": "[encoded data removed]"
          },
          "metadata": {
            "needs_background": "light"
          }
        }
      ],
      "source": [
        "from sklearn import tree\n",
        "\n",
        "tree.plot_tree(tree_model)\n",
        "plt.show()"
      ]
    },
    {
      "cell_type": "markdown",
      "metadata": {
        "id": "mva1nRiRuVyY"
      },
      "source": [
        "<br>\n",
        "<br>"
      ]
    },
    {
      "cell_type": "code",
      "execution_count": null,
      "metadata": {
        "colab": {
          "base_uri": "https://localhost:8080/"
        },
        "id": "kehL9QkVuVyY",
        "outputId": "7127f2d6-2572-4028-d3ca-1ae40ea730ef"
      },
      "outputs": [
        {
          "output_type": "execute_result",
          "data": {
            "text/plain": [
              "True"
            ]
          },
          "metadata": {},
          "execution_count": 65
        }
      ],
      "source": [
        "from pydotplus import graph_from_dot_data\n",
        "from sklearn.tree import export_graphviz\n",
        "\n",
        "dot_data = export_graphviz(tree_model,\n",
        "                           filled=True, \n",
        "                           rounded=True,\n",
        "                           class_names=['small', \n",
        "                                        'medium',\n",
        "                                        'large'],\n",
        "                           feature_names=['area', \n",
        "                                          'perimeter',\n",
        "                                          'num_holes',\n",
        "                                          'avg_holesize'],\n",
        "                           out_file=None) \n",
        "graph = graph_from_dot_data(dot_data) \n",
        "graph.write_png('tree.png') "
      ]
    },
    {
      "cell_type": "markdown",
      "metadata": {
        "id": "aXZCMPHJuVyZ"
      },
      "source": [
        "## Combine decision trees in a random forest"
      ]
    },
    {
      "cell_type": "code",
      "execution_count": null,
      "metadata": {
        "colab": {
          "base_uri": "https://localhost:8080/"
        },
        "id": "cbh3pvsEuVyZ",
        "outputId": "ba72e13e-caf6-43ea-88b6-203eb3511aeb"
      },
      "outputs": [
        {
          "output_type": "stream",
          "name": "stderr",
          "text": [
            "[Parallel(n_jobs=1)]: Using backend SequentialBackend with 1 concurrent workers.\n"
          ]
        },
        {
          "output_type": "stream",
          "name": "stdout",
          "text": [
            "Misclassified TEST examples: 0 of 45 (100.0% correct)\n",
            "accuracy_score: 1.000\n",
            "classifier.score: 0.333\n",
            "Misclassified TRAIN examples: 0 of 105 (100.0% correct)\n",
            "accuracy_score: 1.000\n",
            "classifier.score: 0.333\n"
          ]
        },
        {
          "output_type": "stream",
          "name": "stderr",
          "text": [
            "[Parallel(n_jobs=1)]: Done 100 out of 100 | elapsed:    0.3s finished\n",
            "[Parallel(n_jobs=1)]: Using backend SequentialBackend with 1 concurrent workers.\n",
            "[Parallel(n_jobs=1)]: Done 100 out of 100 | elapsed:    0.0s finished\n",
            "[Parallel(n_jobs=1)]: Using backend SequentialBackend with 1 concurrent workers.\n",
            "[Parallel(n_jobs=1)]: Done 100 out of 100 | elapsed:    0.0s finished\n",
            "[Parallel(n_jobs=1)]: Using backend SequentialBackend with 1 concurrent workers.\n",
            "[Parallel(n_jobs=1)]: Done 100 out of 100 | elapsed:    0.0s finished\n",
            "[Parallel(n_jobs=1)]: Using backend SequentialBackend with 1 concurrent workers.\n",
            "[Parallel(n_jobs=1)]: Done 100 out of 100 | elapsed:    0.0s finished\n"
          ]
        }
      ],
      "source": [
        "from sklearn.ensemble import RandomForestClassifier\n",
        "\n",
        "forest = RandomForestClassifier(criterion='gini',max_depth=6,verbose=1,random_state=1)\n",
        "forest.fit(X_train, y_train)\n",
        "evaluate_raw(forest)\n"
      ]
    },
    {
      "cell_type": "markdown",
      "metadata": {
        "id": "Gd4ObvmIuVyZ"
      },
      "source": [
        "## K-nearest neighbors - a lazy learning algorithm"
      ]
    },
    {
      "cell_type": "code",
      "execution_count": null,
      "metadata": {
        "colab": {
          "base_uri": "https://localhost:8080/"
        },
        "id": "q4C5aXRpuVya",
        "outputId": "6d9ba5b8-d0f8-454a-d9b5-496f28500ead"
      },
      "outputs": [
        {
          "output_type": "stream",
          "name": "stdout",
          "text": [
            "Misclassified TEST examples: 0 of 45 (100.0% correct)\n",
            "accuracy_score: 1.000\n",
            "classifier.score: 1.000\n",
            "Misclassified TRAIN examples: 0 of 105 (100.0% correct)\n",
            "accuracy_score: 1.000\n",
            "classifier.score: 1.000\n",
            "Misclassified TEST examples: 11 of 45 (75.6% correct)\n",
            "accuracy_score: 0.756\n",
            "classifier.score: 0.422\n",
            "Misclassified TRAIN examples: 18 of 105 (82.9% correct)\n",
            "accuracy_score: 0.829\n",
            "classifier.score: 0.429\n"
          ]
        }
      ],
      "source": [
        "from sklearn.neighbors import KNeighborsClassifier\n",
        "\n",
        "knn = KNeighborsClassifier(n_neighbors=5, \n",
        "                           p=2, \n",
        "                           metric='minkowski')\n",
        "knn.fit(X_train_std, y_train)\n",
        "evaluate(knn)\n",
        "knn.fit(X_train, y_train)\n",
        "evaluate_raw(knn)\n",
        "\n"
      ]
    },
    {
      "cell_type": "code",
      "source": [],
      "metadata": {
        "id": "CX4_WMhwgYwx"
      },
      "execution_count": null,
      "outputs": []
    }
  ],
  "metadata": {
    "anaconda-cloud": {},
    "kernelspec": {
      "display_name": "Python 3 (ipykernel)",
      "language": "python",
      "name": "python3"
    },
    "language_info": {
      "codemirror_mode": {
        "name": "ipython",
        "version": 3
      },
      "file_extension": ".py",
      "mimetype": "text/x-python",
      "name": "python",
      "nbconvert_exporter": "python",
      "pygments_lexer": "ipython3",
      "version": "3.9.13"
    },
    "toc": {
      "nav_menu": {},
      "number_sections": true,
      "sideBar": true,
      "skip_h1_title": false,
      "title_cell": "Table of Contents",
      "title_sidebar": "Contents",
      "toc_cell": false,
      "toc_position": {},
      "toc_section_display": true,
      "toc_window_display": false
    },
    "colab": {
      "provenance": [],
      "include_colab_link": true
    }
  },
  "nbformat": 4,
  "nbformat_minor": 0
}