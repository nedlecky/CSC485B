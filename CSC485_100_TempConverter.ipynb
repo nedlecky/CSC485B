{
  "nbformat": 4,
  "nbformat_minor": 0,
  "metadata": {
    "colab": {
      "provenance": [],
      "authorship_tag": "ABX9TyOWRD3OhSgm38FyxNwc0AzT",
      "include_colab_link": true
    },
    "kernelspec": {
      "name": "python3",
      "display_name": "Python 3"
    },
    "language_info": {
      "name": "python"
    }
  },
  "cells": [
    {
      "cell_type": "markdown",
      "metadata": {
        "id": "view-in-github",
        "colab_type": "text"
      },
      "source": [
        "<a href=\"https://colab.research.google.com/github/nedlecky/CSC485B/blob/main/CSC485_100_TempConverter.ipynb\" target=\"_parent\"><img src=\"https://colab.research.google.com/assets/colab-badge.svg\" alt=\"Open In Colab\"/></a>"
      ]
    },
    {
      "cell_type": "markdown",
      "source": [
        "# CSC 485B Spring 2023\n",
        "## Linear Regression as easy as could be\n",
        "Just as a trivial example to show the mechanics, can we figure out Celius to Fahrenheit conversion?"
      ],
      "metadata": {
        "id": "QBwjvn9X7lgy"
      }
    },
    {
      "cell_type": "code",
      "execution_count": null,
      "metadata": {
        "id": "nedp4wU8pITb"
      },
      "outputs": [],
      "source": [
        "import numpy as np\n",
        "\n",
        "# My test data: two ordered pairs (Tcelsius, Tfahrenheit) as (x[0],y[0]), (x[1],y[1])\n",
        "x = np.array([0, 100], dtype=float)\n",
        "y = np.array([32,212], dtype=float)\n"
      ]
    },
    {
      "cell_type": "code",
      "source": [
        "# Let's take a look at the sample data\n",
        "import matplotlib.pyplot as plt\n",
        "\n",
        "plt.scatter(x,y, color='black')\n",
        "plt.plot(x,y)\n",
        "\n",
        "plt.title('Raw Data')\n",
        "plt.xlabel('Celsius')\n",
        "plt.ylabel('Fahrenheit')\n",
        "plt.grid()\n",
        "plt.show()\n"
      ],
      "metadata": {
        "id": "TJL4mgNPw0b7"
      },
      "execution_count": null,
      "outputs": []
    },
    {
      "cell_type": "code",
      "source": [
        "# For n inputs and m outputs with N examples... (Note here n=m=1 and N=2)\n",
        "# We need X to be an Nxn matrix and Y to be an Nxm matrix\n",
        "n=1 # 1 input\n",
        "m=1 # 1 output\n",
        "N=2 # 2 samples\n",
        "X = x.reshape(N,n)\n",
        "Y = y.reshape(N,m)\n",
        "\n",
        "# Just to show Matplotlib doesn't care about the shape!\n",
        "plt.scatter(X,Y,color='black')\n",
        "plt.plot(X,Y)\n",
        "\n",
        "plt.title('Raw Data')\n",
        "plt.xlabel('Celsius')\n",
        "plt.ylabel('Fahrenheit')\n",
        "plt.grid()\n",
        "plt.show()\n"
      ],
      "metadata": {
        "id": "ZH6LDk1M90kH"
      },
      "execution_count": null,
      "outputs": []
    },
    {
      "cell_type": "code",
      "source": [
        "# Now let's train a linear regression (this better work pretty well!!)\n",
        "from sklearn import linear_model\n",
        "from sklearn.metrics import mean_squared_error, r2_score\n",
        "\n",
        "regr = linear_model.LinearRegression()\n",
        "regr.fit(X, y)\n",
        "\n",
        "np.set_printoptions(precision=1) # This seems to be necessary\n",
        "print(f\"Coefficients: {regr.coef_}\", regr.coef_)\n",
        "print(f\"Offsets: {regr.intercept_}\")\n",
        "print(f\"In other words, Tfahrenheit = {regr.coef_[0]} * Tcelsius + {regr.intercept_}\")\n",
        "\n",
        "y_pred = regr.predict(X)\n",
        "print(\"Mean squared error: %.2f\" % mean_squared_error(y, y_pred))\n",
        "print(\"Coefficient of determination: %.2f\" % r2_score(y, y_pred))\n",
        "\n",
        "# Plot original and predicted\n",
        "plt.scatter(X, y, color=\"black\")\n",
        "plt.plot(X, y_pred, color=\"blue\", linewidth=3)\n",
        "plt.title('Raw Data')\n",
        "plt.xlabel('Celsius')\n",
        "plt.ylabel('Fahrenheit')\n",
        "plt.grid()\n",
        "plt.show()\n"
      ],
      "metadata": {
        "id": "YDCaPOeifAYp"
      },
      "execution_count": null,
      "outputs": []
    },
    {
      "cell_type": "code",
      "source": [
        "# And we could make a test dataset and it would (of course) work just fine\n",
        "def test_inputs(X_test, title='Test Data'):\n",
        "  y_pred = regr.predict(X_test)\n",
        "\n",
        "  # Plot original and predicted\n",
        "  plt.scatter(X, y, color=\"black\")\n",
        "  plt.scatter(X_test, y_pred, color=\"black\")\n",
        "  plt.plot(X_test, y_pred, color=\"blue\", linewidth=3)\n",
        "  plt.title(title)\n",
        "  plt.xlabel('Celsius')\n",
        "  plt.ylabel('Fahrenheit')\n",
        "  plt.grid()\n",
        "  plt.show()\n",
        "\n",
        "# Regular test data\n",
        "X_test = np.arange(-100,200,10)\n",
        "test_inputs(X_test.reshape(-1,1), 'First Test')\n",
        "\n",
        "# Some random test data\n",
        "X_test = np.random.rand(50)*200-100\n",
        "test_inputs(X_test.reshape(-1,1), 'Second Test')\n"
      ],
      "metadata": {
        "id": "_B5SHmSi5yeQ"
      },
      "execution_count": null,
      "outputs": []
    },
    {
      "cell_type": "code",
      "source": [],
      "metadata": {
        "id": "Y7_X8rbII8ft"
      },
      "execution_count": null,
      "outputs": []
    }
  ]
}