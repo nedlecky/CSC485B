{
  "nbformat": 4,
  "nbformat_minor": 0,
  "metadata": {
    "colab": {
      "provenance": [],
      "authorship_tag": "ABX9TyP02UDB+6O16Yvvw+ApwnAa",
      "include_colab_link": true
    },
    "kernelspec": {
      "name": "python3",
      "display_name": "Python 3"
    },
    "language_info": {
      "name": "python"
    }
  },
  "cells": [
    {
      "cell_type": "markdown",
      "metadata": {
        "id": "view-in-github",
        "colab_type": "text"
      },
      "source": [
        "<a href=\"https://colab.research.google.com/github/nedlecky/CSC485B/blob/main/ChatGPT_Pythagoras.ipynb\" target=\"_parent\"><img src=\"https://colab.research.google.com/assets/colab-badge.svg\" alt=\"Open In Colab\"/></a>"
      ]
    },
    {
      "cell_type": "code",
      "execution_count": null,
      "metadata": {
        "id": "mGTzcI18_Fo0"
      },
      "outputs": [],
      "source": [
        "# ChatGPT: write me a python program to compute the pythagorean theorem using a neural network in pytorch"
      ]
    },
    {
      "cell_type": "code",
      "source": [
        "# Note: Don't forget to initialize the neural network using net = Net() and to put it in training mode using net.train().\n",
        "import torch\n",
        "import torch.nn as nn\n",
        "import torch.optim as optim\n"
      ],
      "metadata": {
        "id": "YUb9_1Z2_NkE"
      },
      "execution_count": null,
      "outputs": []
    },
    {
      "cell_type": "code",
      "source": [
        "class Net(nn.Module):\n",
        "    def __init__(self):\n",
        "        super(Net, self).__init__()\n",
        "        self.fc1 = nn.Linear(2, 10)  # input layer\n",
        "        self.fc2 = nn.Linear(10, 10)  # hidden layer\n",
        "        self.fc3 = nn.Linear(10, 1)  # output layer\n",
        "\n",
        "    def forward(self, x):\n",
        "        # Original\n",
        "        #x = torch.pow(self.fc1(x), 2)\n",
        "        #x = torch.sum(x, dim=1, keepdim=True)\n",
        "        #x = torch.sqrt(x)\n",
        "        #x = self.fc3(x)\n",
        "        # Ned\n",
        "        x = self.fc1(x)\n",
        "        x = torch.relu(x)\n",
        "        x = self.fc2(x)\n",
        "        x = torch.relu(x)\n",
        "        x = self.fc3(x)\n",
        "        return x\n"
      ],
      "metadata": {
        "id": "98xMAaz8_OXK"
      },
      "execution_count": null,
      "outputs": []
    },
    {
      "cell_type": "code",
      "source": [
        "net = Net() # As recommended\n",
        "criterion = nn.MSELoss()\n",
        "optimizer = optim.Adam(net.parameters(), lr=0.0001) # Ned lr was 0.01\n"
      ],
      "metadata": {
        "id": "rgHHVFrM_Ocq"
      },
      "execution_count": null,
      "outputs": []
    },
    {
      "cell_type": "code",
      "source": [
        "x_train = torch.randn(1000, 2)\n",
        "y_train = torch.norm(x_train, dim=1, keepdim=True)\n",
        "\n"
      ],
      "metadata": {
        "id": "01s9IlIx_x5M"
      },
      "execution_count": null,
      "outputs": []
    },
    {
      "cell_type": "code",
      "source": [
        "net.train()  # As recommended\n",
        "\n",
        "for epoch in range(10000): # Ned was 5000\n",
        "    optimizer.zero_grad()\n",
        "    outputs = net(x_train)\n",
        "    loss = criterion(outputs, y_train)\n",
        "    loss.backward()\n",
        "    optimizer.step()\n",
        "    # Ned added instrumentation\n",
        "    if epoch%1000 == 0:\n",
        "      print(f'Epoch {epoch}: loss={loss:.06f}')\n"
      ],
      "metadata": {
        "colab": {
          "base_uri": "https://localhost:8080/"
        },
        "id": "l87ZDPcc_Ogi",
        "outputId": "a16a12fa-2962-43f7-9014-81473ce5256c"
      },
      "execution_count": null,
      "outputs": [
        {
          "output_type": "stream",
          "name": "stdout",
          "text": [
            "Epoch 0: loss=0.020382\n",
            "Epoch 1000: loss=0.008878\n",
            "Epoch 2000: loss=0.004727\n",
            "Epoch 3000: loss=0.002615\n",
            "Epoch 4000: loss=0.001395\n",
            "Epoch 5000: loss=0.000784\n",
            "Epoch 6000: loss=0.000509\n",
            "Epoch 7000: loss=0.000330\n",
            "Epoch 8000: loss=0.000213\n",
            "Epoch 9000: loss=0.000121\n"
          ]
        }
      ]
    },
    {
      "cell_type": "code",
      "source": [
        "x_test = torch.tensor([[3.0, 4.0], [4.0,3.0]])  # input values (a, b)\n",
        "y_pred = net(x_test)\n",
        "print(y_pred)  # print the predicted hypotenuse value\n"
      ],
      "metadata": {
        "colab": {
          "base_uri": "https://localhost:8080/"
        },
        "id": "0oDUtov5_Ojs",
        "outputId": "5c8c07d1-f05b-4c0a-af0d-313751979142"
      },
      "execution_count": null,
      "outputs": [
        {
          "output_type": "stream",
          "name": "stdout",
          "text": [
            "tensor([[5.0274],\n",
            "        [5.0464]], grad_fn=<AddmmBackward0>)\n"
          ]
        }
      ]
    },
    {
      "cell_type": "code",
      "source": [],
      "metadata": {
        "id": "UyzRENqm_Omi"
      },
      "execution_count": null,
      "outputs": []
    }
  ]
}