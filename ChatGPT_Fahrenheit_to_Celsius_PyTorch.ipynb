{
  "nbformat": 4,
  "nbformat_minor": 0,
  "metadata": {
    "colab": {
      "provenance": [],
      "authorship_tag": "ABX9TyODW/EAIXWmDZkTVoaNAfzu",
      "include_colab_link": true
    },
    "kernelspec": {
      "name": "python3",
      "display_name": "Python 3"
    },
    "language_info": {
      "name": "python"
    }
  },
  "cells": [
    {
      "cell_type": "markdown",
      "metadata": {
        "id": "view-in-github",
        "colab_type": "text"
      },
      "source": [
        "<a href=\"https://colab.research.google.com/github/nedlecky/CSC485B/blob/main/ChatGPT_Fahrenheit_to_Celsius_PyTorch.ipynb\" target=\"_parent\"><img src=\"https://colab.research.google.com/assets/colab-badge.svg\" alt=\"Open In Colab\"/></a>"
      ]
    },
    {
      "cell_type": "code",
      "execution_count": 1,
      "metadata": {
        "id": "aRYxwPbDR5ie"
      },
      "outputs": [],
      "source": [
        "import torch\n",
        "import torch.nn as nn\n",
        "import torch.optim as optim\n",
        "import numpy as np\n",
        "\n",
        "# Generate some training data\n",
        "celsius = np.random.uniform(-273.15, 100, size=(1000, 1))\n",
        "fahrenheit = celsius * 1.8 + 32\n",
        "\n",
        "# Define the network architecture\n",
        "class Net(nn.Module):\n",
        "    def __init__(self):\n",
        "        super(Net, self).__init__()\n",
        "        self.fc1 = nn.Linear(1, 10)\n",
        "        self.fc2 = nn.Linear(10, 1)\n",
        "\n",
        "    def forward(self, x):\n",
        "        x = torch.relu(self.fc1(x))\n",
        "        x = self.fc2(x)\n",
        "        return x\n",
        "\n",
        "net = Net()\n",
        "\n",
        "# Define the loss function and optimizer\n",
        "criterion = nn.MSELoss()\n",
        "optimizer = optim.Adam(net.parameters())"
      ]
    },
    {
      "cell_type": "code",
      "source": [
        "# Train the network\n",
        "for epoch in range(20000):\n",
        "    optimizer.zero_grad()\n",
        "    outputs = net(torch.Tensor(celsius))\n",
        "    loss = criterion(outputs, torch.Tensor(fahrenheit))\n",
        "    loss.backward()\n",
        "    if epoch%1000 == 0:\n",
        "      print(f'epoch={epoch}  loss={loss}')\n",
        "    optimizer.step()\n"
      ],
      "metadata": {
        "colab": {
          "base_uri": "https://localhost:8080/"
        },
        "id": "rTHZqGciR8AQ",
        "outputId": "9eee070d-b7e7-4192-c75d-4fae67ed4b0b"
      },
      "execution_count": 7,
      "outputs": [
        {
          "output_type": "stream",
          "name": "stdout",
          "text": [
            "epoch=0  loss=234.24899291992188\n",
            "epoch=1000  loss=207.24659729003906\n",
            "epoch=2000  loss=171.1510009765625\n",
            "epoch=3000  loss=69.59337615966797\n",
            "epoch=4000  loss=5.364297389984131\n",
            "epoch=5000  loss=0.44418999552726746\n",
            "epoch=6000  loss=0.188143789768219\n",
            "epoch=7000  loss=0.05601298436522484\n",
            "epoch=8000  loss=0.011131789535284042\n",
            "epoch=9000  loss=0.003440320258960128\n",
            "epoch=10000  loss=0.002300832187756896\n",
            "epoch=11000  loss=0.003223295323550701\n",
            "epoch=12000  loss=0.0007198909297585487\n",
            "epoch=13000  loss=0.0010985155822709203\n",
            "epoch=14000  loss=3.774588549276814e-05\n",
            "epoch=15000  loss=0.006671917159110308\n",
            "epoch=16000  loss=0.0008637241553515196\n",
            "epoch=17000  loss=7.948181519168429e-06\n",
            "epoch=18000  loss=0.0052990359254181385\n",
            "epoch=19000  loss=1.325016091868747e-05\n"
          ]
        }
      ]
    },
    {
      "cell_type": "code",
      "source": [
        "# Test the network\n",
        "test_celsius = torch.Tensor([[0], [20], [37], [100]])\n",
        "test_fahrenheit = net(test_celsius)\n",
        "print(test_fahrenheit)"
      ],
      "metadata": {
        "colab": {
          "base_uri": "https://localhost:8080/"
        },
        "id": "7XD0-wqXR8EV",
        "outputId": "9eee1c10-dacc-4d18-f015-e8099e4e051b"
      },
      "execution_count": 8,
      "outputs": [
        {
          "output_type": "stream",
          "name": "stdout",
          "text": [
            "tensor([[ 32.0003],\n",
            "        [ 67.9835],\n",
            "        [ 98.5693],\n",
            "        [211.9166]], grad_fn=<AddmmBackward0>)\n"
          ]
        }
      ]
    },
    {
      "cell_type": "code",
      "source": [],
      "metadata": {
        "id": "Z0E7egWCSQGw"
      },
      "execution_count": null,
      "outputs": []
    }
  ]
}