{
  "cells": [
    {
      "cell_type": "markdown",
      "metadata": {
        "id": "view-in-github",
        "colab_type": "text"
      },
      "source": [
        "<a href=\"https://colab.research.google.com/github/nedlecky/CSC485B/blob/main/CSC485_200_PartClassifierStudy.ipynb\" target=\"_parent\"><img src=\"https://colab.research.google.com/assets/colab-badge.svg\" alt=\"Open In Colab\"/></a>"
      ]
    },
    {
      "cell_type": "markdown",
      "metadata": {
        "id": "nCe96qPVuVyD"
      },
      "source": [
        "# CSC 485B Spring 2023: CSC485_200_PartClassifierStudy\n",
        "## Try classifying simple parts\n",
        "* SUNY Plattsburgh, Spring 2023\n",
        "* Dr. Ned Lecky\n",
        "* nleck001@plattsburgh.edu\n",
        "* ned@lecky.com\n"
      ]
    },
    {
      "cell_type": "code",
      "source": [
        "# Setup and Support Functions\n",
        "import numpy as np\n",
        "import pandas as pd\n",
        "import matplotlib.pyplot as plt\n",
        "import os\n",
        "import sys\n",
        "import random\n",
        "\n",
        "\n",
        "# This makes us reproducible (and we can adjust fixed_seed to get different results)\n",
        "fixed_seed = 1\n",
        "\n",
        "# Return n random floats between lo and hi as 1-column NumPy matrix\n",
        "def rand_nlohi(n=1, lo=0, hi=1):\n",
        "  # This is just a uniform distribution from lo to hi... we can adjust if appropriate in the future\n",
        "  return (np.random.rand(n) * (hi - lo) + lo).reshape(-1,1)\n",
        "\n",
        "# Often a good idea as long as we are keeping values near +/- 1... don't need exponential notation\n",
        "np.set_printoptions(floatmode='fixed', precision=4, suppress=True)\n",
        "# This will get us all 400 rows printed... which fails past 40 x 2 columns\n",
        "np.set_printoptions(threshold=sys.maxsize)\n",
        "\n",
        "# Simple numpy array print with optional push to file\n",
        "def nprint(m, name='', also_write_file=False):\n",
        "  print(f\"{name} {m.shape} {m.dtype}\")\n",
        "  print(m)\n",
        "  if also_write_file and name != '':\n",
        "    fprint(m, name)\n",
        "\n",
        "# Print numpy array to file (needs name)\n",
        "path='classifier/'\n",
        "def fprint(m, name=''):\n",
        "  if name != '':\n",
        "    with open(path +  name, 'w') as f:\n",
        "      print(f\"{name} {m.shape} {m.dtype}\", file=f)\n",
        "      print(m, file=f)\n",
        "  else:\n",
        "    print('fprint needs a name!')\n",
        "\n",
        "# Remove a file and don't complain if it doesn't exist\n",
        "def remove_file(name):\n",
        "  try:\n",
        "    os.remove(name)\n",
        "  except:\n",
        "    return\n",
        "\n",
        "def empty_directory(path):\n",
        "  for file_name in os.listdir(path):\n",
        "    # construct full file path\n",
        "    file = path + file_name\n",
        "    if os.path.isfile(file):\n",
        "        print('Deleting file:', file)\n",
        "        os.remove(file)\n",
        "\n",
        "if not os.path.exists(path):\n",
        "  os.mkdir(path)\n",
        "\n",
        "empty_directory(path)\n"
      ],
      "metadata": {
        "colab": {
          "base_uri": "https://localhost:8080/"
        },
        "id": "r9HFxEwDvfsJ",
        "outputId": "1c5e92ab-da24-4889-863e-39925125d417"
      },
      "execution_count": 93,
      "outputs": [
        {
          "output_type": "stream",
          "name": "stdout",
          "text": [
            "Deleting file: classifier/X_train\n",
            "Deleting file: classifier/X_test_std\n",
            "Deleting file: classifier/y_train\n",
            "Deleting file: classifier/X\n",
            "Deleting file: classifier/X_train_std\n",
            "Deleting file: classifier/y\n",
            "Deleting file: classifier/Xy\n",
            "Deleting file: classifier/X_test\n",
            "Deleting file: classifier/y_test\n"
          ]
        }
      ]
    },
    {
      "cell_type": "markdown",
      "metadata": {
        "id": "2869c0vsuVyJ"
      },
      "source": [
        "# Create Sample Data\n"
      ]
    },
    {
      "cell_type": "markdown",
      "source": [
        "## Synthesize some reasonable data"
      ],
      "metadata": {
        "id": "xYGVvILfXYjJ"
      }
    },
    {
      "cell_type": "code",
      "execution_count": 94,
      "metadata": {
        "id": "mM4Jq0WKuVyK"
      },
      "outputs": [],
      "source": [
        "# Maybe we have three kinds of parts, small, medium, large, but their sizes overlap\n",
        "# We measure four attributes: X = [area, perimeter, num_holes, avg_holesize]\n",
        "\n",
        "def gen_small_part():\n",
        "  area = (random.random() + 1) * 100\n",
        "  perimeter = np.sqrt(area) * (random.random()+1)\n",
        "  num_holes = random.randint(3,5) # Make this 0 to force 100%...\n",
        "  avg_holesize = (random.random() + 1) * 10\n",
        "  ID = 0\n",
        "  return np.array([area, perimeter, num_holes, avg_holesize, ID]).reshape(1,-1)\n",
        "\n",
        "def gen_medium_part():\n",
        "  area = (random.random() + 1) * 20\n",
        "  perimeter = np.sqrt(area) * (random.random()+1)\n",
        "  num_holes = random.randint(3,7) # Make this 1 to force 100%...\n",
        "  avg_holesize = (random.random() + 1) * 12\n",
        "  ID = 1\n",
        "  return np.array([area, perimeter, num_holes, avg_holesize, ID]).reshape(1,-1)\n",
        "\n",
        "def gen_large_part():\n",
        "  area = (random.random() + 1) * 30\n",
        "  perimeter = np.sqrt(area) * (random.random()+1.5)\n",
        "  num_holes = random.randint(5,8)  # Make this 2 to force 100%...\n",
        "  avg_holesize = (random.random() + 1) * 13\n",
        "  ID = 2\n",
        "  return np.array([area, perimeter, num_holes, avg_holesize, ID]).reshape(1,-1)\n",
        "\n",
        "# Synthesize a cerain number of each!\n",
        "n_small = 50\n",
        "n_medium = 50\n",
        "n_large = 50\n",
        "\n",
        "# First small part\n",
        "Xy = gen_small_part()\n",
        "# Now add the rest of the smalls, then the mediums and larges\n",
        "for i in range(n_small-1):\n",
        "  Xy = np.vstack([Xy, gen_small_part()])\n",
        "for i in range(n_medium):\n",
        "  Xy = np.vstack([Xy, gen_medium_part()])\n",
        "for i in range(n_large):\n",
        "  Xy = np.vstack([Xy, gen_large_part()])\n",
        "\n",
        "fprint(Xy, 'Xy')\n",
        "\n",
        "# Pull out X and y separately\n",
        "X = Xy[:,0:4]\n",
        "y = Xy[:,4].astype(int)  \n",
        "fprint(X, 'X')\n",
        "fprint(y, 'y')\n"
      ]
    },
    {
      "cell_type": "markdown",
      "metadata": {
        "id": "gd-MTQywuVyL"
      },
      "source": [
        "## Split the data... and see the value of stratifying\n"
      ]
    },
    {
      "cell_type": "code",
      "execution_count": 95,
      "metadata": {
        "id": "WuBygpd4uVyL",
        "colab": {
          "base_uri": "https://localhost:8080/"
        },
        "outputId": "f82fc317-2285-462f-d2fc-bf5e3f06d0a7"
      },
      "outputs": [
        {
          "output_type": "stream",
          "name": "stdout",
          "text": [
            "No stratrification is BAD\n",
            "Labels count in y: [50 50 50]\n",
            "Labels count in y_train: [36 32 37]\n",
            "Labels count in y_test: [14 18 13]\n",
            "Stratified: This is GOOD\n",
            "Labels count in y: [50 50 50]\n",
            "Labels count in y_train: [35 35 35]\n",
            "Labels count in y_test: [15 15 15]\n"
          ]
        }
      ],
      "source": [
        "from sklearn.model_selection import train_test_split\n",
        "def eval_datasets():\n",
        "  print('Labels count in y:', np.bincount(y))\n",
        "  print('Labels count in y_train:', np.bincount(y_train))\n",
        "  print('Labels count in y_test:', np.bincount(y_test))\n",
        "\n",
        "X_train, X_test, y_train, y_test = train_test_split(\n",
        "    X, y, test_size=0.3, random_state=1)\n",
        "print('No stratrification is BAD')\n",
        "eval_datasets();\n",
        "\n",
        "X_train, X_test, y_train, y_test = train_test_split(\n",
        "    X, y, test_size=0.3, random_state=1, stratify=y)\n",
        "\n",
        "print('Stratified: This is GOOD')\n",
        "eval_datasets();\n",
        "\n",
        "fprint(X_train, 'X_train')\n",
        "fprint(X_test, 'X_test')\n",
        "fprint(y_train, 'y_train')\n",
        "fprint(y_test, 'y_test')\n"
      ]
    },
    {
      "cell_type": "markdown",
      "metadata": {
        "id": "gK2s8ONjuVyL"
      },
      "source": [
        "## Standardize the features"
      ]
    },
    {
      "cell_type": "code",
      "execution_count": 96,
      "metadata": {
        "id": "7_t0cRNDuVyM"
      },
      "outputs": [],
      "source": [
        "from sklearn.preprocessing import StandardScaler\n",
        "\n",
        "sc = StandardScaler()\n",
        "sc.fit(X_train)\n",
        "X_train_std = sc.transform(X_train)\n",
        "X_test_std = sc.transform(X_test)\n",
        "fprint(X_train_std, 'X_train_std')\n",
        "fprint(X_test_std, 'X_test_std')"
      ]
    },
    {
      "cell_type": "markdown",
      "metadata": {
        "id": "lctryoTcuVyO"
      },
      "source": [
        "# Build an Evaluation Function"
      ]
    },
    {
      "cell_type": "code",
      "source": [
        "# Evaluation Function\n",
        "from sklearn.metrics import accuracy_score\n",
        "\n",
        "def evaluate(classifier):\n",
        "  y_pred = classifier.predict(X_test_std)\n",
        "  n_wrong = (y_test != y_pred).sum()\n",
        "  n_total = y_pred.shape[0]\n",
        "  print(f'Misclassified TEST examples: {n_wrong} of {n_total} ({100.0*(n_total-n_wrong)/n_total:.1f}% correct)')\n",
        "\n",
        "  print(f'accuracy_score: {accuracy_score(y_test, y_pred):.3f}')\n",
        "  print(f'classifier.score: {classifier.score(X_test_std, y_test):.3f}')\n",
        "\n",
        "  y_pred_train = classifier.predict(X_train_std)\n",
        "  n_wrong = (y_train != y_pred_train).sum()\n",
        "  n_total = y_pred_train.shape[0]\n",
        "  print(f'Misclassified TRAIN examples: {n_wrong} of {n_total} ({100.0*(n_total-n_wrong)/n_total:.1f}% correct)')\n",
        "\n",
        "  print(f'accuracy_score: {accuracy_score(y_train, y_pred_train):.3f}')\n",
        "  print(f'classifier.score: {classifier.score(X_train_std, y_train):.3f}')\n",
        "\n",
        "def evaluate_raw(classifier):\n",
        "  y_pred = classifier.predict(X_test)\n",
        "  n_wrong = (y_test != y_pred).sum()\n",
        "  n_total = y_pred.shape[0]\n",
        "  print(f'Misclassified TEST examples: {n_wrong} of {n_total} ({100.0*(n_total-n_wrong)/n_total:.1f}% correct)')\n",
        "\n",
        "  print(f'accuracy_score: {accuracy_score(y_test, y_pred):.3f}')\n",
        "  print(f'classifier.score: {classifier.score(X_test_std, y_test):.3f}')\n",
        "\n",
        "  y_pred_train = classifier.predict(X_train)\n",
        "  n_wrong = (y_train != y_pred_train).sum()\n",
        "  n_total = y_pred_train.shape[0]\n",
        "  print(f'Misclassified TRAIN examples: {n_wrong} of {n_total} ({100.0*(n_total-n_wrong)/n_total:.1f}% correct)')\n",
        "\n",
        "  print(f'accuracy_score: {accuracy_score(y_train, y_pred_train):.3f}')\n",
        "  print(f'classifier.score: {classifier.score(X_train_std, y_train):.3f}')\n"
      ],
      "metadata": {
        "id": "qVhSIvShYsZF"
      },
      "execution_count": 97,
      "outputs": []
    },
    {
      "cell_type": "markdown",
      "metadata": {
        "id": "cgKxk5aEuVyM"
      },
      "source": [
        "# Training Classifiers"
      ]
    },
    {
      "cell_type": "markdown",
      "source": [
        "## Perceptron"
      ],
      "metadata": {
        "id": "Mv9zH2llbvnZ"
      }
    },
    {
      "cell_type": "code",
      "execution_count": 98,
      "metadata": {
        "colab": {
          "base_uri": "https://localhost:8080/"
        },
        "id": "wCOGIaMruVyM",
        "outputId": "b1e05aa3-038a-422f-d873-fa62570b3ea8"
      },
      "outputs": [
        {
          "output_type": "stream",
          "name": "stdout",
          "text": [
            "Misclassified TEST examples: 5 of 45 (88.9% correct)\n",
            "accuracy_score: 0.889\n",
            "classifier.score: 0.889\n",
            "Misclassified TRAIN examples: 8 of 105 (92.4% correct)\n",
            "accuracy_score: 0.924\n",
            "classifier.score: 0.924\n"
          ]
        }
      ],
      "source": [
        "from sklearn.linear_model import Perceptron\n",
        "\n",
        "ppn = Perceptron(max_iter=10000, eta0=0.1, random_state=1)\n",
        "ppn.fit(X_train_std, y_train)\n",
        "evaluate(ppn)"
      ]
    },
    {
      "cell_type": "markdown",
      "metadata": {
        "id": "0bILdpFKuVyR"
      },
      "source": [
        "## Logistic regression"
      ]
    },
    {
      "cell_type": "code",
      "execution_count": 99,
      "metadata": {
        "colab": {
          "base_uri": "https://localhost:8080/"
        },
        "id": "w51I6D2_uVyR",
        "outputId": "8bd567ec-36f6-47fd-a184-4872a509a050"
      },
      "outputs": [
        {
          "output_type": "stream",
          "name": "stdout",
          "text": [
            "Misclassified TEST examples: 4 of 45 (91.1% correct)\n",
            "accuracy_score: 0.911\n",
            "classifier.score: 0.911\n",
            "Misclassified TRAIN examples: 5 of 105 (95.2% correct)\n",
            "accuracy_score: 0.952\n",
            "classifier.score: 0.952\n"
          ]
        }
      ],
      "source": [
        "from sklearn.linear_model import LogisticRegression\n",
        "\n",
        "lr = LogisticRegression(C=100.0, random_state=1, solver='lbfgs', multi_class='ovr')\n",
        "lr.fit(X_train_std, y_train)\n",
        "evaluate(lr)\n"
      ]
    },
    {
      "cell_type": "code",
      "execution_count": 100,
      "metadata": {
        "colab": {
          "base_uri": "https://localhost:8080/"
        },
        "id": "sxEeDx0luVyU",
        "outputId": "47404aca-0df5-4b08-c76e-a5d1f323b5f7"
      },
      "outputs": [
        {
          "output_type": "stream",
          "name": "stdout",
          "text": [
            "Misclassified TEST examples: 4 of 45 (91.1% correct)\n",
            "accuracy_score: 0.911\n",
            "classifier.score: 0.911\n",
            "Misclassified TRAIN examples: 3 of 105 (97.1% correct)\n",
            "accuracy_score: 0.971\n",
            "classifier.score: 0.971\n"
          ]
        }
      ],
      "source": [
        "from sklearn.svm import SVC\n",
        "\n",
        "svm = SVC(kernel='linear', C=1.0, random_state=1)\n",
        "svm.fit(X_train_std, y_train)\n",
        "evaluate(svm)\n"
      ]
    },
    {
      "cell_type": "markdown",
      "metadata": {
        "id": "kBbeGVQ-uVyU"
      },
      "source": [
        "## Alternative implementations"
      ]
    },
    {
      "cell_type": "code",
      "execution_count": 101,
      "metadata": {
        "id": "-36yW8IjuVyV",
        "colab": {
          "base_uri": "https://localhost:8080/"
        },
        "outputId": "24f0c44b-784b-4385-aed0-aff07871ca74"
      },
      "outputs": [
        {
          "output_type": "stream",
          "name": "stdout",
          "text": [
            "Misclassified TEST examples: 7 of 45 (84.4% correct)\n",
            "accuracy_score: 0.844\n",
            "classifier.score: 0.844\n",
            "Misclassified TRAIN examples: 5 of 105 (95.2% correct)\n",
            "accuracy_score: 0.952\n",
            "classifier.score: 0.952\n",
            "Misclassified TEST examples: 5 of 45 (88.9% correct)\n",
            "accuracy_score: 0.889\n",
            "classifier.score: 0.889\n",
            "Misclassified TRAIN examples: 6 of 105 (94.3% correct)\n",
            "accuracy_score: 0.943\n",
            "classifier.score: 0.943\n",
            "Misclassified TEST examples: 5 of 45 (88.9% correct)\n",
            "accuracy_score: 0.889\n",
            "classifier.score: 0.889\n",
            "Misclassified TRAIN examples: 6 of 105 (94.3% correct)\n",
            "accuracy_score: 0.943\n",
            "classifier.score: 0.943\n"
          ]
        }
      ],
      "source": [
        "from sklearn.linear_model import SGDClassifier\n",
        "\n",
        "ppn = SGDClassifier(loss='perceptron')\n",
        "ppn.fit(X_train_std, y_train)\n",
        "evaluate(ppn)\n",
        "\n",
        "lr = SGDClassifier(loss='log')\n",
        "lr.fit(X_train_std, y_train)\n",
        "evaluate(lr)\n",
        "\n",
        "svm = SGDClassifier(loss='hinge')\n",
        "svm.fit(X_train_std, y_train)\n",
        "evaluate(svm)\n"
      ]
    },
    {
      "cell_type": "markdown",
      "metadata": {
        "id": "-6G_9jMNuVyV"
      },
      "source": [
        "<br>\n",
        "<br>"
      ]
    },
    {
      "cell_type": "code",
      "execution_count": 102,
      "metadata": {
        "colab": {
          "base_uri": "https://localhost:8080/"
        },
        "id": "1Jfe4J5wuVyW",
        "outputId": "90218947-f125-4324-810d-0f023ad3e74a"
      },
      "outputs": [
        {
          "output_type": "stream",
          "name": "stdout",
          "text": [
            "Misclassified TEST examples: 5 of 45 (88.9% correct)\n",
            "accuracy_score: 0.889\n",
            "classifier.score: 0.889\n",
            "Misclassified TRAIN examples: 5 of 105 (95.2% correct)\n",
            "accuracy_score: 0.952\n",
            "classifier.score: 0.952\n"
          ]
        }
      ],
      "source": [
        "from sklearn.svm import SVC\n",
        "\n",
        "svm = SVC(kernel='rbf', random_state=1, gamma=0.2, C=1.0)\n",
        "svm.fit(X_train_std, y_train)\n",
        "evaluate(svm)\n"
      ]
    },
    {
      "cell_type": "code",
      "execution_count": 103,
      "metadata": {
        "colab": {
          "base_uri": "https://localhost:8080/"
        },
        "id": "m1VaYMMxuVyW",
        "outputId": "cbb9d0ee-5823-498d-a551-76cd22239cd6"
      },
      "outputs": [
        {
          "output_type": "stream",
          "name": "stdout",
          "text": [
            "Misclassified TEST examples: 30 of 45 (33.3% correct)\n",
            "accuracy_score: 0.333\n",
            "classifier.score: 0.333\n",
            "Misclassified TRAIN examples: 0 of 105 (100.0% correct)\n",
            "accuracy_score: 1.000\n",
            "classifier.score: 1.000\n"
          ]
        }
      ],
      "source": [
        "svm = SVC(kernel='rbf', random_state=1, gamma=100.0, C=1.0)\n",
        "svm.fit(X_train_std, y_train)\n",
        "evaluate(svm)\n"
      ]
    },
    {
      "cell_type": "markdown",
      "metadata": {
        "id": "RTTUvFSvuVyY"
      },
      "source": [
        "## Building a decision tree"
      ]
    },
    {
      "cell_type": "code",
      "execution_count": 104,
      "metadata": {
        "id": "rar_t9lIuVyY",
        "colab": {
          "base_uri": "https://localhost:8080/"
        },
        "outputId": "bfb4cd18-cb22-4497-edd6-32fd0c4d3380"
      },
      "outputs": [
        {
          "output_type": "stream",
          "name": "stdout",
          "text": [
            "Misclassified TEST examples: 5 of 45 (88.9% correct)\n",
            "accuracy_score: 0.889\n",
            "classifier.score: 0.333\n",
            "Misclassified TRAIN examples: 0 of 105 (100.0% correct)\n",
            "accuracy_score: 1.000\n",
            "classifier.score: 0.333\n"
          ]
        }
      ],
      "source": [
        "from sklearn.tree import DecisionTreeClassifier\n",
        "\n",
        "tree_model = DecisionTreeClassifier(criterion='gini', \n",
        "                                    max_depth=6, \n",
        "                                    random_state=1)\n",
        "tree_model.fit(X_train, y_train)\n",
        "evaluate_raw(tree_model)\n",
        "\n"
      ]
    },
    {
      "cell_type": "code",
      "execution_count": 105,
      "metadata": {
        "colab": {
          "base_uri": "https://localhost:8080/",
          "height": 248
        },
        "id": "iv_2Ob-yuVyY",
        "outputId": "7681bebc-557e-4850-fde5-f67b166b310d"
      },
      "outputs": [
        {
          "output_type": "display_data",
          "data": {
            "text/plain": [
              "<Figure size 432x288 with 1 Axes>"
            ],
            "image/png": "[encoded data removed]"
          },
          "metadata": {
            "needs_background": "light"
          }
        }
      ],
      "source": [
        "from sklearn import tree\n",
        "\n",
        "tree.plot_tree(tree_model)\n",
        "plt.show()"
      ]
    },
    {
      "cell_type": "markdown",
      "metadata": {
        "id": "mva1nRiRuVyY"
      },
      "source": [
        "<br>\n",
        "<br>"
      ]
    },
    {
      "cell_type": "code",
      "execution_count": 106,
      "metadata": {
        "colab": {
          "base_uri": "https://localhost:8080/"
        },
        "id": "kehL9QkVuVyY",
        "outputId": "f5c74383-360b-4061-d2ec-2c639e4ccd4d"
      },
      "outputs": [
        {
          "output_type": "execute_result",
          "data": {
            "text/plain": [
              "True"
            ]
          },
          "metadata": {},
          "execution_count": 106
        }
      ],
      "source": [
        "from pydotplus import graph_from_dot_data\n",
        "from sklearn.tree import export_graphviz\n",
        "\n",
        "dot_data = export_graphviz(tree_model,\n",
        "                           filled=True, \n",
        "                           rounded=True,\n",
        "                           class_names=['small', \n",
        "                                        'medium',\n",
        "                                        'large'],\n",
        "                           feature_names=['area', \n",
        "                                          'perimeter',\n",
        "                                          'num_holes',\n",
        "                                          'avg_holesize'],\n",
        "                           out_file=None) \n",
        "graph = graph_from_dot_data(dot_data) \n",
        "graph.write_png('tree.png') "
      ]
    },
    {
      "cell_type": "markdown",
      "metadata": {
        "id": "aXZCMPHJuVyZ"
      },
      "source": [
        "## Combine decision trees in a random forest"
      ]
    },
    {
      "cell_type": "code",
      "execution_count": 113,
      "metadata": {
        "colab": {
          "base_uri": "https://localhost:8080/"
        },
        "id": "cbh3pvsEuVyZ",
        "outputId": "0292a9a5-dedf-45bd-9338-255e1eaf7e8c"
      },
      "outputs": [
        {
          "output_type": "stream",
          "name": "stderr",
          "text": [
            "[Parallel(n_jobs=1)]: Using backend SequentialBackend with 1 concurrent workers.\n",
            "[Parallel(n_jobs=1)]: Done 100 out of 100 | elapsed:    0.2s finished\n",
            "[Parallel(n_jobs=1)]: Using backend SequentialBackend with 1 concurrent workers.\n"
          ]
        },
        {
          "output_type": "stream",
          "name": "stdout",
          "text": [
            "Misclassified TEST examples: 5 of 45 (88.9% correct)\n",
            "accuracy_score: 0.889\n",
            "classifier.score: 0.333\n",
            "Misclassified TRAIN examples: 0 of 105 (100.0% correct)\n",
            "accuracy_score: 1.000\n",
            "classifier.score: 0.333\n"
          ]
        },
        {
          "output_type": "stream",
          "name": "stderr",
          "text": [
            "[Parallel(n_jobs=1)]: Done 100 out of 100 | elapsed:    0.0s finished\n",
            "[Parallel(n_jobs=1)]: Using backend SequentialBackend with 1 concurrent workers.\n",
            "[Parallel(n_jobs=1)]: Done 100 out of 100 | elapsed:    0.0s finished\n",
            "[Parallel(n_jobs=1)]: Using backend SequentialBackend with 1 concurrent workers.\n",
            "[Parallel(n_jobs=1)]: Done 100 out of 100 | elapsed:    0.0s finished\n",
            "[Parallel(n_jobs=1)]: Using backend SequentialBackend with 1 concurrent workers.\n",
            "[Parallel(n_jobs=1)]: Done 100 out of 100 | elapsed:    0.0s finished\n"
          ]
        }
      ],
      "source": [
        "from sklearn.ensemble import RandomForestClassifier\n",
        "\n",
        "forest = RandomForestClassifier(criterion='gini',max_depth=6,verbose=1,random_state=1)\n",
        "forest.fit(X_train, y_train)\n",
        "evaluate_raw(forest)\n"
      ]
    },
    {
      "cell_type": "markdown",
      "metadata": {
        "id": "Gd4ObvmIuVyZ"
      },
      "source": [
        "## K-nearest neighbors - a lazy learning algorithm"
      ]
    },
    {
      "cell_type": "code",
      "execution_count": 114,
      "metadata": {
        "colab": {
          "base_uri": "https://localhost:8080/"
        },
        "id": "q4C5aXRpuVya",
        "outputId": "1681de59-ce8b-42f0-dc92-579b51d0cbc0"
      },
      "outputs": [
        {
          "output_type": "stream",
          "name": "stdout",
          "text": [
            "Misclassified TEST examples: 4 of 45 (91.1% correct)\n",
            "accuracy_score: 0.911\n",
            "classifier.score: 0.911\n",
            "Misclassified TRAIN examples: 5 of 105 (95.2% correct)\n",
            "accuracy_score: 0.952\n",
            "classifier.score: 0.952\n",
            "Misclassified TEST examples: 6 of 45 (86.7% correct)\n",
            "accuracy_score: 0.867\n",
            "classifier.score: 0.333\n",
            "Misclassified TRAIN examples: 6 of 105 (94.3% correct)\n",
            "accuracy_score: 0.943\n",
            "classifier.score: 0.333\n"
          ]
        }
      ],
      "source": [
        "from sklearn.neighbors import KNeighborsClassifier\n",
        "\n",
        "knn = KNeighborsClassifier(n_neighbors=5, \n",
        "                           p=2, \n",
        "                           metric='minkowski')\n",
        "knn.fit(X_train_std, y_train)\n",
        "evaluate(knn)\n",
        "knn.fit(X_train, y_train)\n",
        "evaluate_raw(knn)\n",
        "\n"
      ]
    },
    {
      "cell_type": "code",
      "source": [],
      "metadata": {
        "id": "CX4_WMhwgYwx"
      },
      "execution_count": 108,
      "outputs": []
    }
  ],
  "metadata": {
    "anaconda-cloud": {},
    "kernelspec": {
      "display_name": "Python 3 (ipykernel)",
      "language": "python",
      "name": "python3"
    },
    "language_info": {
      "codemirror_mode": {
        "name": "ipython",
        "version": 3
      },
      "file_extension": ".py",
      "mimetype": "text/x-python",
      "name": "python",
      "nbconvert_exporter": "python",
      "pygments_lexer": "ipython3",
      "version": "3.9.13"
    },
    "toc": {
      "nav_menu": {},
      "number_sections": true,
      "sideBar": true,
      "skip_h1_title": false,
      "title_cell": "Table of Contents",
      "title_sidebar": "Contents",
      "toc_cell": false,
      "toc_position": {},
      "toc_section_display": true,
      "toc_window_display": false
    },
    "colab": {
      "provenance": [],
      "include_colab_link": true
    }
  },
  "nbformat": 4,
  "nbformat_minor": 0
}