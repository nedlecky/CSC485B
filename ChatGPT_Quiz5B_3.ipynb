{
  "nbformat": 4,
  "nbformat_minor": 0,
  "metadata": {
    "colab": {
      "provenance": [],
      "authorship_tag": "ABX9TyPqYsGkiQZAlE/pkQI2TPXx",
      "include_colab_link": true
    },
    "kernelspec": {
      "name": "python3",
      "display_name": "Python 3"
    },
    "language_info": {
      "name": "python"
    }
  },
  "cells": [
    {
      "cell_type": "markdown",
      "metadata": {
        "id": "view-in-github",
        "colab_type": "text"
      },
      "source": [
        "<a href=\"https://colab.research.google.com/github/nedlecky/CSC485B/blob/main/ChatGPT_Quiz5B_3.ipynb\" target=\"_parent\"><img src=\"https://colab.research.google.com/assets/colab-badge.svg\" alt=\"Open In Colab\"/></a>"
      ]
    },
    {
      "cell_type": "code",
      "execution_count": null,
      "metadata": {
        "colab": {
          "base_uri": "https://localhost:8080/"
        },
        "id": "6KA4c7xOQQKI",
        "outputId": "cd573db6-a8d4-4dc2-a525-c193dcd379ea"
      },
      "outputs": [
        {
          "output_type": "stream",
          "name": "stdout",
          "text": [
            "a[0] = 0.0\n",
            "a[1] = 0.5\n",
            "f1(1) = 0.5\n",
            "a[1] = 0.0\n",
            "a[2] = 0.5\n",
            "f2(1) = 0.5\n",
            "g(1) = 1.0\n",
            "None\n",
            "a[0] = 0.0\n",
            "a[1] = 0.3333333333333333\n",
            "a[2] = 1.0\n",
            "f1(2) = 1.3333333333333333\n",
            "a[1] = 0.0\n",
            "a[2] = 0.3333333333333333\n",
            "a[3] = 1.0\n",
            "f2(2) = 1.3333333333333333\n",
            "g(2) = 1.5\n",
            "None\n",
            "a[0] = 0.0\n",
            "a[1] = 0.25\n",
            "a[2] = 0.8\n",
            "a[3] = 1.5\n",
            "f1(3) = 2.55\n",
            "a[1] = 0.0\n",
            "a[2] = 0.25\n",
            "a[3] = 0.8\n",
            "a[4] = 1.5\n",
            "f2(3) = 2.55\n",
            "g(3) = 2.0\n",
            "None\n",
            "a[0] = 0.0\n",
            "a[1] = 0.2\n",
            "a[2] = 0.6666666666666666\n",
            "a[3] = 1.2857142857142858\n",
            "a[4] = 2.0\n",
            "f1(4) = 4.152380952380953\n",
            "a[1] = 0.0\n",
            "a[2] = 0.2\n",
            "a[3] = 0.6666666666666666\n",
            "a[4] = 1.2857142857142858\n",
            "a[5] = 2.0\n",
            "f2(4) = 4.152380952380953\n",
            "g(4) = 2.5\n",
            "None\n"
          ]
        }
      ],
      "source": [
        "def f1(n):\n",
        "  sum = 0\n",
        "  for k in range(0, n+1):\n",
        "    a_k = k**2 / (k+n)\n",
        "    print(f'a[{k}] = {a_k}')\n",
        "    sum += a_k\n",
        "  return sum\n",
        "\n",
        "def f2(n):\n",
        "  sum = 0\n",
        "  for i in range(1, n+2):\n",
        "    a_i = (i-1)**2 / (i+n-1)\n",
        "    print(f'a[{i}] = {a_i}')\n",
        "    sum += a_i\n",
        "  return sum\n",
        "\n",
        "def g(n):\n",
        "  return (n + 1) / 2\n",
        "\n",
        "def c(n):\n",
        "  print(f'f1({n}) = {f1(n)}')\n",
        "  print(f'f2({n}) = {f2(n)}')\n",
        "  print(f'g({n}) = {g(n)}')\n",
        "\n",
        "for n in range(1,5):\n",
        "  print(c(n)) "
      ]
    },
    {
      "cell_type": "code",
      "source": [],
      "metadata": {
        "id": "kWVpH_yXQiVB"
      },
      "execution_count": null,
      "outputs": []
    }
  ]
}